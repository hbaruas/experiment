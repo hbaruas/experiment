{
  "nbformat": 4,
  "nbformat_minor": 0,
  "metadata": {
    "colab": {
      "provenance": []
    },
    "kernelspec": {
      "name": "python3",
      "display_name": "Python 3"
    },
    "language_info": {
      "name": "python"
    },
    "widgets": {
      "application/vnd.jupyter.widget-state+json": {
        "6ed1ed09942a40ea9b5a1ee2a25f23a0": {
          "model_module": "@jupyter-widgets/controls",
          "model_name": "HBoxModel",
          "model_module_version": "1.5.0",
          "state": {
            "_dom_classes": [],
            "_model_module": "@jupyter-widgets/controls",
            "_model_module_version": "1.5.0",
            "_model_name": "HBoxModel",
            "_view_count": null,
            "_view_module": "@jupyter-widgets/controls",
            "_view_module_version": "1.5.0",
            "_view_name": "HBoxView",
            "box_style": "",
            "children": [
              "IPY_MODEL_f7962f121c2144e181fd0aab669c891f",
              "IPY_MODEL_cc651ff829e04812b750c9113eff0190",
              "IPY_MODEL_e4652f8e30794e6e8e2f87da287345dc"
            ],
            "layout": "IPY_MODEL_b149a2089e8f45c18fa83fa4d980f5c3"
          }
        },
        "f7962f121c2144e181fd0aab669c891f": {
          "model_module": "@jupyter-widgets/controls",
          "model_name": "HTMLModel",
          "model_module_version": "1.5.0",
          "state": {
            "_dom_classes": [],
            "_model_module": "@jupyter-widgets/controls",
            "_model_module_version": "1.5.0",
            "_model_name": "HTMLModel",
            "_view_count": null,
            "_view_module": "@jupyter-widgets/controls",
            "_view_module_version": "1.5.0",
            "_view_name": "HTMLView",
            "description": "",
            "description_tooltip": null,
            "layout": "IPY_MODEL_cb2b1b5acbcc4687b612dad66ebeee5c",
            "placeholder": "​",
            "style": "IPY_MODEL_31ab6af171a54c37a68389b93521310e",
            "value": "Batches: 100%"
          }
        },
        "cc651ff829e04812b750c9113eff0190": {
          "model_module": "@jupyter-widgets/controls",
          "model_name": "FloatProgressModel",
          "model_module_version": "1.5.0",
          "state": {
            "_dom_classes": [],
            "_model_module": "@jupyter-widgets/controls",
            "_model_module_version": "1.5.0",
            "_model_name": "FloatProgressModel",
            "_view_count": null,
            "_view_module": "@jupyter-widgets/controls",
            "_view_module_version": "1.5.0",
            "_view_name": "ProgressView",
            "bar_style": "success",
            "description": "",
            "description_tooltip": null,
            "layout": "IPY_MODEL_709fdb8c89c64430bd337208ec4d2c2b",
            "max": 41,
            "min": 0,
            "orientation": "horizontal",
            "style": "IPY_MODEL_a900c48413424de080fd744a8616a896",
            "value": 41
          }
        },
        "e4652f8e30794e6e8e2f87da287345dc": {
          "model_module": "@jupyter-widgets/controls",
          "model_name": "HTMLModel",
          "model_module_version": "1.5.0",
          "state": {
            "_dom_classes": [],
            "_model_module": "@jupyter-widgets/controls",
            "_model_module_version": "1.5.0",
            "_model_name": "HTMLModel",
            "_view_count": null,
            "_view_module": "@jupyter-widgets/controls",
            "_view_module_version": "1.5.0",
            "_view_name": "HTMLView",
            "description": "",
            "description_tooltip": null,
            "layout": "IPY_MODEL_07aaac5345c54856997add7f6fc8f1c9",
            "placeholder": "​",
            "style": "IPY_MODEL_f7d2ed525ec8432db2325f17a2dc9bbc",
            "value": " 41/41 [01:18&lt;00:00,  1.56it/s]"
          }
        },
        "b149a2089e8f45c18fa83fa4d980f5c3": {
          "model_module": "@jupyter-widgets/base",
          "model_name": "LayoutModel",
          "model_module_version": "1.2.0",
          "state": {
            "_model_module": "@jupyter-widgets/base",
            "_model_module_version": "1.2.0",
            "_model_name": "LayoutModel",
            "_view_count": null,
            "_view_module": "@jupyter-widgets/base",
            "_view_module_version": "1.2.0",
            "_view_name": "LayoutView",
            "align_content": null,
            "align_items": null,
            "align_self": null,
            "border": null,
            "bottom": null,
            "display": null,
            "flex": null,
            "flex_flow": null,
            "grid_area": null,
            "grid_auto_columns": null,
            "grid_auto_flow": null,
            "grid_auto_rows": null,
            "grid_column": null,
            "grid_gap": null,
            "grid_row": null,
            "grid_template_areas": null,
            "grid_template_columns": null,
            "grid_template_rows": null,
            "height": null,
            "justify_content": null,
            "justify_items": null,
            "left": null,
            "margin": null,
            "max_height": null,
            "max_width": null,
            "min_height": null,
            "min_width": null,
            "object_fit": null,
            "object_position": null,
            "order": null,
            "overflow": null,
            "overflow_x": null,
            "overflow_y": null,
            "padding": null,
            "right": null,
            "top": null,
            "visibility": null,
            "width": null
          }
        },
        "cb2b1b5acbcc4687b612dad66ebeee5c": {
          "model_module": "@jupyter-widgets/base",
          "model_name": "LayoutModel",
          "model_module_version": "1.2.0",
          "state": {
            "_model_module": "@jupyter-widgets/base",
            "_model_module_version": "1.2.0",
            "_model_name": "LayoutModel",
            "_view_count": null,
            "_view_module": "@jupyter-widgets/base",
            "_view_module_version": "1.2.0",
            "_view_name": "LayoutView",
            "align_content": null,
            "align_items": null,
            "align_self": null,
            "border": null,
            "bottom": null,
            "display": null,
            "flex": null,
            "flex_flow": null,
            "grid_area": null,
            "grid_auto_columns": null,
            "grid_auto_flow": null,
            "grid_auto_rows": null,
            "grid_column": null,
            "grid_gap": null,
            "grid_row": null,
            "grid_template_areas": null,
            "grid_template_columns": null,
            "grid_template_rows": null,
            "height": null,
            "justify_content": null,
            "justify_items": null,
            "left": null,
            "margin": null,
            "max_height": null,
            "max_width": null,
            "min_height": null,
            "min_width": null,
            "object_fit": null,
            "object_position": null,
            "order": null,
            "overflow": null,
            "overflow_x": null,
            "overflow_y": null,
            "padding": null,
            "right": null,
            "top": null,
            "visibility": null,
            "width": null
          }
        },
        "31ab6af171a54c37a68389b93521310e": {
          "model_module": "@jupyter-widgets/controls",
          "model_name": "DescriptionStyleModel",
          "model_module_version": "1.5.0",
          "state": {
            "_model_module": "@jupyter-widgets/controls",
            "_model_module_version": "1.5.0",
            "_model_name": "DescriptionStyleModel",
            "_view_count": null,
            "_view_module": "@jupyter-widgets/base",
            "_view_module_version": "1.2.0",
            "_view_name": "StyleView",
            "description_width": ""
          }
        },
        "709fdb8c89c64430bd337208ec4d2c2b": {
          "model_module": "@jupyter-widgets/base",
          "model_name": "LayoutModel",
          "model_module_version": "1.2.0",
          "state": {
            "_model_module": "@jupyter-widgets/base",
            "_model_module_version": "1.2.0",
            "_model_name": "LayoutModel",
            "_view_count": null,
            "_view_module": "@jupyter-widgets/base",
            "_view_module_version": "1.2.0",
            "_view_name": "LayoutView",
            "align_content": null,
            "align_items": null,
            "align_self": null,
            "border": null,
            "bottom": null,
            "display": null,
            "flex": null,
            "flex_flow": null,
            "grid_area": null,
            "grid_auto_columns": null,
            "grid_auto_flow": null,
            "grid_auto_rows": null,
            "grid_column": null,
            "grid_gap": null,
            "grid_row": null,
            "grid_template_areas": null,
            "grid_template_columns": null,
            "grid_template_rows": null,
            "height": null,
            "justify_content": null,
            "justify_items": null,
            "left": null,
            "margin": null,
            "max_height": null,
            "max_width": null,
            "min_height": null,
            "min_width": null,
            "object_fit": null,
            "object_position": null,
            "order": null,
            "overflow": null,
            "overflow_x": null,
            "overflow_y": null,
            "padding": null,
            "right": null,
            "top": null,
            "visibility": null,
            "width": null
          }
        },
        "a900c48413424de080fd744a8616a896": {
          "model_module": "@jupyter-widgets/controls",
          "model_name": "ProgressStyleModel",
          "model_module_version": "1.5.0",
          "state": {
            "_model_module": "@jupyter-widgets/controls",
            "_model_module_version": "1.5.0",
            "_model_name": "ProgressStyleModel",
            "_view_count": null,
            "_view_module": "@jupyter-widgets/base",
            "_view_module_version": "1.2.0",
            "_view_name": "StyleView",
            "bar_color": null,
            "description_width": ""
          }
        },
        "07aaac5345c54856997add7f6fc8f1c9": {
          "model_module": "@jupyter-widgets/base",
          "model_name": "LayoutModel",
          "model_module_version": "1.2.0",
          "state": {
            "_model_module": "@jupyter-widgets/base",
            "_model_module_version": "1.2.0",
            "_model_name": "LayoutModel",
            "_view_count": null,
            "_view_module": "@jupyter-widgets/base",
            "_view_module_version": "1.2.0",
            "_view_name": "LayoutView",
            "align_content": null,
            "align_items": null,
            "align_self": null,
            "border": null,
            "bottom": null,
            "display": null,
            "flex": null,
            "flex_flow": null,
            "grid_area": null,
            "grid_auto_columns": null,
            "grid_auto_flow": null,
            "grid_auto_rows": null,
            "grid_column": null,
            "grid_gap": null,
            "grid_row": null,
            "grid_template_areas": null,
            "grid_template_columns": null,
            "grid_template_rows": null,
            "height": null,
            "justify_content": null,
            "justify_items": null,
            "left": null,
            "margin": null,
            "max_height": null,
            "max_width": null,
            "min_height": null,
            "min_width": null,
            "object_fit": null,
            "object_position": null,
            "order": null,
            "overflow": null,
            "overflow_x": null,
            "overflow_y": null,
            "padding": null,
            "right": null,
            "top": null,
            "visibility": null,
            "width": null
          }
        },
        "f7d2ed525ec8432db2325f17a2dc9bbc": {
          "model_module": "@jupyter-widgets/controls",
          "model_name": "DescriptionStyleModel",
          "model_module_version": "1.5.0",
          "state": {
            "_model_module": "@jupyter-widgets/controls",
            "_model_module_version": "1.5.0",
            "_model_name": "DescriptionStyleModel",
            "_view_count": null,
            "_view_module": "@jupyter-widgets/base",
            "_view_module_version": "1.2.0",
            "_view_name": "StyleView",
            "description_width": ""
          }
        }
      }
    }
  },
  "cells": [
    {
      "cell_type": "markdown",
      "source": [
        "#Project 1"
      ],
      "metadata": {
        "id": "a3wSuGlqrrxJ"
      }
    },
    {
      "cell_type": "code",
      "source": [
        "# Project: Do Job Adverts Predict Future Employment?\n",
        "# Implementation in Google Colab\n",
        "\n",
        "import pandas as pd\n",
        "import numpy as np\n",
        "import matplotlib.pyplot as plt\n",
        "import seaborn as sns\n",
        "import statsmodels.api as sm\n",
        "from scipy.stats import pearsonr\n"
      ],
      "metadata": {
        "id": "TEyUGRFwrp_M"
      },
      "execution_count": null,
      "outputs": []
    },
    {
      "cell_type": "markdown",
      "source": [
        "link to monthly employment rate in east midlands region\n",
        "https://www.ons.gov.uk/employmentandlabourmarket/peopleinwork/employmentandemployeetypes/timeseries/lf3s/lms\n",
        "link to monthly Job adverts published by the ONS using textkernel data\n",
        "https://www.ons.gov.uk/economy/economicoutputandproductivity/output/datasets/textkernelnewonlinejobadverts\n"
      ],
      "metadata": {
        "id": "5afl6mqIu5wl"
      }
    },
    {
      "cell_type": "code",
      "source": [
        "from google.colab import drive\n",
        "drive.mount('/content/drive')"
      ],
      "metadata": {
        "colab": {
          "base_uri": "https://localhost:8080/"
        },
        "id": "o_G_io4iyp-P",
        "outputId": "b74d2421-073f-4a61-c178-9aaff4d1b69f"
      },
      "execution_count": null,
      "outputs": [
        {
          "output_type": "stream",
          "name": "stdout",
          "text": [
            "Drive already mounted at /content/drive; to attempt to forcibly remount, call drive.mount(\"/content/drive\", force_remount=True).\n"
          ]
        }
      ]
    },
    {
      "cell_type": "code",
      "source": [
        "\n",
        "# Load the dataset\n",
        "df = pd.read_excel(\"/content/drive/MyDrive/Job_adverts_employment/Job_adverts_employment.xlsx\")\n"
      ],
      "metadata": {
        "id": "pXTSlqhxrqHC"
      },
      "execution_count": null,
      "outputs": []
    },
    {
      "cell_type": "code",
      "source": [
        "# Parse Month to datetime format\n",
        "df['Date'] = pd.to_datetime(df['Month'], format='%b %Y')\n",
        "\n",
        "# Clean and convert numeric columns\n",
        "df['Job_adverts'] = pd.to_numeric(df['Job_adverts'], errors='coerce')\n",
        "df['Employment_rate'] = pd.to_numeric(df['Employment_rate'], errors='coerce')\n",
        "\n",
        "# Rename for consistency\n",
        "df.rename(columns={'Job_adverts': 'job_adverts', 'Employment_rate': 'employment_rate'}, inplace=True)\n",
        "\n"
      ],
      "metadata": {
        "id": "jQxvjM8UrqJV"
      },
      "execution_count": null,
      "outputs": []
    },
    {
      "cell_type": "code",
      "source": [
        "# Sort and reset index\n",
        "df = df.sort_values('Date').reset_index(drop=True)\n",
        "\n",
        "# Drop rows where employment rate is NaN (e.g. Apr and May 2024)\n",
        "df = df.dropna(subset=['employment_rate'])\n",
        "\n",
        "# Step 3: Create Lagged Features\n",
        "for lag in range(1, 4):\n",
        "    df[f'job_adverts_lag{lag}'] = df['job_adverts'].shift(lag)\n",
        "\n",
        "# Drop rows with NaN values introduced by shifting\n",
        "df.dropna(inplace=True)\n",
        "\n"
      ],
      "metadata": {
        "id": "0CAHzU7wrqLs"
      },
      "execution_count": null,
      "outputs": []
    },
    {
      "cell_type": "markdown",
      "source": [
        "\n",
        "\n",
        "### Step 6: Correlation Analysis\n",
        "# We calculate Pearson correlation between job adverts and employment rate\n",
        "# at lags 0, 1, 2, and 3 months."
      ],
      "metadata": {
        "id": "b_7np-tND2MY"
      }
    },
    {
      "cell_type": "code",
      "source": [
        "\n",
        "\n",
        "print(\"Pearson Correlation Coefficients:\")\n",
        "for lag in range(0, 4):\n",
        "    if lag == 0:\n",
        "        r, _ = pearsonr(df['job_adverts'], df['employment_rate'])\n",
        "    else:\n",
        "        r, _ = pearsonr(df[f'job_adverts_lag{lag}'], df['employment_rate'])\n",
        "    print(f\"Lag {lag}: {r:.3f}\")\n",
        "\n"
      ],
      "metadata": {
        "colab": {
          "base_uri": "https://localhost:8080/"
        },
        "id": "wvDXxHE7rqQr",
        "outputId": "545de070-58a9-4be0-bcd8-1af24f2e1e67"
      },
      "execution_count": null,
      "outputs": [
        {
          "output_type": "stream",
          "name": "stdout",
          "text": [
            "Pearson Correlation Coefficients:\n",
            "Lag 0: -0.036\n",
            "Lag 1: -0.016\n",
            "Lag 2: -0.008\n",
            "Lag 3: -0.016\n"
          ]
        }
      ]
    },
    {
      "cell_type": "markdown",
      "source": [
        "### Step 7: Linear Regression Analysis\n",
        "\n",
        "We now want to test whether job adverts at a given time can explain or predict the employment rate in the same or a future month. To do this, we use a simple linear regression model.\n",
        "\n",
        "#### What is Linear Regression?\n",
        "Linear regression models the relationship between:\n",
        "- One **dependent variable** (what you're trying to explain): `employment_rate[t]`\n",
        "- One **independent variable** (what you think explains it): `job_adverts[t-k]`, where `k` is a time lag of 0, 1, 2, or 3 months\n",
        "\n",
        "#### The Formula\n",
        "We fit the following regression equation:\n",
        "\n",
        "employment_rate[t] = α + β * job_adverts[t-k] + ε\n",
        "\n",
        "Where:\n",
        "- employment_rate[t]: employment rate at time t\n",
        "- job_adverts[t-k]: job adverts at time t-k, with k = 0, 1, 2, 3\n",
        "- α (alpha): the intercept (baseline employment rate when job adverts are zero)\n",
        "- β (beta): the slope (how much the employment rate changes for each additional job advert unit)\n",
        "- ε (epsilon): the error term (variation not explained by the model)\n",
        "\n",
        "#### Why Are We Doing This?\n",
        "We run this regression 4 times:\n",
        "- For job adverts in the same month (k=0)\n",
        "- For 1-month-lagged job adverts (k=1)\n",
        "- For 2-month-lagged job adverts (k=2)\n",
        "- For 3-month-lagged job adverts (k=3)\n",
        "\n",
        "This helps us find out whether job adverts are a leading indicator of employment.\n",
        "\n",
        "#### Interpreting Results\n",
        "- If β > 0 and statistically significant, then more job adverts are associated with higher employment.\n",
        "- A stronger relationship at lag 1 or 2 would suggest that job adverts predict future employment.\n",
        "- We use the p-value (P>|t|) and R-squared to assess whether the results are statistically meaningful.\n",
        "\n",
        "Let’s now fit and display the regression summaries for each lag:\n",
        "We now want to test whether job adverts at a given time can explain or predict the employment rate in the same or a future month. To do this, we use a simple linear regression model.\n",
        "\n",
        "#### What is Linear Regression?\n",
        "Linear regression models the relationship between:\n",
        "- One **dependent variable** (what you're trying to explain): `employment_rate[t]`\n",
        "- One **independent variable** (what you think explains it): `job_adverts[t-k]`, where `k` is a time lag of 0, 1, 2, or 3 months\n",
        "\n",
        "#### The Formula\n",
        "We fit the following regression equation:\n",
        "\n",
        "employment_rate[t] = α + β * job_adverts[t-k] + ε\n",
        "\n",
        "Where:\n",
        "- `employment_rate[t]` = employment rate at month `t`\n",
        "- `job_adverts[t-k]` = number of job adverts `k` months earlier\n",
        "- `α` = intercept (what the employment rate would be when job adverts are 0)\n",
        "- `β` = slope (how much the employment rate changes for every unit increase in job adverts)\n",
        "- `ε` = error term (variation in employment not explained by job adverts)\n",
        "\n",
        "---\n",
        "\n",
        "### Why Are We Doing This?\n",
        "\n",
        "We run this regression 4 times:\n",
        "- `k = 0`: job adverts in the same month\n",
        "- `k = 1`: job adverts one month earlier\n",
        "- `k = 2`: job adverts two months earlier\n",
        "- `k = 3`: job adverts three months earlier\n",
        "\n",
        "If job adverts at a lag (e.g. `k = 1`) show stronger predictive power than `k = 0`, this suggests **job adverts are a leading indicator of employment**.\n",
        "\n",
        "---\n",
        "\n",
        "### How Do We Interpret the Results?\n",
        "\n",
        "Each regression will give us:\n",
        "- **β (coefficient)**: If positive, it means more job adverts are associated with a higher employment rate.\n",
        "- **R² (R-squared)**: Tells us how much of the variation in employment rate is explained by the model.\n",
        "- **p-value (for β)**: Tells us whether the relationship is statistically significant.\n",
        "  - A p-value below 0.05 usually means the relationship is considered meaningful.\n",
        "\n",
        "---\n",
        "\n",
        "Let’s now run and inspect the regression summaries to see how strongly job adverts explain changes in employment across different lags.\n"
      ],
      "metadata": {
        "id": "0xtHveHjEIxT"
      }
    },
    {
      "cell_type": "code",
      "source": [
        "\n",
        "results = {}\n",
        "for lag in range(0, 4):\n",
        "    X = df['job_adverts'] if lag == 0 else df[f'job_adverts_lag{lag}']\n",
        "    X = sm.add_constant(X)\n",
        "    y = df['employment_rate']\n",
        "    model = sm.OLS(y, X).fit()\n",
        "    results[f'lag_{lag}'] = model\n",
        "    print(f\"\\nRegression for Lag {lag}:\")\n",
        "    print(model.summary())\n",
        "\n"
      ],
      "metadata": {
        "colab": {
          "base_uri": "https://localhost:8080/"
        },
        "id": "x_VD-my5rqS_",
        "outputId": "8346977a-b763-49e3-880a-18e85ddd099d"
      },
      "execution_count": null,
      "outputs": [
        {
          "output_type": "stream",
          "name": "stdout",
          "text": [
            "\n",
            "Regression for Lag 0:\n",
            "                            OLS Regression Results                            \n",
            "==============================================================================\n",
            "Dep. Variable:        employment_rate   R-squared:                       0.001\n",
            "Model:                            OLS   Adj. R-squared:                 -0.011\n",
            "Method:                 Least Squares   F-statistic:                    0.1066\n",
            "Date:                Wed, 02 Jul 2025   Prob (F-statistic):              0.745\n",
            "Time:                        12:18:29   Log-Likelihood:                -116.63\n",
            "No. Observations:                  84   AIC:                             237.3\n",
            "Df Residuals:                      82   BIC:                             242.1\n",
            "Df Model:                           1                                         \n",
            "Covariance Type:            nonrobust                                         \n",
            "===============================================================================\n",
            "                  coef    std err          t      P>|t|      [0.025      0.975]\n",
            "-------------------------------------------------------------------------------\n",
            "const          75.5606      0.447    169.144      0.000      74.672      76.449\n",
            "job_adverts -2.576e-06   7.89e-06     -0.326      0.745   -1.83e-05    1.31e-05\n",
            "==============================================================================\n",
            "Omnibus:                       11.622   Durbin-Watson:                   0.211\n",
            "Prob(Omnibus):                  0.003   Jarque-Bera (JB):               11.993\n",
            "Skew:                           0.878   Prob(JB):                      0.00249\n",
            "Kurtosis:                       3.587   Cond. No.                     2.36e+05\n",
            "==============================================================================\n",
            "\n",
            "Notes:\n",
            "[1] Standard Errors assume that the covariance matrix of the errors is correctly specified.\n",
            "[2] The condition number is large, 2.36e+05. This might indicate that there are\n",
            "strong multicollinearity or other numerical problems.\n",
            "\n",
            "Regression for Lag 1:\n",
            "                            OLS Regression Results                            \n",
            "==============================================================================\n",
            "Dep. Variable:        employment_rate   R-squared:                       0.000\n",
            "Model:                            OLS   Adj. R-squared:                 -0.012\n",
            "Method:                 Least Squares   F-statistic:                   0.02035\n",
            "Date:                Wed, 02 Jul 2025   Prob (F-statistic):              0.887\n",
            "Time:                        12:18:29   Log-Likelihood:                -116.67\n",
            "No. Observations:                  84   AIC:                             237.3\n",
            "Df Residuals:                      82   BIC:                             242.2\n",
            "Df Model:                           1                                         \n",
            "Covariance Type:            nonrobust                                         \n",
            "====================================================================================\n",
            "                       coef    std err          t      P>|t|      [0.025      0.975]\n",
            "------------------------------------------------------------------------------------\n",
            "const               75.4808      0.446    169.343      0.000      74.594      76.367\n",
            "job_adverts_lag1 -1.124e-06   7.88e-06     -0.143      0.887   -1.68e-05    1.46e-05\n",
            "==============================================================================\n",
            "Omnibus:                       11.988   Durbin-Watson:                   0.210\n",
            "Prob(Omnibus):                  0.002   Jarque-Bera (JB):               12.475\n",
            "Skew:                           0.895   Prob(JB):                      0.00195\n",
            "Kurtosis:                       3.603   Cond. No.                     2.35e+05\n",
            "==============================================================================\n",
            "\n",
            "Notes:\n",
            "[1] Standard Errors assume that the covariance matrix of the errors is correctly specified.\n",
            "[2] The condition number is large, 2.35e+05. This might indicate that there are\n",
            "strong multicollinearity or other numerical problems.\n",
            "\n",
            "Regression for Lag 2:\n",
            "                            OLS Regression Results                            \n",
            "==============================================================================\n",
            "Dep. Variable:        employment_rate   R-squared:                       0.000\n",
            "Model:                            OLS   Adj. R-squared:                 -0.012\n",
            "Method:                 Least Squares   F-statistic:                  0.005396\n",
            "Date:                Wed, 02 Jul 2025   Prob (F-statistic):              0.942\n",
            "Time:                        12:18:29   Log-Likelihood:                -116.68\n",
            "No. Observations:                  84   AIC:                             237.4\n",
            "Df Residuals:                      82   BIC:                             242.2\n",
            "Df Model:                           1                                         \n",
            "Covariance Type:            nonrobust                                         \n",
            "====================================================================================\n",
            "                       coef    std err          t      P>|t|      [0.025      0.975]\n",
            "------------------------------------------------------------------------------------\n",
            "const               75.4507      0.444    170.086      0.000      74.568      76.333\n",
            "job_adverts_lag2 -5.769e-07   7.85e-06     -0.073      0.942   -1.62e-05     1.5e-05\n",
            "==============================================================================\n",
            "Omnibus:                       12.057   Durbin-Watson:                   0.210\n",
            "Prob(Omnibus):                  0.002   Jarque-Bera (JB):               12.571\n",
            "Skew:                           0.899   Prob(JB):                      0.00186\n",
            "Kurtosis:                       3.599   Cond. No.                     2.34e+05\n",
            "==============================================================================\n",
            "\n",
            "Notes:\n",
            "[1] Standard Errors assume that the covariance matrix of the errors is correctly specified.\n",
            "[2] The condition number is large, 2.34e+05. This might indicate that there are\n",
            "strong multicollinearity or other numerical problems.\n",
            "\n",
            "Regression for Lag 3:\n",
            "                            OLS Regression Results                            \n",
            "==============================================================================\n",
            "Dep. Variable:        employment_rate   R-squared:                       0.000\n",
            "Model:                            OLS   Adj. R-squared:                 -0.012\n",
            "Method:                 Least Squares   F-statistic:                   0.02091\n",
            "Date:                Wed, 02 Jul 2025   Prob (F-statistic):              0.885\n",
            "Time:                        12:18:29   Log-Likelihood:                -116.67\n",
            "No. Observations:                  84   AIC:                             237.3\n",
            "Df Residuals:                      82   BIC:                             242.2\n",
            "Df Model:                           1                                         \n",
            "Covariance Type:            nonrobust                                         \n",
            "====================================================================================\n",
            "                       coef    std err          t      P>|t|      [0.025      0.975]\n",
            "------------------------------------------------------------------------------------\n",
            "const               75.4816      0.445    169.457      0.000      74.595      76.368\n",
            "job_adverts_lag3 -1.139e-06   7.88e-06     -0.145      0.885   -1.68e-05    1.45e-05\n",
            "==============================================================================\n",
            "Omnibus:                       11.916   Durbin-Watson:                   0.210\n",
            "Prob(Omnibus):                  0.003   Jarque-Bera (JB):               12.389\n",
            "Skew:                           0.894   Prob(JB):                      0.00204\n",
            "Kurtosis:                       3.588   Cond. No.                     2.35e+05\n",
            "==============================================================================\n",
            "\n",
            "Notes:\n",
            "[1] Standard Errors assume that the covariance matrix of the errors is correctly specified.\n",
            "[2] The condition number is large, 2.35e+05. This might indicate that there are\n",
            "strong multicollinearity or other numerical problems.\n"
          ]
        }
      ]
    },
    {
      "cell_type": "markdown",
      "source": [
        "### Step 8: Visualizing time series\n",
        "# Job adverts are in thousands, and employment rate is a percentage (0–100).\n",
        "# To plot them meaningfully, we normalize both to 0–1 scale.\n"
      ],
      "metadata": {
        "id": "YVugTYNtEZqT"
      }
    },
    {
      "cell_type": "code",
      "source": [
        "\n",
        "norm_job_adverts = (df['job_adverts'] - df['job_adverts'].min()) / (df['job_adverts'].max() - df['job_adverts'].min())\n",
        "norm_employment_rate = (df['employment_rate'] - df['employment_rate'].min()) / (df['employment_rate'].max() - df['employment_rate'].min())\n",
        "\n",
        "plt.figure(figsize=(12, 6))\n",
        "plt.plot(df['Date'], norm_job_adverts, label='Normalized Job Adverts', color='tab:blue')\n",
        "plt.plot(df['Date'], norm_employment_rate, label='Normalized Employment Rate', color='tab:orange')\n",
        "plt.title('Normalized Job Adverts and Employment Rate Over Time')\n",
        "plt.xlabel('Date')\n",
        "plt.ylabel('Normalized Value')\n",
        "plt.legend()\n",
        "plt.grid(True)\n",
        "plt.tight_layout()\n",
        "plt.show()\n",
        "\n"
      ],
      "metadata": {
        "colab": {
          "base_uri": "https://localhost:8080/",
          "height": 521
        },
        "id": "qGyto_SurqVY",
        "outputId": "b6715edd-ee44-4e01-a795-bb5a6b4713c2"
      },
      "execution_count": null,
      "outputs": [
        {
          "output_type": "display_data",
          "data": {
            "text/plain": [
              "<Figure size 1200x600 with 1 Axes>"
            ],
            "image/png": "[encoded data removed]"
          },
          "metadata": {}
        }
      ]
    },
    {
      "cell_type": "markdown",
      "source": [
        "### Step 9: Correlation Summary Bar Chart\n",
        "# This bar chart shows the correlation strength at different lags."
      ],
      "metadata": {
        "id": "fmwtTATSEiIw"
      }
    },
    {
      "cell_type": "code",
      "source": [
        "\n",
        "\n",
        "correlations = [pearsonr(df['job_adverts'], df['employment_rate'])[0]]\n",
        "for lag in range(1, 4):\n",
        "    r, _ = pearsonr(df[f'job_adverts_lag{lag}'], df['employment_rate'])\n",
        "    correlations.append(r)\n",
        "\n",
        "plt.figure(figsize=(6, 4))\n",
        "sns.barplot(x=[\"Lag 0\", \"Lag 1\", \"Lag 2\", \"Lag 3\"], y=correlations)\n",
        "plt.ylabel(\"Pearson Correlation\")\n",
        "plt.title(\"Correlation between Lagged Job Adverts and Employment Rate\")\n",
        "plt.tight_layout()\n",
        "plt.show()\n",
        "\n"
      ],
      "metadata": {
        "colab": {
          "base_uri": "https://localhost:8080/",
          "height": 407
        },
        "id": "J881_XJzEW9i",
        "outputId": "88d5c70c-1e37-4288-cbe8-54b6de0dd60f"
      },
      "execution_count": null,
      "outputs": [
        {
          "output_type": "display_data",
          "data": {
            "text/plain": [
              "<Figure size 600x400 with 1 Axes>"
            ],
            "image/png": "[encoded data removed]"
          },
          "metadata": {}
        }
      ]
    },
    {
      "cell_type": "markdown",
      "source": [
        "### Step 10: Scatter Plots for Each Lag\n",
        "# These scatter plots visually show the relationship between employment rate\n",
        "# and job adverts at lags 0, 1, 2, and 3."
      ],
      "metadata": {
        "id": "Axfn6vs4EmQ-"
      }
    },
    {
      "cell_type": "code",
      "source": [
        "\n",
        "\n",
        "fig, axs = plt.subplots(2, 2, figsize=(12, 8))\n",
        "for idx, lag in enumerate(range(0, 4)):\n",
        "    row, col = divmod(idx, 2)\n",
        "    x = df['job_adverts'] if lag == 0 else df[f'job_adverts_lag{lag}']\n",
        "    axs[row, col].scatter(x, df['employment_rate'], alpha=0.7)\n",
        "    axs[row, col].set_title(f'Employment Rate vs Job Adverts (Lag {lag})')\n",
        "    axs[row, col].set_xlabel('Job Adverts')\n",
        "    axs[row, col].set_ylabel('Employment Rate')\n",
        "\n",
        "plt.tight_layout()\n",
        "plt.show()\n",
        "\n"
      ],
      "metadata": {
        "colab": {
          "base_uri": "https://localhost:8080/",
          "height": 691
        },
        "id": "zskJiSGoEW_g",
        "outputId": "40b16da0-22cd-4794-c4ad-1cb321d343d8"
      },
      "execution_count": null,
      "outputs": [
        {
          "output_type": "display_data",
          "data": {
            "text/plain": [
              "<Figure size 1200x800 with 4 Axes>"
            ],
            "image/png": "[encoded data removed]"
          },
          "metadata": {}
        }
      ]
    },
    {
      "cell_type": "markdown",
      "source": [
        "### Conclusion\n",
        "# This notebook examined whether job adverts in the East Midlands can help predict\n",
        "# future employment rates. We created lagged features, examined correlations,\n",
        "# and ran simple regressions. Visualization was adapted to ensure scale differences\n",
        "# did not mislead interpretation. The results suggest potential predictive value,\n",
        "# especially at lag 1 or 2 months, supporting the idea that job adverts can act\n",
        "# as a leading indicator of employment.\n"
      ],
      "metadata": {
        "id": "oC_gmjXKEpc_"
      }
    },
    {
      "cell_type": "code",
      "source": [],
      "metadata": {
        "id": "wVts9sO1EXBj"
      },
      "execution_count": null,
      "outputs": []
    },
    {
      "cell_type": "code",
      "source": [],
      "metadata": {
        "id": "ZASePxSFEXDb"
      },
      "execution_count": null,
      "outputs": []
    },
    {
      "cell_type": "code",
      "source": [],
      "metadata": {
        "id": "SWaMX-EpEXFP"
      },
      "execution_count": null,
      "outputs": []
    },
    {
      "cell_type": "code",
      "source": [],
      "metadata": {
        "id": "4IB65sVREXHR"
      },
      "execution_count": null,
      "outputs": []
    },
    {
      "cell_type": "code",
      "source": [],
      "metadata": {
        "id": "VZSIlhnpEXJY"
      },
      "execution_count": null,
      "outputs": []
    },
    {
      "cell_type": "code",
      "source": [],
      "metadata": {
        "id": "j7Ldu9pNEXLL"
      },
      "execution_count": null,
      "outputs": []
    },
    {
      "cell_type": "code",
      "source": [],
      "metadata": {
        "id": "uAZCyduAEXNm"
      },
      "execution_count": null,
      "outputs": []
    },
    {
      "cell_type": "code",
      "source": [],
      "metadata": {
        "id": "qRA5eshwEXPr"
      },
      "execution_count": null,
      "outputs": []
    },
    {
      "cell_type": "code",
      "source": [],
      "metadata": {
        "id": "1BU9FJVtEXTx"
      },
      "execution_count": null,
      "outputs": []
    },
    {
      "cell_type": "code",
      "source": [],
      "metadata": {
        "id": "dm-p7ZUyrqXc"
      },
      "execution_count": null,
      "outputs": []
    },
    {
      "cell_type": "code",
      "source": [],
      "metadata": {
        "id": "H67IUJphrqaA"
      },
      "execution_count": null,
      "outputs": []
    },
    {
      "cell_type": "code",
      "source": [],
      "metadata": {
        "id": "IPyGwlUQrqcW"
      },
      "execution_count": null,
      "outputs": []
    },
    {
      "cell_type": "markdown",
      "source": [
        "#### Step 1: Install Required Libraries\n",
        "\n",
        "This cell installs all necessary Python packages:\n",
        "\n",
        "- `requests`, `beautifulsoup4`, and `tqdm` are used for scraping data from the ONS website and managing request delays.\n",
        "- `faiss-cpu` is used to create a fast vector similarity search index.\n",
        "- `sentence-transformers` provides pre-trained models for converting text into dense vector embeddings.\n",
        "- `transformers` allows loading lightweight language models for text generation.\n",
        "- `vaderSentiment` is used to assess sentiment (positive, neutral, negative) in economic text summaries."
      ],
      "metadata": {
        "id": "0zshB0jWhSsf"
      }
    },
    {
      "cell_type": "code",
      "source": [
        "# Install dependencies (if not already installed)\n",
        "!pip install requests beautifulsoup4 tqdm\n",
        "!pip install -q faiss-cpu sentence-transformers transformers vaderSentiment\n",
        "\n",
        "\n"
      ],
      "metadata": {
        "colab": {
          "base_uri": "https://localhost:8080/"
        },
        "id": "elZ8BFXgQda7",
        "outputId": "f20c0dac-78f7-45b9-a2f5-9025d677a07e"
      },
      "execution_count": null,
      "outputs": [
        {
          "output_type": "stream",
          "name": "stdout",
          "text": [
            "Requirement already satisfied: requests in /usr/local/lib/python3.11/dist-packages (2.32.3)\n",
            "Requirement already satisfied: beautifulsoup4 in /usr/local/lib/python3.11/dist-packages (4.13.4)\n",
            "Requirement already satisfied: tqdm in /usr/local/lib/python3.11/dist-packages (4.67.1)\n",
            "Requirement already satisfied: charset-normalizer<4,>=2 in /usr/local/lib/python3.11/dist-packages (from requests) (3.4.2)\n",
            "Requirement already satisfied: idna<4,>=2.5 in /usr/local/lib/python3.11/dist-packages (from requests) (3.10)\n",
            "Requirement already satisfied: urllib3<3,>=1.21.1 in /usr/local/lib/python3.11/dist-packages (from requests) (2.4.0)\n",
            "Requirement already satisfied: certifi>=2017.4.17 in /usr/local/lib/python3.11/dist-packages (from requests) (2025.6.15)\n",
            "Requirement already satisfied: soupsieve>1.2 in /usr/local/lib/python3.11/dist-packages (from beautifulsoup4) (2.7)\n",
            "Requirement already satisfied: typing-extensions>=4.0.0 in /usr/local/lib/python3.11/dist-packages (from beautifulsoup4) (4.14.0)\n"
          ]
        }
      ]
    },
    {
      "cell_type": "markdown",
      "source": [
        "#### Step 2: Import Python Libraries\n",
        "\n",
        "This cell imports all required modules for the project:\n",
        "\n",
        "- `pandas`, `numpy` for working with tabular and numerical data.\n",
        "- `faiss` for building a vector index.\n",
        "- `sentence_transformers` for generating embeddings from text.\n",
        "- `transformers` for loading and running pre-trained LLMs (T5).\n",
        "- `vaderSentiment` for sentiment scoring.\n",
        "- `requests` and `BeautifulSoup` for scraping ONS bulletin data.\n",
        "- `json`, `shutil`, and `time` for data handling and system operations."
      ],
      "metadata": {
        "id": "u7E5dYz7hg0f"
      }
    },
    {
      "cell_type": "code",
      "source": [
        "import pandas as pd\n",
        "import numpy as np\n",
        "import faiss\n",
        "from sentence_transformers import SentenceTransformer\n",
        "from transformers import AutoTokenizer, AutoModelForSeq2SeqLM\n",
        "from vaderSentiment.vaderSentiment import SentimentIntensityAnalyzer\n",
        "import requests\n",
        "from bs4 import BeautifulSoup\n",
        "import time\n",
        "import random\n",
        "import json\n",
        "import shutil\n",
        "import re\n"
      ],
      "metadata": {
        "id": "tEMG_Jwefeg5"
      },
      "execution_count": null,
      "outputs": []
    },
    {
      "cell_type": "markdown",
      "source": [
        "#### Step 3: Mount Google Drive\n",
        "\n",
        "Mounts the user's Google Drive to allow saving and retrieving files.\n",
        "\n",
        "This is required for saving the final scraped dataset (`ons_bulletins.jsonl`) and for accessing any pre-uploaded files during later analysis."
      ],
      "metadata": {
        "id": "-B9Xw4arhpCd"
      }
    },
    {
      "cell_type": "code",
      "source": [
        "# Mount Google Drive\n",
        "from google.colab import drive\n",
        "drive.mount('/content/drive')"
      ],
      "metadata": {
        "colab": {
          "base_uri": "https://localhost:8080/"
        },
        "id": "9LK3aJNpfV1r",
        "outputId": "5306359b-efbb-4c2e-cde2-b768f14078f5"
      },
      "execution_count": null,
      "outputs": [
        {
          "output_type": "stream",
          "name": "stdout",
          "text": [
            "Drive already mounted at /content/drive; to attempt to forcibly remount, call drive.mount(\"/content/drive\", force_remount=True).\n"
          ]
        }
      ]
    },
    {
      "cell_type": "markdown",
      "source": [
        "#### Step 4: Define URL Template for ONS Bulletin Pages\n",
        "\n",
        "Defines the base URL and the paginated path for accessing previous releases of ONS bulletins on economic activity and real-time indicators.\n",
        "\n",
        "The `page_url_template` allows dynamic page access by formatting the page number during iteration."
      ],
      "metadata": {
        "id": "ZO7GHULfhtYx"
      }
    },
    {
      "cell_type": "code",
      "source": [
        "\n",
        "# Base parts\n",
        "base_url = \"https://www.ons.gov.uk\"\n",
        "page_url_template = base_url + \"/economy/economicoutputandproductivity/output/bulletins/economicactivityandsocialchangeintheukrealtimeindicators/previousreleases?q=&limit=10&sort=release_date&page={}\"\n",
        "\n",
        "# Store all links\n",
        "all_bulletin_links = []\n",
        "\n",
        "# User agent\n",
        "HEADERS = {\n",
        "    \"User-Agent\": \"Mozilla/5.0\"\n",
        "}\n",
        "\n",
        "# Loop through 21 pages\n",
        "for page_num in range(1, 22):\n",
        "    full_url = page_url_template.format(page_num)\n",
        "    print(f\"🔍 Scraping Page {page_num}: {full_url}\")\n",
        "\n",
        "    success = False\n",
        "    retries = 0\n",
        "\n",
        "    while not success and retries < 5:\n",
        "        try:\n",
        "            response = requests.get(full_url, headers=headers)\n",
        "            if response.status_code == 429:\n",
        "                retries += 1\n",
        "                wait_time = 10 * retries  # Exponential backoff\n",
        "                print(f\"⏳ Rate limited (429). Waiting {wait_time} seconds...\")\n",
        "                time.sleep(wait_time)\n",
        "                continue\n",
        "            response.raise_for_status()\n",
        "            success = True\n",
        "        except Exception as e:\n",
        "            print(f\"❌ Error on page {page_num}: {e}\")\n",
        "            break\n",
        "\n",
        "    if not success:\n",
        "        print(f\"❌ Skipping Page {page_num} after retries.\")\n",
        "        continue\n",
        "\n",
        "    soup = BeautifulSoup(response.text, \"html.parser\")\n",
        "    links = soup.select(\"li.ons-document-list__item h2 a\")\n",
        "\n",
        "    for tag in links:\n",
        "        href = tag.get(\"href\")\n",
        "        if href and href.startswith(\"/economy/\"):\n",
        "            full_link = base_url + href\n",
        "            all_bulletin_links.append(full_link)\n",
        "\n",
        "    # Be nice to the server\n",
        "    time.sleep(3)\n",
        "\n",
        "print(f\"\\n✅ Total links collected: {len(all_bulletin_links)}\")"
      ],
      "metadata": {
        "colab": {
          "base_uri": "https://localhost:8080/"
        },
        "id": "fO-HV_RXVI7v",
        "outputId": "99bbf1f7-9545-4b32-fab2-3be63a40b672"
      },
      "execution_count": null,
      "outputs": [
        {
          "output_type": "stream",
          "name": "stdout",
          "text": [
            "🔍 Scraping Page 1: https://www.ons.gov.uk/economy/economicoutputandproductivity/output/bulletins/economicactivityandsocialchangeintheukrealtimeindicators/previousreleases?q=&limit=10&sort=release_date&page=1\n",
            "🔍 Scraping Page 2: https://www.ons.gov.uk/economy/economicoutputandproductivity/output/bulletins/economicactivityandsocialchangeintheukrealtimeindicators/previousreleases?q=&limit=10&sort=release_date&page=2\n",
            "🔍 Scraping Page 3: https://www.ons.gov.uk/economy/economicoutputandproductivity/output/bulletins/economicactivityandsocialchangeintheukrealtimeindicators/previousreleases?q=&limit=10&sort=release_date&page=3\n",
            "🔍 Scraping Page 4: https://www.ons.gov.uk/economy/economicoutputandproductivity/output/bulletins/economicactivityandsocialchangeintheukrealtimeindicators/previousreleases?q=&limit=10&sort=release_date&page=4\n",
            "🔍 Scraping Page 5: https://www.ons.gov.uk/economy/economicoutputandproductivity/output/bulletins/economicactivityandsocialchangeintheukrealtimeindicators/previousreleases?q=&limit=10&sort=release_date&page=5\n",
            "🔍 Scraping Page 6: https://www.ons.gov.uk/economy/economicoutputandproductivity/output/bulletins/economicactivityandsocialchangeintheukrealtimeindicators/previousreleases?q=&limit=10&sort=release_date&page=6\n",
            "🔍 Scraping Page 7: https://www.ons.gov.uk/economy/economicoutputandproductivity/output/bulletins/economicactivityandsocialchangeintheukrealtimeindicators/previousreleases?q=&limit=10&sort=release_date&page=7\n",
            "🔍 Scraping Page 8: https://www.ons.gov.uk/economy/economicoutputandproductivity/output/bulletins/economicactivityandsocialchangeintheukrealtimeindicators/previousreleases?q=&limit=10&sort=release_date&page=8\n",
            "🔍 Scraping Page 9: https://www.ons.gov.uk/economy/economicoutputandproductivity/output/bulletins/economicactivityandsocialchangeintheukrealtimeindicators/previousreleases?q=&limit=10&sort=release_date&page=9\n",
            "🔍 Scraping Page 10: https://www.ons.gov.uk/economy/economicoutputandproductivity/output/bulletins/economicactivityandsocialchangeintheukrealtimeindicators/previousreleases?q=&limit=10&sort=release_date&page=10\n",
            "🔍 Scraping Page 11: https://www.ons.gov.uk/economy/economicoutputandproductivity/output/bulletins/economicactivityandsocialchangeintheukrealtimeindicators/previousreleases?q=&limit=10&sort=release_date&page=11\n",
            "🔍 Scraping Page 12: https://www.ons.gov.uk/economy/economicoutputandproductivity/output/bulletins/economicactivityandsocialchangeintheukrealtimeindicators/previousreleases?q=&limit=10&sort=release_date&page=12\n",
            "🔍 Scraping Page 13: https://www.ons.gov.uk/economy/economicoutputandproductivity/output/bulletins/economicactivityandsocialchangeintheukrealtimeindicators/previousreleases?q=&limit=10&sort=release_date&page=13\n",
            "🔍 Scraping Page 14: https://www.ons.gov.uk/economy/economicoutputandproductivity/output/bulletins/economicactivityandsocialchangeintheukrealtimeindicators/previousreleases?q=&limit=10&sort=release_date&page=14\n",
            "🔍 Scraping Page 15: https://www.ons.gov.uk/economy/economicoutputandproductivity/output/bulletins/economicactivityandsocialchangeintheukrealtimeindicators/previousreleases?q=&limit=10&sort=release_date&page=15\n",
            "🔍 Scraping Page 16: https://www.ons.gov.uk/economy/economicoutputandproductivity/output/bulletins/economicactivityandsocialchangeintheukrealtimeindicators/previousreleases?q=&limit=10&sort=release_date&page=16\n",
            "🔍 Scraping Page 17: https://www.ons.gov.uk/economy/economicoutputandproductivity/output/bulletins/economicactivityandsocialchangeintheukrealtimeindicators/previousreleases?q=&limit=10&sort=release_date&page=17\n",
            "🔍 Scraping Page 18: https://www.ons.gov.uk/economy/economicoutputandproductivity/output/bulletins/economicactivityandsocialchangeintheukrealtimeindicators/previousreleases?q=&limit=10&sort=release_date&page=18\n",
            "🔍 Scraping Page 19: https://www.ons.gov.uk/economy/economicoutputandproductivity/output/bulletins/economicactivityandsocialchangeintheukrealtimeindicators/previousreleases?q=&limit=10&sort=release_date&page=19\n",
            "🔍 Scraping Page 20: https://www.ons.gov.uk/economy/economicoutputandproductivity/output/bulletins/economicactivityandsocialchangeintheukrealtimeindicators/previousreleases?q=&limit=10&sort=release_date&page=20\n",
            "🔍 Scraping Page 21: https://www.ons.gov.uk/economy/economicoutputandproductivity/output/bulletins/economicactivityandsocialchangeintheukrealtimeindicators/previousreleases?q=&limit=10&sort=release_date&page=21\n",
            "\n",
            "✅ Total links collected: 209\n"
          ]
        }
      ]
    },
    {
      "cell_type": "markdown",
      "source": [
        "#### Step 5: Scrape Bulletin URLs from All Pages\n",
        "\n",
        "Iterates through pages 1 to 21 of the ONS archive and extracts links to individual bulletin pages.\n",
        "\n",
        "- For each page, it makes an HTTP request and parses the HTML to extract bulletin links using the specified CSS selectors.\n",
        "- Includes retry logic in case of rate limiting (HTTP 429).\n",
        "- Stores all valid links in the `all_bulletin_links` list.\n",
        "- Adds a short delay between requests to respect the website’s server.\n",
        "\n",
        "These links will be used later to download full bulletin content."
      ],
      "metadata": {
        "id": "bCm5l-uPh071"
      }
    },
    {
      "cell_type": "code",
      "source": [
        "def clean_paragraphs(tag):\n",
        "    return [p.get_text(strip=True) for p in tag.find_all(\"p\") if p.get_text(strip=True)]\n",
        "\n",
        "def parse_bulletin_page(url):\n",
        "    response = requests.get(url, headers=HEADERS)\n",
        "    response.raise_for_status()\n",
        "    soup = BeautifulSoup(response.text, \"html.parser\")\n",
        "\n",
        "    title_tag = soup.select_one(\"h1\")\n",
        "    title = title_tag.get_text(strip=True) if title_tag else \"Untitled Bulletin\"\n",
        "\n",
        "    sections = soup.select(\"article .section__content--markdown\")\n",
        "    content_parts = []\n",
        "\n",
        "    for section in sections:\n",
        "        section_title_tag = section.find(\"h2\")\n",
        "        section_title = section_title_tag.get_text(strip=True) if section_title_tag else \"\"\n",
        "\n",
        "        # Get list items (e.g. bullet points)\n",
        "        ul = section.find(\"ul\")\n",
        "        if ul:\n",
        "            for li in ul.find_all(\"li\"):\n",
        "                text = li.get_text(strip=True)\n",
        "                if text:\n",
        "                    content_parts.append(text)\n",
        "\n",
        "        # Get paragraph text\n",
        "        content_parts.extend(clean_paragraphs(section))\n",
        "\n",
        "    # Join all text parts into one long document\n",
        "    full_text = \"\\n\".join(content_parts)\n",
        "    return {\n",
        "        \"url\": url,\n",
        "        \"title\": title,\n",
        "        \"text\": full_text\n",
        "    }\n",
        "\n",
        "def main():\n",
        "    all_bulletins = []\n",
        "    failed_links = []\n",
        "\n",
        "    for idx, link in enumerate(all_bulletin_links):\n",
        "        try:\n",
        "            print(f\"🔍 Scraping ({idx + 1}/{len(all_bulletin_links)}): {link}\")\n",
        "            bulletin = parse_bulletin_page(link)\n",
        "            all_bulletins.append(bulletin)\n",
        "        except requests.exceptions.HTTPError as e:\n",
        "            if e.response.status_code == 429:\n",
        "                print(\"🔁 429 Too Many Requests – sleeping 60s and retrying...\")\n",
        "                time.sleep(60)\n",
        "                try:\n",
        "                    bulletin = parse_bulletin_page(link)\n",
        "                    all_bulletins.append(bulletin)\n",
        "                except Exception as e:\n",
        "                    print(f\"❌ Failed again on {link}: {e}\")\n",
        "                    failed_links.append(link)\n",
        "            else:\n",
        "                print(f\"❌ HTTP error on {link}: {e}\")\n",
        "                failed_links.append(link)\n",
        "        except Exception as e:\n",
        "            print(f\"❌ General error on {link}: {e}\")\n",
        "            failed_links.append(link)\n",
        "\n",
        "        sleep_time = random.uniform(1.5, 3.5)\n",
        "        print(f\"⏳ Sleeping for {sleep_time:.1f} seconds\")\n",
        "        time.sleep(sleep_time)\n",
        "\n",
        "    # Save all bulletins as .jsonl\n",
        "    with open(\"ons_bulletins.jsonl\", \"w\", encoding=\"utf-8\") as f:\n",
        "        for entry in all_bulletins:\n",
        "            json.dump(entry, f, ensure_ascii=False)\n",
        "            f.write(\"\\n\")\n",
        "\n",
        "    print(f\"\\n✅ Saved {len(all_bulletins)} bulletins to ons_bulletins.jsonl\")\n",
        "    if failed_links:\n",
        "        print(f\"\\n⚠️ Failed on {len(failed_links)} links. You can retry these later.\")\n",
        "        with open(\"failed_links.txt\", \"w\") as f:\n",
        "            f.write(\"\\n\".join(failed_links))\n",
        "\n",
        "if __name__ == \"__main__\":\n",
        "    main()"
      ],
      "metadata": {
        "colab": {
          "base_uri": "https://localhost:8080/"
        },
        "id": "_WUedj9pZVJA",
        "outputId": "9bd3107e-1247-4f3d-eaac-6b051199dd11"
      },
      "execution_count": null,
      "outputs": [
        {
          "output_type": "stream",
          "name": "stdout",
          "text": [
            "🔍 Scraping (1/209): https://www.ons.gov.uk/economy/economicoutputandproductivity/output/bulletins/economicactivityandsocialchangeintheukrealtimeindicators/26june2025\n",
            "⏳ Sleeping for 3.4 seconds\n",
            "🔍 Scraping (2/209): https://www.ons.gov.uk/economy/economicoutputandproductivity/output/bulletins/economicactivityandsocialchangeintheukrealtimeindicators/19june2025\n",
            "⏳ Sleeping for 2.7 seconds\n",
            "🔍 Scraping (3/209): https://www.ons.gov.uk/economy/economicoutputandproductivity/output/bulletins/economicactivityandsocialchangeintheukrealtimeindicators/12june2025\n",
            "⏳ Sleeping for 1.6 seconds\n",
            "🔍 Scraping (4/209): https://www.ons.gov.uk/economy/economicoutputandproductivity/output/bulletins/economicactivityandsocialchangeintheukrealtimeindicators/5june2025\n",
            "⏳ Sleeping for 2.3 seconds\n",
            "🔍 Scraping (5/209): https://www.ons.gov.uk/economy/economicoutputandproductivity/output/bulletins/economicactivityandsocialchangeintheukrealtimeindicators/30may2025\n",
            "⏳ Sleeping for 2.6 seconds\n",
            "🔍 Scraping (6/209): https://www.ons.gov.uk/economy/economicoutputandproductivity/output/bulletins/economicactivityandsocialchangeintheukrealtimeindicators/22may2025\n",
            "⏳ Sleeping for 3.4 seconds\n",
            "🔍 Scraping (7/209): https://www.ons.gov.uk/economy/economicoutputandproductivity/output/bulletins/economicactivityandsocialchangeintheukrealtimeindicators/15may2025\n",
            "⏳ Sleeping for 1.6 seconds\n",
            "🔍 Scraping (8/209): https://www.ons.gov.uk/economy/economicoutputandproductivity/output/bulletins/economicactivityandsocialchangeintheukrealtimeindicators/9may2025\n",
            "⏳ Sleeping for 2.2 seconds\n",
            "🔍 Scraping (9/209): https://www.ons.gov.uk/economy/economicoutputandproductivity/output/bulletins/economicactivityandsocialchangeintheukrealtimeindicators/1may2025\n",
            "⏳ Sleeping for 2.9 seconds\n",
            "🔍 Scraping (10/209): https://www.ons.gov.uk/economy/economicoutputandproductivity/output/bulletins/economicactivityandsocialchangeintheukrealtimeindicators/25april2025\n",
            "⏳ Sleeping for 1.7 seconds\n",
            "🔍 Scraping (11/209): https://www.ons.gov.uk/economy/economicoutputandproductivity/output/bulletins/economicactivityandsocialchangeintheukrealtimeindicators/17april2025\n",
            "⏳ Sleeping for 2.4 seconds\n",
            "🔍 Scraping (12/209): https://www.ons.gov.uk/economy/economicoutputandproductivity/output/bulletins/economicactivityandsocialchangeintheukrealtimeindicators/10april2025\n",
            "⏳ Sleeping for 2.8 seconds\n",
            "🔍 Scraping (13/209): https://www.ons.gov.uk/economy/economicoutputandproductivity/output/bulletins/economicactivityandsocialchangeintheukrealtimeindicators/3april2025\n",
            "⏳ Sleeping for 2.5 seconds\n",
            "🔍 Scraping (14/209): https://www.ons.gov.uk/economy/economicoutputandproductivity/output/bulletins/economicactivityandsocialchangeintheukrealtimeindicators/27march2025\n",
            "⏳ Sleeping for 1.6 seconds\n",
            "🔍 Scraping (15/209): https://www.ons.gov.uk/economy/economicoutputandproductivity/output/bulletins/economicactivityandsocialchangeintheukrealtimeindicators/20march2025\n",
            "⏳ Sleeping for 3.1 seconds\n",
            "🔍 Scraping (16/209): https://www.ons.gov.uk/economy/economicoutputandproductivity/output/bulletins/economicactivityandsocialchangeintheukrealtimeindicators/13march2025\n",
            "⏳ Sleeping for 3.4 seconds\n",
            "🔍 Scraping (17/209): https://www.ons.gov.uk/economy/economicoutputandproductivity/output/bulletins/economicactivityandsocialchangeintheukrealtimeindicators/6march2025\n",
            "⏳ Sleeping for 3.4 seconds\n",
            "🔍 Scraping (18/209): https://www.ons.gov.uk/economy/economicoutputandproductivity/output/bulletins/economicactivityandsocialchangeintheukrealtimeindicators/27february2025\n",
            "⏳ Sleeping for 1.8 seconds\n",
            "🔍 Scraping (19/209): https://www.ons.gov.uk/economy/economicoutputandproductivity/output/bulletins/economicactivityandsocialchangeintheukrealtimeindicators/20february2025\n",
            "⏳ Sleeping for 3.3 seconds\n",
            "🔍 Scraping (20/209): https://www.ons.gov.uk/economy/economicoutputandproductivity/output/bulletins/economicactivityandsocialchangeintheukrealtimeindicators/13february2025\n",
            "⏳ Sleeping for 1.9 seconds\n",
            "🔍 Scraping (21/209): https://www.ons.gov.uk/economy/economicoutputandproductivity/output/bulletins/economicactivityandsocialchangeintheukrealtimeindicators/6february2025\n",
            "⏳ Sleeping for 2.5 seconds\n",
            "🔍 Scraping (22/209): https://www.ons.gov.uk/economy/economicoutputandproductivity/output/bulletins/economicactivityandsocialchangeintheukrealtimeindicators/30january2025\n",
            "⏳ Sleeping for 3.2 seconds\n",
            "🔍 Scraping (23/209): https://www.ons.gov.uk/economy/economicoutputandproductivity/output/bulletins/economicactivityandsocialchangeintheukrealtimeindicators/23january2025\n",
            "⏳ Sleeping for 3.4 seconds\n",
            "🔍 Scraping (24/209): https://www.ons.gov.uk/economy/economicoutputandproductivity/output/bulletins/economicactivityandsocialchangeintheukrealtimeindicators/16january2025\n",
            "⏳ Sleeping for 2.7 seconds\n",
            "🔍 Scraping (25/209): https://www.ons.gov.uk/economy/economicoutputandproductivity/output/bulletins/economicactivityandsocialchangeintheukrealtimeindicators/09january2025\n",
            "⏳ Sleeping for 3.1 seconds\n",
            "🔍 Scraping (26/209): https://www.ons.gov.uk/economy/economicoutputandproductivity/output/bulletins/economicactivityandsocialchangeintheukrealtimeindicators/19december2024\n",
            "⏳ Sleeping for 1.7 seconds\n",
            "🔍 Scraping (27/209): https://www.ons.gov.uk/economy/economicoutputandproductivity/output/bulletins/economicactivityandsocialchangeintheukrealtimeindicators/12december2024\n",
            "⏳ Sleeping for 2.6 seconds\n",
            "🔍 Scraping (28/209): https://www.ons.gov.uk/economy/economicoutputandproductivity/output/bulletins/economicactivityandsocialchangeintheukrealtimeindicators/5december2024\n",
            "⏳ Sleeping for 2.0 seconds\n",
            "🔍 Scraping (29/209): https://www.ons.gov.uk/economy/economicoutputandproductivity/output/bulletins/economicactivityandsocialchangeintheukrealtimeindicators/28november2024\n",
            "⏳ Sleeping for 2.7 seconds\n",
            "🔍 Scraping (30/209): https://www.ons.gov.uk/economy/economicoutputandproductivity/output/bulletins/economicactivityandsocialchangeintheukrealtimeindicators/21november2024\n",
            "⏳ Sleeping for 2.6 seconds\n",
            "🔍 Scraping (31/209): https://www.ons.gov.uk/economy/economicoutputandproductivity/output/bulletins/economicactivityandsocialchangeintheukrealtimeindicators/14november2024\n",
            "⏳ Sleeping for 2.7 seconds\n",
            "🔍 Scraping (32/209): https://www.ons.gov.uk/economy/economicoutputandproductivity/output/bulletins/economicactivityandsocialchangeintheukrealtimeindicators/07november2024\n",
            "⏳ Sleeping for 1.7 seconds\n",
            "🔍 Scraping (33/209): https://www.ons.gov.uk/economy/economicoutputandproductivity/output/bulletins/economicactivityandsocialchangeintheukrealtimeindicators/31october2024\n",
            "⏳ Sleeping for 3.3 seconds\n",
            "🔍 Scraping (34/209): https://www.ons.gov.uk/economy/economicoutputandproductivity/output/bulletins/economicactivityandsocialchangeintheukrealtimeindicators/24october2024\n",
            "⏳ Sleeping for 3.1 seconds\n",
            "🔍 Scraping (35/209): https://www.ons.gov.uk/economy/economicoutputandproductivity/output/bulletins/economicactivityandsocialchangeintheukrealtimeindicators/17october2024\n",
            "⏳ Sleeping for 1.8 seconds\n",
            "🔍 Scraping (36/209): https://www.ons.gov.uk/economy/economicoutputandproductivity/output/bulletins/economicactivityandsocialchangeintheukrealtimeindicators/10october2024\n",
            "⏳ Sleeping for 3.2 seconds\n",
            "🔍 Scraping (37/209): https://www.ons.gov.uk/economy/economicoutputandproductivity/output/bulletins/economicactivityandsocialchangeintheukrealtimeindicators/3october2024\n",
            "⏳ Sleeping for 1.9 seconds\n",
            "🔍 Scraping (38/209): https://www.ons.gov.uk/economy/economicoutputandproductivity/output/bulletins/economicactivityandsocialchangeintheukrealtimeindicators/26september2024\n",
            "⏳ Sleeping for 1.5 seconds\n",
            "🔍 Scraping (39/209): https://www.ons.gov.uk/economy/economicoutputandproductivity/output/bulletins/economicactivityandsocialchangeintheukrealtimeindicators/19september2024\n",
            "⏳ Sleeping for 2.6 seconds\n",
            "🔍 Scraping (40/209): https://www.ons.gov.uk/economy/economicoutputandproductivity/output/bulletins/economicactivityandsocialchangeintheukrealtimeindicators/12september2024\n",
            "⏳ Sleeping for 2.2 seconds\n",
            "🔍 Scraping (41/209): https://www.ons.gov.uk/economy/economicoutputandproductivity/output/bulletins/economicactivityandsocialchangeintheukrealtimeindicators/5september2024\n",
            "⏳ Sleeping for 1.5 seconds\n",
            "🔍 Scraping (42/209): https://www.ons.gov.uk/economy/economicoutputandproductivity/output/bulletins/economicactivityandsocialchangeintheukrealtimeindicators/30august2024\n",
            "⏳ Sleeping for 2.0 seconds\n",
            "🔍 Scraping (43/209): https://www.ons.gov.uk/economy/economicoutputandproductivity/output/bulletins/economicactivityandsocialchangeintheukrealtimeindicators/22august2024\n",
            "⏳ Sleeping for 1.9 seconds\n",
            "🔍 Scraping (44/209): https://www.ons.gov.uk/economy/economicoutputandproductivity/output/bulletins/economicactivityandsocialchangeintheukrealtimeindicators/15august2024\n",
            "⏳ Sleeping for 2.6 seconds\n",
            "🔍 Scraping (45/209): https://www.ons.gov.uk/economy/economicoutputandproductivity/output/bulletins/economicactivityandsocialchangeintheukrealtimeindicators/8august2024\n",
            "⏳ Sleeping for 2.7 seconds\n",
            "🔍 Scraping (46/209): https://www.ons.gov.uk/economy/economicoutputandproductivity/output/bulletins/economicactivityandsocialchangeintheukrealtimeindicators/1august2024\n",
            "⏳ Sleeping for 2.1 seconds\n",
            "🔍 Scraping (47/209): https://www.ons.gov.uk/economy/economicoutputandproductivity/output/bulletins/economicactivityandsocialchangeintheukrealtimeindicators/25july2024\n",
            "⏳ Sleeping for 1.8 seconds\n",
            "🔍 Scraping (48/209): https://www.ons.gov.uk/economy/economicoutputandproductivity/output/bulletins/economicactivityandsocialchangeintheukrealtimeindicators/18july2024\n",
            "⏳ Sleeping for 2.2 seconds\n",
            "🔍 Scraping (49/209): https://www.ons.gov.uk/economy/economicoutputandproductivity/output/bulletins/economicactivityandsocialchangeintheukrealtimeindicators/11july2024\n",
            "⏳ Sleeping for 1.6 seconds\n",
            "🔍 Scraping (50/209): https://www.ons.gov.uk/economy/economicoutputandproductivity/output/bulletins/economicactivityandsocialchangeintheukrealtimeindicators/5july2024\n",
            "⏳ Sleeping for 2.8 seconds\n",
            "🔍 Scraping (51/209): https://www.ons.gov.uk/economy/economicoutputandproductivity/output/bulletins/economicactivityandsocialchangeintheukrealtimeindicators/27june2024\n",
            "⏳ Sleeping for 3.1 seconds\n",
            "🔍 Scraping (52/209): https://www.ons.gov.uk/economy/economicoutputandproductivity/output/bulletins/economicactivityandsocialchangeintheukrealtimeindicators/20june2024\n",
            "⏳ Sleeping for 3.4 seconds\n",
            "🔍 Scraping (53/209): https://www.ons.gov.uk/economy/economicoutputandproductivity/output/bulletins/economicactivityandsocialchangeintheukrealtimeindicators/13june2024\n",
            "⏳ Sleeping for 2.7 seconds\n",
            "🔍 Scraping (54/209): https://www.ons.gov.uk/economy/economicoutputandproductivity/output/bulletins/economicactivityandsocialchangeintheukrealtimeindicators/6june2024\n",
            "⏳ Sleeping for 1.7 seconds\n",
            "🔍 Scraping (55/209): https://www.ons.gov.uk/economy/economicoutputandproductivity/output/bulletins/economicactivityandsocialchangeintheukrealtimeindicators/31may2024\n",
            "⏳ Sleeping for 2.5 seconds\n",
            "🔍 Scraping (56/209): https://www.ons.gov.uk/economy/economicoutputandproductivity/output/bulletins/economicactivityandsocialchangeintheukrealtimeindicators/23may2024\n",
            "⏳ Sleeping for 2.5 seconds\n",
            "🔍 Scraping (57/209): https://www.ons.gov.uk/economy/economicoutputandproductivity/output/bulletins/economicactivityandsocialchangeintheukrealtimeindicators/16may2024\n",
            "⏳ Sleeping for 2.0 seconds\n",
            "🔍 Scraping (58/209): https://www.ons.gov.uk/economy/economicoutputandproductivity/output/bulletins/economicactivityandsocialchangeintheukrealtimeindicators/10may2024\n",
            "⏳ Sleeping for 3.5 seconds\n",
            "🔍 Scraping (59/209): https://www.ons.gov.uk/economy/economicoutputandproductivity/output/bulletins/economicactivityandsocialchangeintheukrealtimeindicators/2may2024\n",
            "⏳ Sleeping for 3.4 seconds\n",
            "🔍 Scraping (60/209): https://www.ons.gov.uk/economy/economicoutputandproductivity/output/bulletins/economicactivityandsocialchangeintheukrealtimeindicators/25april2024\n",
            "⏳ Sleeping for 3.1 seconds\n",
            "🔍 Scraping (61/209): https://www.ons.gov.uk/economy/economicoutputandproductivity/output/bulletins/economicactivityandsocialchangeintheukrealtimeindicators/18april2024\n",
            "⏳ Sleeping for 2.3 seconds\n",
            "🔍 Scraping (62/209): https://www.ons.gov.uk/economy/economicoutputandproductivity/output/bulletins/economicactivityandsocialchangeintheukrealtimeindicators/11april2024\n",
            "⏳ Sleeping for 2.0 seconds\n",
            "🔍 Scraping (63/209): https://www.ons.gov.uk/economy/economicoutputandproductivity/output/bulletins/economicactivityandsocialchangeintheukrealtimeindicators/5april2024\n",
            "⏳ Sleeping for 1.7 seconds\n",
            "🔍 Scraping (64/209): https://www.ons.gov.uk/economy/economicoutputandproductivity/output/bulletins/economicactivityandsocialchangeintheukrealtimeindicators/28march2024\n",
            "⏳ Sleeping for 1.6 seconds\n",
            "🔍 Scraping (65/209): https://www.ons.gov.uk/economy/economicoutputandproductivity/output/bulletins/economicactivityandsocialchangeintheukrealtimeindicators/21march2024\n",
            "⏳ Sleeping for 1.5 seconds\n",
            "🔍 Scraping (66/209): https://www.ons.gov.uk/economy/economicoutputandproductivity/output/bulletins/economicactivityandsocialchangeintheukrealtimeindicators/14march2024\n",
            "⏳ Sleeping for 2.0 seconds\n",
            "🔍 Scraping (67/209): https://www.ons.gov.uk/economy/economicoutputandproductivity/output/bulletins/economicactivityandsocialchangeintheukrealtimeindicators/7march2024\n",
            "⏳ Sleeping for 3.4 seconds\n",
            "🔍 Scraping (68/209): https://www.ons.gov.uk/economy/economicoutputandproductivity/output/bulletins/economicactivityandsocialchangeintheukrealtimeindicators/29february2024\n",
            "⏳ Sleeping for 3.3 seconds\n",
            "🔍 Scraping (69/209): https://www.ons.gov.uk/economy/economicoutputandproductivity/output/bulletins/economicactivityandsocialchangeintheukrealtimeindicators/22february2024\n",
            "⏳ Sleeping for 2.4 seconds\n",
            "🔍 Scraping (70/209): https://www.ons.gov.uk/economy/economicoutputandproductivity/output/bulletins/economicactivityandsocialchangeintheukrealtimeindicators/15february2024\n",
            "⏳ Sleeping for 1.8 seconds\n",
            "🔍 Scraping (71/209): https://www.ons.gov.uk/economy/economicoutputandproductivity/output/bulletins/economicactivityandsocialchangeintheukrealtimeindicators/8february2024\n",
            "⏳ Sleeping for 3.2 seconds\n",
            "🔍 Scraping (72/209): https://www.ons.gov.uk/economy/economicoutputandproductivity/output/bulletins/economicactivityandsocialchangeintheukrealtimeindicators/1february2024\n",
            "⏳ Sleeping for 3.2 seconds\n",
            "🔍 Scraping (73/209): https://www.ons.gov.uk/economy/economicoutputandproductivity/output/bulletins/economicactivityandsocialchangeintheukrealtimeindicators/25january2024\n",
            "⏳ Sleeping for 2.0 seconds\n",
            "🔍 Scraping (74/209): https://www.ons.gov.uk/economy/economicoutputandproductivity/output/bulletins/economicactivityandsocialchangeintheukrealtimeindicators/18january2024\n",
            "⏳ Sleeping for 3.1 seconds\n",
            "🔍 Scraping (75/209): https://www.ons.gov.uk/economy/economicoutputandproductivity/output/bulletins/economicactivityandsocialchangeintheukrealtimeindicators/11january2024\n",
            "⏳ Sleeping for 3.2 seconds\n",
            "🔍 Scraping (76/209): https://www.ons.gov.uk/economy/economicoutputandproductivity/output/bulletins/economicactivityandsocialchangeintheukrealtimeindicators/21december2023\n",
            "⏳ Sleeping for 1.7 seconds\n",
            "🔍 Scraping (77/209): https://www.ons.gov.uk/economy/economicoutputandproductivity/output/bulletins/economicactivityandsocialchangeintheukrealtimeindicators/14december2023\n",
            "⏳ Sleeping for 2.2 seconds\n",
            "🔍 Scraping (78/209): https://www.ons.gov.uk/economy/economicoutputandproductivity/output/bulletins/economicactivityandsocialchangeintheukrealtimeindicators/7december2023\n",
            "⏳ Sleeping for 2.7 seconds\n",
            "🔍 Scraping (79/209): https://www.ons.gov.uk/economy/economicoutputandproductivity/output/bulletins/economicactivityandsocialchangeintheukrealtimeindicators/1december2023\n",
            "⏳ Sleeping for 3.1 seconds\n",
            "🔍 Scraping (80/209): https://www.ons.gov.uk/economy/economicoutputandproductivity/output/bulletins/economicactivityandsocialchangeintheukrealtimeindicators/23november2023\n",
            "⏳ Sleeping for 2.6 seconds\n",
            "🔍 Scraping (81/209): https://www.ons.gov.uk/economy/economicoutputandproductivity/output/bulletins/economicactivityandsocialchangeintheukrealtimeindicators/16november2023\n",
            "⏳ Sleeping for 2.6 seconds\n",
            "🔍 Scraping (82/209): https://www.ons.gov.uk/economy/economicoutputandproductivity/output/bulletins/economicactivityandsocialchangeintheukrealtimeindicators/9november2023\n",
            "⏳ Sleeping for 1.7 seconds\n",
            "🔍 Scraping (83/209): https://www.ons.gov.uk/economy/economicoutputandproductivity/output/bulletins/economicactivityandsocialchangeintheukrealtimeindicators/2november2023\n",
            "⏳ Sleeping for 3.1 seconds\n",
            "🔍 Scraping (84/209): https://www.ons.gov.uk/economy/economicoutputandproductivity/output/bulletins/economicactivityandsocialchangeintheukrealtimeindicators/26october2023\n",
            "⏳ Sleeping for 2.7 seconds\n",
            "🔍 Scraping (85/209): https://www.ons.gov.uk/economy/economicoutputandproductivity/output/bulletins/economicactivityandsocialchangeintheukrealtimeindicators/19october2023\n",
            "⏳ Sleeping for 1.9 seconds\n",
            "🔍 Scraping (86/209): https://www.ons.gov.uk/economy/economicoutputandproductivity/output/bulletins/economicactivityandsocialchangeintheukrealtimeindicators/12october2023\n",
            "⏳ Sleeping for 2.1 seconds\n",
            "🔍 Scraping (87/209): https://www.ons.gov.uk/economy/economicoutputandproductivity/output/bulletins/economicactivityandsocialchangeintheukrealtimeindicators/5october2023\n",
            "⏳ Sleeping for 3.0 seconds\n",
            "🔍 Scraping (88/209): https://www.ons.gov.uk/economy/economicoutputandproductivity/output/bulletins/economicactivityandsocialchangeintheukrealtimeindicators/28september2023\n",
            "⏳ Sleeping for 3.4 seconds\n",
            "🔍 Scraping (89/209): https://www.ons.gov.uk/economy/economicoutputandproductivity/output/bulletins/economicactivityandsocialchangeintheukrealtimeindicators/21september2023\n",
            "⏳ Sleeping for 3.3 seconds\n",
            "🔍 Scraping (90/209): https://www.ons.gov.uk/economy/economicoutputandproductivity/output/bulletins/economicactivityandsocialchangeintheukrealtimeindicators/14september2023\n",
            "⏳ Sleeping for 2.5 seconds\n",
            "🔍 Scraping (91/209): https://www.ons.gov.uk/economy/economicoutputandproductivity/output/bulletins/economicactivityandsocialchangeintheukrealtimeindicators/7september2023\n",
            "⏳ Sleeping for 1.9 seconds\n",
            "🔍 Scraping (92/209): https://www.ons.gov.uk/economy/economicoutputandproductivity/output/bulletins/economicactivityandsocialchangeintheukrealtimeindicators/1september2023\n",
            "⏳ Sleeping for 3.1 seconds\n",
            "🔍 Scraping (93/209): https://www.ons.gov.uk/economy/economicoutputandproductivity/output/bulletins/economicactivityandsocialchangeintheukrealtimeindicators/24august2023\n",
            "⏳ Sleeping for 2.6 seconds\n",
            "🔍 Scraping (94/209): https://www.ons.gov.uk/economy/economicoutputandproductivity/output/bulletins/economicactivityandsocialchangeintheukrealtimeindicators/17august2023\n",
            "⏳ Sleeping for 3.4 seconds\n",
            "🔍 Scraping (95/209): https://www.ons.gov.uk/economy/economicoutputandproductivity/output/bulletins/economicactivityandsocialchangeintheukrealtimeindicators/10august2023\n",
            "⏳ Sleeping for 1.7 seconds\n",
            "🔍 Scraping (96/209): https://www.ons.gov.uk/economy/economicoutputandproductivity/output/bulletins/economicactivityandsocialchangeintheukrealtimeindicators/3august2023\n",
            "⏳ Sleeping for 3.3 seconds\n",
            "🔍 Scraping (97/209): https://www.ons.gov.uk/economy/economicoutputandproductivity/output/bulletins/economicactivityandsocialchangeintheukrealtimeindicators/27july2023\n",
            "⏳ Sleeping for 2.8 seconds\n",
            "🔍 Scraping (98/209): https://www.ons.gov.uk/economy/economicoutputandproductivity/output/bulletins/economicactivityandsocialchangeintheukrealtimeindicators/20july2023\n",
            "⏳ Sleeping for 1.7 seconds\n",
            "🔍 Scraping (99/209): https://www.ons.gov.uk/economy/economicoutputandproductivity/output/bulletins/economicactivityandsocialchangeintheukrealtimeindicators/13july2023\n",
            "⏳ Sleeping for 2.0 seconds\n",
            "🔍 Scraping (100/209): https://www.ons.gov.uk/economy/economicoutputandproductivity/output/bulletins/economicactivityandsocialchangeintheukrealtimeindicators/6july2023\n",
            "⏳ Sleeping for 2.2 seconds\n",
            "🔍 Scraping (101/209): https://www.ons.gov.uk/economy/economicoutputandproductivity/output/bulletins/economicactivityandsocialchangeintheukrealtimeindicators/29june2023\n",
            "⏳ Sleeping for 3.1 seconds\n",
            "🔍 Scraping (102/209): https://www.ons.gov.uk/economy/economicoutputandproductivity/output/bulletins/economicactivityandsocialchangeintheukrealtimeindicators/22june2023\n",
            "⏳ Sleeping for 3.2 seconds\n",
            "🔍 Scraping (103/209): https://www.ons.gov.uk/economy/economicoutputandproductivity/output/bulletins/economicactivityandsocialchangeintheukrealtimeindicators/15june2023\n",
            "⏳ Sleeping for 1.5 seconds\n",
            "🔍 Scraping (104/209): https://www.ons.gov.uk/economy/economicoutputandproductivity/output/bulletins/economicactivityandsocialchangeintheukrealtimeindicators/8june2023\n",
            "⏳ Sleeping for 2.9 seconds\n",
            "🔍 Scraping (105/209): https://www.ons.gov.uk/economy/economicoutputandproductivity/output/bulletins/economicactivityandsocialchangeintheukrealtimeindicators/2june2023\n",
            "⏳ Sleeping for 2.8 seconds\n",
            "🔍 Scraping (106/209): https://www.ons.gov.uk/economy/economicoutputandproductivity/output/bulletins/economicactivityandsocialchangeintheukrealtimeindicators/25may2023\n",
            "⏳ Sleeping for 2.7 seconds\n",
            "🔍 Scraping (107/209): https://www.ons.gov.uk/economy/economicoutputandproductivity/output/bulletins/economicactivityandsocialchangeintheukrealtimeindicators/18may2023\n",
            "⏳ Sleeping for 2.4 seconds\n",
            "🔍 Scraping (108/209): https://www.ons.gov.uk/economy/economicoutputandproductivity/output/bulletins/economicactivityandsocialchangeintheukrealtimeindicators/11may2023\n",
            "⏳ Sleeping for 3.4 seconds\n",
            "🔍 Scraping (109/209): https://www.ons.gov.uk/economy/economicoutputandproductivity/output/bulletins/economicactivityandsocialchangeintheukrealtimeindicators/5may2023\n",
            "⏳ Sleeping for 1.8 seconds\n",
            "🔍 Scraping (110/209): https://www.ons.gov.uk/economy/economicoutputandproductivity/output/bulletins/economicactivityandsocialchangeintheukrealtimeindicators/27april2023\n",
            "⏳ Sleeping for 1.8 seconds\n",
            "🔍 Scraping (111/209): https://www.ons.gov.uk/economy/economicoutputandproductivity/output/bulletins/economicactivityandsocialchangeintheukrealtimeindicators/20april2023\n",
            "⏳ Sleeping for 2.8 seconds\n",
            "🔍 Scraping (112/209): https://www.ons.gov.uk/economy/economicoutputandproductivity/output/bulletins/economicactivityandsocialchangeintheukrealtimeindicators/14april2023\n",
            "⏳ Sleeping for 3.3 seconds\n",
            "🔍 Scraping (113/209): https://www.ons.gov.uk/economy/economicoutputandproductivity/output/bulletins/economicactivityandsocialchangeintheukrealtimeindicators/6april2023\n",
            "⏳ Sleeping for 2.8 seconds\n",
            "🔍 Scraping (114/209): https://www.ons.gov.uk/economy/economicoutputandproductivity/output/bulletins/economicactivityandsocialchangeintheukrealtimeindicators/30march2023\n",
            "⏳ Sleeping for 2.4 seconds\n",
            "🔍 Scraping (115/209): https://www.ons.gov.uk/economy/economicoutputandproductivity/output/bulletins/economicactivityandsocialchangeintheukrealtimeindicators/23march2023\n",
            "⏳ Sleeping for 2.9 seconds\n",
            "🔍 Scraping (116/209): https://www.ons.gov.uk/economy/economicoutputandproductivity/output/bulletins/economicactivityandsocialchangeintheukrealtimeindicators/16march2023\n",
            "⏳ Sleeping for 2.0 seconds\n",
            "🔍 Scraping (117/209): https://www.ons.gov.uk/economy/economicoutputandproductivity/output/bulletins/economicactivityandsocialchangeintheukrealtimeindicators/9march2023\n",
            "⏳ Sleeping for 2.8 seconds\n",
            "🔍 Scraping (118/209): https://www.ons.gov.uk/economy/economicoutputandproductivity/output/bulletins/economicactivityandsocialchangeintheukrealtimeindicators/2march2023\n",
            "⏳ Sleeping for 1.6 seconds\n",
            "🔍 Scraping (119/209): https://www.ons.gov.uk/economy/economicoutputandproductivity/output/bulletins/economicactivityandsocialchangeintheukrealtimeindicators/23february2023\n",
            "⏳ Sleeping for 2.5 seconds\n",
            "🔍 Scraping (120/209): https://www.ons.gov.uk/economy/economicoutputandproductivity/output/bulletins/economicactivityandsocialchangeintheukrealtimeindicators/16february2023\n",
            "⏳ Sleeping for 1.6 seconds\n",
            "🔍 Scraping (121/209): https://www.ons.gov.uk/economy/economicoutputandproductivity/output/bulletins/economicactivityandsocialchangeintheukrealtimeindicators/9february2023\n",
            "⏳ Sleeping for 3.0 seconds\n",
            "🔍 Scraping (122/209): https://www.ons.gov.uk/economy/economicoutputandproductivity/output/bulletins/economicactivityandsocialchangeintheukrealtimeindicators/3february2023\n",
            "⏳ Sleeping for 1.7 seconds\n",
            "🔍 Scraping (123/209): https://www.ons.gov.uk/economy/economicoutputandproductivity/output/bulletins/economicactivityandsocialchangeintheukrealtimeindicators/26january2023\n",
            "⏳ Sleeping for 3.1 seconds\n",
            "🔍 Scraping (124/209): https://www.ons.gov.uk/economy/economicoutputandproductivity/output/bulletins/economicactivityandsocialchangeintheukrealtimeindicators/19january2023\n",
            "⏳ Sleeping for 1.7 seconds\n",
            "🔍 Scraping (125/209): https://www.ons.gov.uk/economy/economicoutputandproductivity/output/bulletins/economicactivityandsocialchangeintheukrealtimeindicators/12january2023\n",
            "⏳ Sleeping for 1.9 seconds\n",
            "🔍 Scraping (126/209): https://www.ons.gov.uk/economy/economicoutputandproductivity/output/bulletins/economicactivityandsocialchangeintheukrealtimeindicators/6january2023\n",
            "⏳ Sleeping for 2.5 seconds\n",
            "🔍 Scraping (127/209): https://www.ons.gov.uk/economy/economicoutputandproductivity/output/bulletins/economicactivityandsocialchangeintheukrealtimeindicators/21december2022\n",
            "⏳ Sleeping for 2.2 seconds\n",
            "🔍 Scraping (128/209): https://www.ons.gov.uk/economy/economicoutputandproductivity/output/bulletins/economicactivityandsocialchangeintheukrealtimeindicators/15december2022\n",
            "⏳ Sleeping for 3.2 seconds\n",
            "🔍 Scraping (129/209): https://www.ons.gov.uk/economy/economicoutputandproductivity/output/bulletins/economicactivityandsocialchangeintheukrealtimeindicators/8december2022\n",
            "⏳ Sleeping for 2.4 seconds\n",
            "🔍 Scraping (130/209): https://www.ons.gov.uk/economy/economicoutputandproductivity/output/bulletins/economicactivityandsocialchangeintheukrealtimeindicators/1december2022\n",
            "⏳ Sleeping for 2.9 seconds\n",
            "🔍 Scraping (131/209): https://www.ons.gov.uk/economy/economicoutputandproductivity/output/bulletins/economicactivityandsocialchangeintheukrealtimeindicators/24november2022\n",
            "⏳ Sleeping for 1.6 seconds\n",
            "🔍 Scraping (132/209): https://www.ons.gov.uk/economy/economicoutputandproductivity/output/bulletins/economicactivityandsocialchangeintheukrealtimeindicators/17november2022\n",
            "⏳ Sleeping for 1.9 seconds\n",
            "🔍 Scraping (133/209): https://www.ons.gov.uk/economy/economicoutputandproductivity/output/bulletins/economicactivityandsocialchangeintheukrealtimeindicators/10november2022\n",
            "⏳ Sleeping for 3.5 seconds\n",
            "🔍 Scraping (134/209): https://www.ons.gov.uk/economy/economicoutputandproductivity/output/bulletins/economicactivityandsocialchangeintheukrealtimeindicators/3november2022\n",
            "⏳ Sleeping for 3.3 seconds\n",
            "🔍 Scraping (135/209): https://www.ons.gov.uk/economy/economicoutputandproductivity/output/bulletins/economicactivityandsocialchangeintheukrealtimeindicators/27october2022\n",
            "⏳ Sleeping for 2.1 seconds\n",
            "🔍 Scraping (136/209): https://www.ons.gov.uk/economy/economicoutputandproductivity/output/bulletins/economicactivityandsocialchangeintheukrealtimeindicators/20october2022\n",
            "⏳ Sleeping for 1.5 seconds\n",
            "🔍 Scraping (137/209): https://www.ons.gov.uk/economy/economicoutputandproductivity/output/bulletins/economicactivityandsocialchangeintheukrealtimeindicators/13october2022\n",
            "⏳ Sleeping for 1.8 seconds\n",
            "🔍 Scraping (138/209): https://www.ons.gov.uk/economy/economicoutputandproductivity/output/bulletins/economicactivityandsocialchangeintheukrealtimeindicators/6october2022\n",
            "⏳ Sleeping for 1.9 seconds\n",
            "🔍 Scraping (139/209): https://www.ons.gov.uk/economy/economicoutputandproductivity/output/bulletins/economicactivityandsocialchangeintheukrealtimeindicators/29september2022\n",
            "⏳ Sleeping for 2.6 seconds\n",
            "🔍 Scraping (140/209): https://www.ons.gov.uk/economy/economicoutputandproductivity/output/bulletins/economicactivityandsocialchangeintheukrealtimeindicators/22september2022\n",
            "⏳ Sleeping for 1.6 seconds\n",
            "🔍 Scraping (141/209): https://www.ons.gov.uk/economy/economicoutputandproductivity/output/bulletins/economicactivityandsocialchangeintheukrealtimeindicators/15september2022\n",
            "⏳ Sleeping for 2.3 seconds\n",
            "🔍 Scraping (142/209): https://www.ons.gov.uk/economy/economicoutputandproductivity/output/bulletins/economicactivityandsocialchangeintheukrealtimeindicators/8september2022\n",
            "⏳ Sleeping for 3.2 seconds\n",
            "🔍 Scraping (143/209): https://www.ons.gov.uk/economy/economicoutputandproductivity/output/bulletins/economicactivityandsocialchangeintheukrealtimeindicators/1september2022\n",
            "⏳ Sleeping for 2.5 seconds\n",
            "🔍 Scraping (144/209): https://www.ons.gov.uk/economy/economicoutputandproductivity/output/bulletins/economicactivityandsocialchangeintheukrealtimeindicators/25august2022\n",
            "⏳ Sleeping for 2.0 seconds\n",
            "🔍 Scraping (145/209): https://www.ons.gov.uk/economy/economicoutputandproductivity/output/bulletins/economicactivityandsocialchangeintheukrealtimeindicators/18august2022\n",
            "⏳ Sleeping for 2.1 seconds\n",
            "🔍 Scraping (146/209): https://www.ons.gov.uk/economy/economicoutputandproductivity/output/bulletins/economicactivityandsocialchangeintheukrealtimeindicators/11august2022\n",
            "⏳ Sleeping for 2.3 seconds\n",
            "🔍 Scraping (147/209): https://www.ons.gov.uk/economy/economicoutputandproductivity/output/bulletins/economicactivityandsocialchangeintheukrealtimeindicators/4august2022\n",
            "⏳ Sleeping for 2.9 seconds\n",
            "🔍 Scraping (148/209): https://www.ons.gov.uk/economy/economicoutputandproductivity/output/bulletins/economicactivityandsocialchangeintheukrealtimeindicators/28july2022\n",
            "⏳ Sleeping for 1.5 seconds\n",
            "🔍 Scraping (149/209): https://www.ons.gov.uk/economy/economicoutputandproductivity/output/bulletins/economicactivityandsocialchangeintheukrealtimeindicators/21july2022\n",
            "⏳ Sleeping for 2.2 seconds\n",
            "🔍 Scraping (150/209): https://www.ons.gov.uk/economy/economicoutputandproductivity/output/bulletins/economicactivityandsocialchangeintheukrealtimeindicators/14july2022\n",
            "⏳ Sleeping for 3.3 seconds\n",
            "🔍 Scraping (151/209): https://www.ons.gov.uk/economy/economicoutputandproductivity/output/bulletins/economicactivityandsocialchangeintheukrealtimeindicators/7july2022\n",
            "⏳ Sleeping for 1.5 seconds\n",
            "🔍 Scraping (152/209): https://www.ons.gov.uk/economy/economicoutputandproductivity/output/bulletins/economicactivityandsocialchangeintheukrealtimeindicators/30june2022\n",
            "⏳ Sleeping for 2.4 seconds\n",
            "🔍 Scraping (153/209): https://www.ons.gov.uk/economy/economicoutputandproductivity/output/bulletins/economicactivityandsocialchangeintheukrealtimeindicators/23june2022\n",
            "⏳ Sleeping for 2.6 seconds\n",
            "🔍 Scraping (154/209): https://www.ons.gov.uk/economy/economicoutputandproductivity/output/bulletins/economicactivityandsocialchangeintheukrealtimeindicators/16june2022\n",
            "⏳ Sleeping for 3.4 seconds\n",
            "🔍 Scraping (155/209): https://www.ons.gov.uk/economy/economicoutputandproductivity/output/bulletins/economicactivityandsocialchangeintheukrealtimeindicators/9june2022\n",
            "⏳ Sleeping for 1.8 seconds\n",
            "🔍 Scraping (156/209): https://www.ons.gov.uk/economy/economicoutputandproductivity/output/bulletins/economicactivityandsocialchangeintheukrealtimeindicators/26may2022\n",
            "⏳ Sleeping for 3.1 seconds\n",
            "🔍 Scraping (157/209): https://www.ons.gov.uk/economy/economicoutputandproductivity/output/bulletins/economicactivityandsocialchangeintheukrealtimeindicators/19may2022\n",
            "⏳ Sleeping for 2.5 seconds\n",
            "🔍 Scraping (158/209): https://www.ons.gov.uk/economy/economicoutputandproductivity/output/bulletins/economicactivityandsocialchangeintheukrealtimeindicators/12may2022\n",
            "⏳ Sleeping for 2.9 seconds\n",
            "🔍 Scraping (159/209): https://www.ons.gov.uk/economy/economicoutputandproductivity/output/bulletins/economicactivityandsocialchangeintheukrealtimeindicators/5may2022\n",
            "⏳ Sleeping for 1.8 seconds\n",
            "🔍 Scraping (160/209): https://www.ons.gov.uk/economy/economicoutputandproductivity/output/bulletins/economicactivityandsocialchangeintheukrealtimeindicators/28april2022\n",
            "⏳ Sleeping for 2.3 seconds\n",
            "🔍 Scraping (161/209): https://www.ons.gov.uk/economy/economicoutputandproductivity/output/bulletins/economicactivityandsocialchangeintheukrealtimeindicators/21april2022\n",
            "⏳ Sleeping for 3.4 seconds\n",
            "🔍 Scraping (162/209): https://www.ons.gov.uk/economy/economicoutputandproductivity/output/bulletins/economicactivityandsocialchangeintheukrealtimeindicators/14april2022\n",
            "⏳ Sleeping for 2.0 seconds\n",
            "🔍 Scraping (163/209): https://www.ons.gov.uk/economy/economicoutputandproductivity/output/bulletins/economicactivityandsocialchangeintheukrealtimeindicators/7april2022\n",
            "⏳ Sleeping for 2.9 seconds\n",
            "🔍 Scraping (164/209): https://www.ons.gov.uk/economy/economicoutputandproductivity/output/bulletins/economicactivityandsocialchangeintheukrealtimeindicators/31march2022\n",
            "⏳ Sleeping for 3.1 seconds\n",
            "🔍 Scraping (165/209): https://www.ons.gov.uk/economy/economicoutputandproductivity/output/bulletins/economicactivityandsocialchangeintheukrealtimeindicators/24march2022\n",
            "⏳ Sleeping for 2.0 seconds\n",
            "🔍 Scraping (166/209): https://www.ons.gov.uk/economy/economicoutputandproductivity/output/bulletins/economicactivityandsocialchangeintheukrealtimeindicators/18march2022\n",
            "⏳ Sleeping for 2.7 seconds\n",
            "🔍 Scraping (167/209): https://www.ons.gov.uk/economy/economicoutputandproductivity/output/bulletins/economicactivityandsocialchangeintheukrealtimeindicators/10march2022\n",
            "⏳ Sleeping for 2.4 seconds\n",
            "🔍 Scraping (168/209): https://www.ons.gov.uk/economy/economicoutputandproductivity/output/bulletins/economicactivityandsocialchangeintheukrealtimeindicators/3march2022\n",
            "⏳ Sleeping for 2.1 seconds\n",
            "🔍 Scraping (169/209): https://www.ons.gov.uk/economy/economicoutputandproductivity/output/bulletins/economicactivityandsocialchangeintheukrealtimeindicators/24february2022\n",
            "⏳ Sleeping for 2.8 seconds\n",
            "🔍 Scraping (170/209): https://www.ons.gov.uk/economy/economicoutputandproductivity/output/bulletins/economicactivityandsocialchangeintheukrealtimeindicators/17february2022\n",
            "⏳ Sleeping for 2.5 seconds\n",
            "🔍 Scraping (171/209): https://www.ons.gov.uk/economy/economicoutputandproductivity/output/bulletins/economicactivityandsocialchangeintheukrealtimeindicators/10february2022\n",
            "⏳ Sleeping for 2.0 seconds\n",
            "🔍 Scraping (172/209): https://www.ons.gov.uk/economy/economicoutputandproductivity/output/bulletins/economicactivityandsocialchangeintheukrealtimeindicators/3february2022\n",
            "⏳ Sleeping for 2.3 seconds\n",
            "🔍 Scraping (173/209): https://www.ons.gov.uk/economy/economicoutputandproductivity/output/bulletins/economicactivityandsocialchangeintheukrealtimeindicators/27january2022\n",
            "⏳ Sleeping for 3.0 seconds\n",
            "🔍 Scraping (174/209): https://www.ons.gov.uk/economy/economicoutputandproductivity/output/bulletins/economicactivityandsocialchangeintheukrealtimeindicators/20january2022\n",
            "⏳ Sleeping for 3.5 seconds\n",
            "🔍 Scraping (175/209): https://www.ons.gov.uk/economy/economicoutputandproductivity/output/bulletins/economicactivityandsocialchangeintheukrealtimeindicators/13january2022\n",
            "⏳ Sleeping for 3.3 seconds\n",
            "🔍 Scraping (176/209): https://www.ons.gov.uk/economy/economicoutputandproductivity/output/bulletins/economicactivityandsocialchangeintheukrealtimeindicators/6january2022\n",
            "⏳ Sleeping for 1.9 seconds\n",
            "🔍 Scraping (177/209): https://www.ons.gov.uk/economy/economicoutputandproductivity/output/bulletins/economicactivityandsocialchangeintheukrealtimeindicators/23december2021\n",
            "⏳ Sleeping for 2.1 seconds\n",
            "🔍 Scraping (178/209): https://www.ons.gov.uk/economy/economicoutputandproductivity/output/bulletins/economicactivityandsocialchangeintheukrealtimeindicators/16december2021\n",
            "⏳ Sleeping for 1.8 seconds\n",
            "🔍 Scraping (179/209): https://www.ons.gov.uk/economy/economicoutputandproductivity/output/bulletins/economicactivityandsocialchangeintheukrealtimeindicators/9december2021\n",
            "⏳ Sleeping for 1.5 seconds\n",
            "🔍 Scraping (180/209): https://www.ons.gov.uk/economy/economicoutputandproductivity/output/bulletins/economicactivityandsocialchangeintheukrealtimeindicators/2december2021\n",
            "⏳ Sleeping for 3.5 seconds\n",
            "🔍 Scraping (181/209): https://www.ons.gov.uk/economy/economicoutputandproductivity/output/bulletins/economicactivityandsocialchangeintheukrealtimeindicators/25november2021\n",
            "⏳ Sleeping for 3.3 seconds\n",
            "🔍 Scraping (182/209): https://www.ons.gov.uk/economy/economicoutputandproductivity/output/bulletins/economicactivityandsocialchangeintheukrealtimeindicators/18november2021\n",
            "⏳ Sleeping for 3.2 seconds\n",
            "🔍 Scraping (183/209): https://www.ons.gov.uk/economy/economicoutputandproductivity/output/bulletins/economicactivityandsocialchangeintheukrealtimeindicators/11november2021\n",
            "⏳ Sleeping for 2.8 seconds\n",
            "🔍 Scraping (184/209): https://www.ons.gov.uk/economy/economicoutputandproductivity/output/bulletins/economicactivityandsocialchangeintheukrealtimeindicators/4november2021\n",
            "⏳ Sleeping for 2.8 seconds\n",
            "🔍 Scraping (185/209): https://www.ons.gov.uk/economy/economicoutputandproductivity/output/bulletins/economicactivityandsocialchangeintheukrealtimeindicators/28october2021\n",
            "⏳ Sleeping for 1.9 seconds\n",
            "🔍 Scraping (186/209): https://www.ons.gov.uk/economy/economicoutputandproductivity/output/bulletins/economicactivityandsocialchangeintheukrealtimeindicators/21october2021\n",
            "⏳ Sleeping for 3.4 seconds\n",
            "🔍 Scraping (187/209): https://www.ons.gov.uk/economy/economicoutputandproductivity/output/bulletins/economicactivityandsocialchangeintheukrealtimeindicators/14october2021\n",
            "⏳ Sleeping for 3.2 seconds\n",
            "🔍 Scraping (188/209): https://www.ons.gov.uk/economy/economicoutputandproductivity/output/bulletins/economicactivityandsocialchangeintheukrealtimeindicators/7october2021\n",
            "⏳ Sleeping for 2.0 seconds\n",
            "🔍 Scraping (189/209): https://www.ons.gov.uk/economy/economicoutputandproductivity/output/bulletins/economicactivityandsocialchangeintheukrealtimeindicators/30september2021\n",
            "⏳ Sleeping for 2.3 seconds\n",
            "🔍 Scraping (190/209): https://www.ons.gov.uk/economy/economicoutputandproductivity/output/bulletins/economicactivityandsocialchangeintheukrealtimeindicators/23september2021\n",
            "⏳ Sleeping for 3.0 seconds\n",
            "🔍 Scraping (191/209): https://www.ons.gov.uk/economy/economicoutputandproductivity/output/bulletins/economicactivityandsocialchangeintheukrealtimeindicators/16september2021\n",
            "⏳ Sleeping for 2.6 seconds\n",
            "🔍 Scraping (192/209): https://www.ons.gov.uk/economy/economicoutputandproductivity/output/bulletins/economicactivityandsocialchangeintheukrealtimeindicators/9september2021\n",
            "⏳ Sleeping for 1.9 seconds\n",
            "🔍 Scraping (193/209): https://www.ons.gov.uk/economy/economicoutputandproductivity/output/bulletins/economicactivityandsocialchangeintheukrealtimeindicators/2september2021\n",
            "⏳ Sleeping for 3.5 seconds\n",
            "🔍 Scraping (194/209): https://www.ons.gov.uk/economy/economicoutputandproductivity/output/bulletins/economicactivityandsocialchangeintheukrealtimeindicators/26august2021\n",
            "⏳ Sleeping for 2.4 seconds\n",
            "🔍 Scraping (195/209): https://www.ons.gov.uk/economy/economicoutputandproductivity/output/bulletins/economicactivityandsocialchangeintheukrealtimeindicators/19august2021\n",
            "⏳ Sleeping for 1.6 seconds\n",
            "🔍 Scraping (196/209): https://www.ons.gov.uk/economy/economicoutputandproductivity/output/bulletins/economicactivityandsocialchangeintheukrealtimeindicators/12august2021\n",
            "⏳ Sleeping for 2.7 seconds\n",
            "🔍 Scraping (197/209): https://www.ons.gov.uk/economy/economicoutputandproductivity/output/bulletins/economicactivityandsocialchangeintheukrealtimeindicators/5august2021\n",
            "⏳ Sleeping for 3.3 seconds\n",
            "🔍 Scraping (198/209): https://www.ons.gov.uk/economy/economicoutputandproductivity/output/bulletins/economicactivityandsocialchangeintheukrealtimeindicators/29july2021\n",
            "⏳ Sleeping for 1.6 seconds\n",
            "🔍 Scraping (199/209): https://www.ons.gov.uk/economy/economicoutputandproductivity/output/bulletins/economicactivityandsocialchangeintheukrealtimeindicators/22july2021\n",
            "⏳ Sleeping for 3.1 seconds\n",
            "🔍 Scraping (200/209): https://www.ons.gov.uk/economy/economicoutputandproductivity/output/bulletins/economicactivityandsocialchangeintheukrealtimeindicators/15july2021\n",
            "⏳ Sleeping for 2.6 seconds\n",
            "🔍 Scraping (201/209): https://www.ons.gov.uk/economy/economicoutputandproductivity/output/bulletins/economicactivityandsocialchangeintheukrealtimeindicators/8july2021\n",
            "⏳ Sleeping for 1.8 seconds\n",
            "🔍 Scraping (202/209): https://www.ons.gov.uk/economy/economicoutputandproductivity/output/bulletins/economicactivityandsocialchangeintheukrealtimeindicators/1july2021\n",
            "⏳ Sleeping for 2.3 seconds\n",
            "🔍 Scraping (203/209): https://www.ons.gov.uk/economy/economicoutputandproductivity/output/bulletins/economicactivityandsocialchangeintheukrealtimeindicators/24june2021\n",
            "⏳ Sleeping for 3.2 seconds\n",
            "🔍 Scraping (204/209): https://www.ons.gov.uk/economy/economicoutputandproductivity/output/bulletins/economicactivityandsocialchangeintheukrealtimeindicators/17june2021\n",
            "⏳ Sleeping for 3.2 seconds\n",
            "🔍 Scraping (205/209): https://www.ons.gov.uk/economy/economicoutputandproductivity/output/bulletins/economicactivityandsocialchangeintheukrealtimeindicators/10june2021\n",
            "⏳ Sleeping for 2.4 seconds\n",
            "🔍 Scraping (206/209): https://www.ons.gov.uk/economy/economicoutputandproductivity/output/bulletins/economicactivityandsocialchangeintheukrealtimeindicators/4june2021\n",
            "⏳ Sleeping for 2.3 seconds\n",
            "🔍 Scraping (207/209): https://www.ons.gov.uk/economy/economicoutputandproductivity/output/bulletins/economicactivityandsocialchangeintheukrealtimeindicators/27may2021\n",
            "⏳ Sleeping for 1.9 seconds\n",
            "🔍 Scraping (208/209): https://www.ons.gov.uk/economy/economicoutputandproductivity/output/bulletins/economicactivityandsocialchangeintheukrealtimeindicators/20may2021\n",
            "⏳ Sleeping for 2.9 seconds\n",
            "🔍 Scraping (209/209): https://www.ons.gov.uk/economy/economicoutputandproductivity/output/bulletins/economicactivityandsocialchangeintheukrealtimeindicators/13may2021\n",
            "⏳ Sleeping for 1.9 seconds\n",
            "\n",
            "✅ Saved 209 bulletins to ons_bulletins.jsonl\n"
          ]
        }
      ]
    },
    {
      "cell_type": "markdown",
      "source": [
        "#### Step 9: Copy Output to Google Drive\n",
        "\n",
        "After scraping and saving, this copies the resulting `ons_bulletins.jsonl` file into your Google Drive for persistent storage."
      ],
      "metadata": {
        "id": "Oi8lUUkli4AP"
      }
    },
    {
      "cell_type": "code",
      "source": [
        "\n",
        "# Change the path below to wherever you want in your Drive\n",
        "shutil.copy(\"ons_bulletins.jsonl\", \"/content/drive/MyDrive/ons_bulletins.jsonl\")"
      ],
      "metadata": {
        "colab": {
          "base_uri": "https://localhost:8080/",
          "height": 35
        },
        "id": "6znOozXNvlSW",
        "outputId": "62bab578-50ad-49db-f4a5-40c5dfaa79f3"
      },
      "execution_count": null,
      "outputs": [
        {
          "output_type": "execute_result",
          "data": {
            "text/plain": [
              "'/content/drive/MyDrive/ons_bulletins.jsonl'"
            ],
            "application/vnd.google.colaboratory.intrinsic+json": {
              "type": "string"
            }
          },
          "metadata": {},
          "execution_count": 131
        }
      ]
    },
    {
      "cell_type": "markdown",
      "source": [
        "#### Step 10: Load Bulletins from JSONL File\n",
        "\n",
        "Reads the `ons_bulletins.jsonl` file, where each line is a separate JSON object representing a single bulletin.\n",
        "Stores the parsed dictionaries into a Python list."
      ],
      "metadata": {
        "id": "DZZzxGhOi8WA"
      }
    },
    {
      "cell_type": "code",
      "source": [
        "\n",
        "# If running in Colab, first upload the file (you've already done this)\n",
        "# from google.colab import files\n",
        "# uploaded = files.upload()\n",
        "\n",
        "# Load the JSONL file\n",
        "file_path = \"ons_bulletins.jsonl\"  # adjust this if the file is in another path\n",
        "\n",
        "# Read JSONL into a list of dictionaries\n",
        "records = []\n",
        "with open(file_path, \"r\", encoding=\"utf-8\") as f:\n",
        "    for line in f:\n",
        "        records.append(json.loads(line))\n",
        "\n",
        "# Convert to DataFrame\n",
        "df = pd.DataFrame(records)\n",
        "\n",
        "# Preview the data\n",
        "print(f\"✅ Loaded {len(df)} bulletins.\\n\")\n",
        "display(df.head())  # Use `df.head(10)` to show more rows if needed"
      ],
      "metadata": {
        "colab": {
          "base_uri": "https://localhost:8080/",
          "height": 242
        },
        "id": "_DXrs-Quwytc",
        "outputId": "8a2e0cb4-f555-48c7-e651-eea4c2227504"
      },
      "execution_count": null,
      "outputs": [
        {
          "output_type": "stream",
          "name": "stdout",
          "text": [
            "✅ Loaded 209 bulletins.\n",
            "\n"
          ]
        },
        {
          "output_type": "display_data",
          "data": {
            "text/plain": [
              "                                                 url  \\\n",
              "0  https://www.ons.gov.uk/economy/economicoutputa...   \n",
              "1  https://www.ons.gov.uk/economy/economicoutputa...   \n",
              "2  https://www.ons.gov.uk/economy/economicoutputa...   \n",
              "3  https://www.ons.gov.uk/economy/economicoutputa...   \n",
              "4  https://www.ons.gov.uk/economy/economicoutputa...   \n",
              "\n",
              "                                               title  \\\n",
              "0  Economic activity and social change in the UK,...   \n",
              "1  Economic activity and social change in the UK,...   \n",
              "2  Economic activity and social change in the UK,...   \n",
              "3  Economic activity and social change in the UK,...   \n",
              "4  Economic activity and social change in the UK,...   \n",
              "\n",
              "                                                text  \n",
              "0  Overall retail footfall remained broadly uncha...  \n",
              "1  The seasonally adjusted Direct Debit failure r...  \n",
              "2  Overall retail footfall decreased in the week ...  \n",
              "3  Overall retail footfall increased by 5% in the...  \n",
              "4  Overall retail footfall increased by 1% in the...  "
            ],
            "text/html": [
              "\n",
              "  <div id=\"df-1424b52e-2b45-451d-ab94-d7973a08ffba\" class=\"colab-df-container\">\n",
              "    <div>\n",
              "<style scoped>\n",
              "    .dataframe tbody tr th:only-of-type {\n",
              "        vertical-align: middle;\n",
              "    }\n",
              "\n",
              "    .dataframe tbody tr th {\n",
              "        vertical-align: top;\n",
              "    }\n",
              "\n",
              "    .dataframe thead th {\n",
              "        text-align: right;\n",
              "    }\n",
              "</style>\n",
              "<table border=\"1\" class=\"dataframe\">\n",
              "  <thead>\n",
              "    <tr style=\"text-align: right;\">\n",
              "      <th></th>\n",
              "      <th>url</th>\n",
              "      <th>title</th>\n",
              "      <th>text</th>\n",
              "    </tr>\n",
              "  </thead>\n",
              "  <tbody>\n",
              "    <tr>\n",
              "      <th>0</th>\n",
              "      <td>https://www.ons.gov.uk/economy/economicoutputa...</td>\n",
              "      <td>Economic activity and social change in the UK,...</td>\n",
              "      <td>Overall retail footfall remained broadly uncha...</td>\n",
              "    </tr>\n",
              "    <tr>\n",
              "      <th>1</th>\n",
              "      <td>https://www.ons.gov.uk/economy/economicoutputa...</td>\n",
              "      <td>Economic activity and social change in the UK,...</td>\n",
              "      <td>The seasonally adjusted Direct Debit failure r...</td>\n",
              "    </tr>\n",
              "    <tr>\n",
              "      <th>2</th>\n",
              "      <td>https://www.ons.gov.uk/economy/economicoutputa...</td>\n",
              "      <td>Economic activity and social change in the UK,...</td>\n",
              "      <td>Overall retail footfall decreased in the week ...</td>\n",
              "    </tr>\n",
              "    <tr>\n",
              "      <th>3</th>\n",
              "      <td>https://www.ons.gov.uk/economy/economicoutputa...</td>\n",
              "      <td>Economic activity and social change in the UK,...</td>\n",
              "      <td>Overall retail footfall increased by 5% in the...</td>\n",
              "    </tr>\n",
              "    <tr>\n",
              "      <th>4</th>\n",
              "      <td>https://www.ons.gov.uk/economy/economicoutputa...</td>\n",
              "      <td>Economic activity and social change in the UK,...</td>\n",
              "      <td>Overall retail footfall increased by 1% in the...</td>\n",
              "    </tr>\n",
              "  </tbody>\n",
              "</table>\n",
              "</div>\n",
              "    <div class=\"colab-df-buttons\">\n",
              "\n",
              "  <div class=\"colab-df-container\">\n",
              "    <button class=\"colab-df-convert\" onclick=\"convertToInteractive('df-1424b52e-2b45-451d-ab94-d7973a08ffba')\"\n",
              "            title=\"Convert this dataframe to an interactive table.\"\n",
              "            style=\"display:none;\">\n",
              "\n",
              "  <svg xmlns=\"http://www.w3.org/2000/svg\" height=\"24px\" viewBox=\"0 -960 960 960\">\n",
              "    <path d=\"M120-120v-720h720v720H120Zm60-500h600v-160H180v160Zm220 220h160v-160H400v160Zm0 220h160v-160H400v160ZM180-400h160v-160H180v160Zm440 0h160v-160H620v160ZM180-180h160v-160H180v160Zm440 0h160v-160H620v160Z\"/>\n",
              "  </svg>\n",
              "    </button>\n",
              "\n",
              "  <style>\n",
              "    .colab-df-container {\n",
              "      display:flex;\n",
              "      gap: 12px;\n",
              "    }\n",
              "\n",
              "    .colab-df-convert {\n",
              "      background-color: #E8F0FE;\n",
              "      border: none;\n",
              "      border-radius: 50%;\n",
              "      cursor: pointer;\n",
              "      display: none;\n",
              "      fill: #1967D2;\n",
              "      height: 32px;\n",
              "      padding: 0 0 0 0;\n",
              "      width: 32px;\n",
              "    }\n",
              "\n",
              "    .colab-df-convert:hover {\n",
              "      background-color: #E2EBFA;\n",
              "      box-shadow: 0px 1px 2px rgba(60, 64, 67, 0.3), 0px 1px 3px 1px rgba(60, 64, 67, 0.15);\n",
              "      fill: #174EA6;\n",
              "    }\n",
              "\n",
              "    .colab-df-buttons div {\n",
              "      margin-bottom: 4px;\n",
              "    }\n",
              "\n",
              "    [theme=dark] .colab-df-convert {\n",
              "      background-color: #3B4455;\n",
              "      fill: #D2E3FC;\n",
              "    }\n",
              "\n",
              "    [theme=dark] .colab-df-convert:hover {\n",
              "      background-color: #434B5C;\n",
              "      box-shadow: 0px 1px 3px 1px rgba(0, 0, 0, 0.15);\n",
              "      filter: drop-shadow(0px 1px 2px rgba(0, 0, 0, 0.3));\n",
              "      fill: #FFFFFF;\n",
              "    }\n",
              "  </style>\n",
              "\n",
              "    <script>\n",
              "      const buttonEl =\n",
              "        document.querySelector('#df-1424b52e-2b45-451d-ab94-d7973a08ffba button.colab-df-convert');\n",
              "      buttonEl.style.display =\n",
              "        google.colab.kernel.accessAllowed ? 'block' : 'none';\n",
              "\n",
              "      async function convertToInteractive(key) {\n",
              "        const element = document.querySelector('#df-1424b52e-2b45-451d-ab94-d7973a08ffba');\n",
              "        const dataTable =\n",
              "          await google.colab.kernel.invokeFunction('convertToInteractive',\n",
              "                                                    [key], {});\n",
              "        if (!dataTable) return;\n",
              "\n",
              "        const docLinkHtml = 'Like what you see? Visit the ' +\n",
              "          '<a target=\"_blank\" href=https://colab.research.google.com/notebooks/data_table.ipynb>data table notebook</a>'\n",
              "          + ' to learn more about interactive tables.';\n",
              "        element.innerHTML = '';\n",
              "        dataTable['output_type'] = 'display_data';\n",
              "        await google.colab.output.renderOutput(dataTable, element);\n",
              "        const docLink = document.createElement('div');\n",
              "        docLink.innerHTML = docLinkHtml;\n",
              "        element.appendChild(docLink);\n",
              "      }\n",
              "    </script>\n",
              "  </div>\n",
              "\n",
              "\n",
              "    <div id=\"df-dcc3b827-ed11-4ec8-baf7-0a96320abe96\">\n",
              "      <button class=\"colab-df-quickchart\" onclick=\"quickchart('df-dcc3b827-ed11-4ec8-baf7-0a96320abe96')\"\n",
              "                title=\"Suggest charts\"\n",
              "                style=\"display:none;\">\n",
              "\n",
              "<svg xmlns=\"http://www.w3.org/2000/svg\" height=\"24px\"viewBox=\"0 0 24 24\"\n",
              "     width=\"24px\">\n",
              "    <g>\n",
              "        <path d=\"M19 3H5c-1.1 0-2 .9-2 2v14c0 1.1.9 2 2 2h14c1.1 0 2-.9 2-2V5c0-1.1-.9-2-2-2zM9 17H7v-7h2v7zm4 0h-2V7h2v10zm4 0h-2v-4h2v4z\"/>\n",
              "    </g>\n",
              "</svg>\n",
              "      </button>\n",
              "\n",
              "<style>\n",
              "  .colab-df-quickchart {\n",
              "      --bg-color: #E8F0FE;\n",
              "      --fill-color: #1967D2;\n",
              "      --hover-bg-color: #E2EBFA;\n",
              "      --hover-fill-color: #174EA6;\n",
              "      --disabled-fill-color: #AAA;\n",
              "      --disabled-bg-color: #DDD;\n",
              "  }\n",
              "\n",
              "  [theme=dark] .colab-df-quickchart {\n",
              "      --bg-color: #3B4455;\n",
              "      --fill-color: #D2E3FC;\n",
              "      --hover-bg-color: #434B5C;\n",
              "      --hover-fill-color: #FFFFFF;\n",
              "      --disabled-bg-color: #3B4455;\n",
              "      --disabled-fill-color: #666;\n",
              "  }\n",
              "\n",
              "  .colab-df-quickchart {\n",
              "    background-color: var(--bg-color);\n",
              "    border: none;\n",
              "    border-radius: 50%;\n",
              "    cursor: pointer;\n",
              "    display: none;\n",
              "    fill: var(--fill-color);\n",
              "    height: 32px;\n",
              "    padding: 0;\n",
              "    width: 32px;\n",
              "  }\n",
              "\n",
              "  .colab-df-quickchart:hover {\n",
              "    background-color: var(--hover-bg-color);\n",
              "    box-shadow: 0 1px 2px rgba(60, 64, 67, 0.3), 0 1px 3px 1px rgba(60, 64, 67, 0.15);\n",
              "    fill: var(--button-hover-fill-color);\n",
              "  }\n",
              "\n",
              "  .colab-df-quickchart-complete:disabled,\n",
              "  .colab-df-quickchart-complete:disabled:hover {\n",
              "    background-color: var(--disabled-bg-color);\n",
              "    fill: var(--disabled-fill-color);\n",
              "    box-shadow: none;\n",
              "  }\n",
              "\n",
              "  .colab-df-spinner {\n",
              "    border: 2px solid var(--fill-color);\n",
              "    border-color: transparent;\n",
              "    border-bottom-color: var(--fill-color);\n",
              "    animation:\n",
              "      spin 1s steps(1) infinite;\n",
              "  }\n",
              "\n",
              "  @keyframes spin {\n",
              "    0% {\n",
              "      border-color: transparent;\n",
              "      border-bottom-color: var(--fill-color);\n",
              "      border-left-color: var(--fill-color);\n",
              "    }\n",
              "    20% {\n",
              "      border-color: transparent;\n",
              "      border-left-color: var(--fill-color);\n",
              "      border-top-color: var(--fill-color);\n",
              "    }\n",
              "    30% {\n",
              "      border-color: transparent;\n",
              "      border-left-color: var(--fill-color);\n",
              "      border-top-color: var(--fill-color);\n",
              "      border-right-color: var(--fill-color);\n",
              "    }\n",
              "    40% {\n",
              "      border-color: transparent;\n",
              "      border-right-color: var(--fill-color);\n",
              "      border-top-color: var(--fill-color);\n",
              "    }\n",
              "    60% {\n",
              "      border-color: transparent;\n",
              "      border-right-color: var(--fill-color);\n",
              "    }\n",
              "    80% {\n",
              "      border-color: transparent;\n",
              "      border-right-color: var(--fill-color);\n",
              "      border-bottom-color: var(--fill-color);\n",
              "    }\n",
              "    90% {\n",
              "      border-color: transparent;\n",
              "      border-bottom-color: var(--fill-color);\n",
              "    }\n",
              "  }\n",
              "</style>\n",
              "\n",
              "      <script>\n",
              "        async function quickchart(key) {\n",
              "          const quickchartButtonEl =\n",
              "            document.querySelector('#' + key + ' button');\n",
              "          quickchartButtonEl.disabled = true;  // To prevent multiple clicks.\n",
              "          quickchartButtonEl.classList.add('colab-df-spinner');\n",
              "          try {\n",
              "            const charts = await google.colab.kernel.invokeFunction(\n",
              "                'suggestCharts', [key], {});\n",
              "          } catch (error) {\n",
              "            console.error('Error during call to suggestCharts:', error);\n",
              "          }\n",
              "          quickchartButtonEl.classList.remove('colab-df-spinner');\n",
              "          quickchartButtonEl.classList.add('colab-df-quickchart-complete');\n",
              "        }\n",
              "        (() => {\n",
              "          let quickchartButtonEl =\n",
              "            document.querySelector('#df-dcc3b827-ed11-4ec8-baf7-0a96320abe96 button');\n",
              "          quickchartButtonEl.style.display =\n",
              "            google.colab.kernel.accessAllowed ? 'block' : 'none';\n",
              "        })();\n",
              "      </script>\n",
              "    </div>\n",
              "\n",
              "    </div>\n",
              "  </div>\n"
            ],
            "application/vnd.google.colaboratory.intrinsic+json": {
              "type": "dataframe",
              "summary": "{\n  \"name\": \"display(df\",\n  \"rows\": 5,\n  \"fields\": [\n    {\n      \"column\": \"url\",\n      \"properties\": {\n        \"dtype\": \"string\",\n        \"num_unique_values\": 5,\n        \"samples\": [\n          \"https://www.ons.gov.uk/economy/economicoutputandproductivity/output/bulletins/economicactivityandsocialchangeintheukrealtimeindicators/19june2025\",\n          \"https://www.ons.gov.uk/economy/economicoutputandproductivity/output/bulletins/economicactivityandsocialchangeintheukrealtimeindicators/30may2025\",\n          \"https://www.ons.gov.uk/economy/economicoutputandproductivity/output/bulletins/economicactivityandsocialchangeintheukrealtimeindicators/12june2025\"\n        ],\n        \"semantic_type\": \"\",\n        \"description\": \"\"\n      }\n    },\n    {\n      \"column\": \"title\",\n      \"properties\": {\n        \"dtype\": \"string\",\n        \"num_unique_values\": 5,\n        \"samples\": [\n          \"Economic activity and social change in the UK, real-time indicators: 19 June 2025\",\n          \"Economic activity and social change in the UK, real-time indicators: 30 May 2025\",\n          \"Economic activity and social change in the UK, real-time indicators: 12 June 2025\"\n        ],\n        \"semantic_type\": \"\",\n        \"description\": \"\"\n      }\n    },\n    {\n      \"column\": \"text\",\n      \"properties\": {\n        \"dtype\": \"string\",\n        \"num_unique_values\": 5,\n        \"samples\": [\n          \"The seasonally adjusted Direct Debit failure rate for \\\"Electricity and Gas\\\" decreased for the first time this year by 1% in May 2025 compared with the previous month; when compared with May 2024 it increased by 20% (Vocalink and Pay.UK).Section 3: Consumer behaviour.\\nSeasonally adjusted total Revolut debit card spending increased by 3% in May 2025 compared with the previous month and increased by 11% when compared with May 2024 (Revolut).Section 3: Consumer behaviour.\\nOverall retail footfall increased by 2% in the week to 15 June 2025, compared with the previous week and increased by 1% when compared with the equivalent week of 2024 (MRI OnLocation).Section 3: Consumer behaviour.\\nThe number of new online job adverts increased by 27% in May 2025 compared with the previous month, which is the highest number of new online job adverts since June 2023; but when compared with May 2024 this only increased by 1% (Textkernel).Section 4: Business and Workforce.\\nThe number of firms reporting an increase in turnover in May 2025, when compared with the previous month, was broadly equal to the number of firms reporting a decrease (HM Revenue and Customs Value Added Tax returns).Section 4: Business and Workforce.\\nThe System Average Price (SAP) of gas decreased by 3% to 2.843 pence per kilowatt hour (p/kWh) in May 2025 compared with the previous month, while the System price of electricity decreased by 8% to 6.944p/kWh over the same period (Elexon, National Gas Transmission).Section 5: Energy.\\nThe seasonally adjusted total number of ship visits to major UK ports decreased by 1% in May 2025 compared with the previous month while the seasonally adjusted total number of flights increased by 1%; when compared with the equivalent month of 2024, ship visits decreased by 9% but the number of flights increased by 3% (exactEarth, EUROCONTROL).Section 6: Transport.\\nThe seasonally adjusted total number of Energy Performance Building Certificates (EPCs) for new dwellings across England and Wales increased by 4% in the month of May 2025 compared with the previous month; for existing dwellings, it increased by 12% over the same period (Ministry of Housing, Communities and Local Government).Section 7: Housing.\\nThe seasonally adjusted Direct Debit failure rate for \\\"Electricity and Gas\\\" decreased for the first time this year by 1% in May 2025 compared with the previous month; when compared with May 2024 it increased by 20% (Vocalink and Pay.UK).Section 3: Consumer behaviour.\\nSeasonally adjusted total Revolut debit card spending increased by 3% in May 2025 compared with the previous month and increased by 11% when compared with May 2024 (Revolut).Section 3: Consumer behaviour.\\nOverall retail footfall increased by 2% in the week to 15 June 2025, compared with the previous week and increased by 1% when compared with the equivalent week of 2024 (MRI OnLocation).Section 3: Consumer behaviour.\\nThe number of new online job adverts increased by 27% in May 2025 compared with the previous month, which is the highest number of new online job adverts since June 2023; but when compared with May 2024 this only increased by 1% (Textkernel).Section 4: Business and Workforce.\\nThe number of firms reporting an increase in turnover in May 2025, when compared with the previous month, was broadly equal to the number of firms reporting a decrease (HM Revenue and Customs Value Added Tax returns).Section 4: Business and Workforce.\\nThe System Average Price (SAP) of gas decreased by 3% to 2.843 pence per kilowatt hour (p/kWh) in May 2025 compared with the previous month, while the System price of electricity decreased by 8% to 6.944p/kWh over the same period (Elexon, National Gas Transmission).Section 5: Energy.\\nThe seasonally adjusted total number of ship visits to major UK ports decreased by 1% in May 2025 compared with the previous month while the seasonally adjusted total number of flights increased by 1%; when compared with the equivalent month of 2024, ship visits decreased by 9% but the number of flights increased by 3% (exactEarth, EUROCONTROL).Section 6: Transport.\\nThe seasonally adjusted total number of Energy Performance Building Certificates (EPCs) for new dwellings across England and Wales increased by 4% in the month of May 2025 compared with the previous month; for existing dwellings, it increased by 12% over the same period (Ministry of Housing, Communities and Local Government).Section 7: Housing.\\n!These are official statistics in development, and we advise caution when using the data. The data sources used to compile these indicators are regularly reviewed to ensure they are representative and relevant, which may mean indicators change at short notice. Read more inSection 10: Data sources and quality.\\nThese are official statistics in development, and we advise caution when using the data. The data sources used to compile these indicators are regularly reviewed to ensure they are representative and relevant, which may mean indicators change at short notice. Read more inSection 10: Data sources and quality.\\nEmbed codeEmbed this interactiveCopy\\nCard spending over time is pushed upwards by the impacts of both inflation on value of transactions and cash-to-card conversion.\\nRevolut adjustments to user count are at an aggregate level and as such age bands may not adjust evenly.\\nIndicators with SA in the title have been seasonally adjusted.\\nExisting weekly EPC data can show sudden spikes when housing associations lodge multiple expired EPCs at once. This was especially noticeable in the week to 15 June 2025 for the West Midlands, Yorkshire and The Humber, East Midlands, and London.\\nThe monthly Direct Debit failure rate and average transaction amount are anonymised and aggregated datasets made available to the Office for National Statistics (ONS) by Pay.UK and Vocalink. The data are unadjusted for inflation and reflect economic activity in nominal terms.\\nFor further details on what is covered within this indicator, see ourEconomic activity and social change in the UK, real-time indicators methodology.\\nIn May 2025, the seasonally adjusted 'Total' Direct Debit failure rate increased by 1% compared with the previous month. Failure rates for \\\"Electricity and Gas\\\" and \\\"Fitness Facilities\\\" fell by 1% and 2%, respectively, but rose by 1% for \\\"Water\\\" and \\\"Loans\\\". For \\\"Mortgages\\\", it remained broadly unchanged.\\nWhen compared with May 2024, the seasonally adjusted 'Total' Direct Debit failure rate increased by 6%, with failure rates for \\\"Electricity and Gas\\\", \\\"Fitness Facilities\\\", \\\"Water\\\", and \\\"Loans\\\" increasing by 20%, 13%, 11% and 8%, respectively.\\nFigure 1: The \\u201cTotal\\u201d Direct Debit failure rate was 2.29% in May 2025, compared with 2.26% in April 2025Direct Debit failure rate, UK, January 2019 to May 2025, seasonally adjustedSource: Pay.UK and VocalinkNotes:Data include both individual and business Direct Debit transactions.The total series covers all Direct Debit failure, comprising data beyond the five categories published in\\u00a0ourMonthly Direct Debit failure rate and average transaction amount dataset.The underlying failure rates are low, so month-to-month volatility is expected within this series.Download this chartFigure 1: The \\u201cTotal\\u201d Direct Debit failure rate was 2.29% in May 2025, compared with 2.26% in April 2025Image.csv.xls\\nThe seasonally adjusted 'Total' Direct Debit average transaction amount remained broadly unchanged in May 2025 compared with the previous month. The average transaction amounts for \\\"Loans\\\" and \\\"Electricity and Gas\\\" decreased by 3% and 1%, respectively, while for \\\"Water\\\" it increased by 1%.\\nWhen compared with May 2024, the seasonally adjusted 'Total' Direct Debit average transaction amount increased by 2%. This was because of increases in \\\"Water\\\", \\\"Mortgages\\\", and \\\"Fitness Facilities\\\" of 20%, 6%, and 4%, respectively, but counteracted by decreases in \\\"Electricity and Gas\\\" and \\\"Loans\\\" of 8% and 4%, respectively.\\nFigure 2: The Direct Debit average transaction amount for May 2025 remained broadly unchanged, compared with April 2025Average transaction amount, UK, January 2019 to May 2025, seasonally adjustedSource: Pay.UK and VocalinkNotes:Data include both individual and business Direct Debit transactions.The total series covers all Direct Debit transactions, comprising data beyond the five categories published in ourMonthly Direct Debit failure rate and average transaction amount dataset.Data are not adjusted for inflation.Download this chartFigure 2: The Direct Debit average transaction amount for May 2025 remained broadly unchanged, compared with April 2025Image.csv.xls\\nOur accompanyingMonthly Direct Debit failure rate and average transaction amount datasetis available.\\nIn May 2025 seasonally adjusted total Revolut debit card spending increased by 3% compared with the previous month. The largest increases by sector were seen in \\u201cEntertainment\\u201d and \\u201cRestaurants\\u201d of 7% and 5%, respectively.\\nWhen compared with May 2024, seasonally adjusted total Revolut debit card spending increased by 11%, the largest increases by sector were seen in \\u201cEntertainment\\u201d, \\u201cHealth\\u201d, \\u201cUtilities\\u201d and \\u201cShopping\\u201d of 26%, 18%, 18% and 15%, respectively.\\nOur accompanyingRevolut spending on debit cards datasetis available.\\nFigure 3: Overall retail footfall increased by 2% in the week to 15 June 2025 compared with the previous week, and by 1% compared with the same week in 2024Index of daily retail footfall volumes, UK,1 January 2023 to 15 June 2025, non-seasonally adjustedSource: MRI OnLocationNotes:Peaks seen in footfall correspond to bank holidays and school holidays. Over the previous 12 months notable dates were as follows: Weeks 30 to 35, 2024 school summer holidays; Week 43, 2024 October half-term; Week 51, 2024 Christmas bank holidays and school holidays; Week 8, 2025 February half-term; Week 15, 2025 Easter bank holidays and school holidays; Week 22, 2025 May bank holiday and half term.Download this chartFigure 3: Overall retail footfall increased by 2% in the week to 15 June 2025 compared with the previous week, and by 1% compared with the same week in 2024Image.csv.xls\\nIn the week to 15 June 2025, high street footfall increased by 5% compared to the previous week, while retail parks saw a decrease of 1% and shopping centres remained broadly unchanged. When compared with the equivalent week of 2024, high streets saw a 3% increase but retail parks and shopping centres both decreased by 1% and 2%, respectively.\\nOverall retail footfall increased in 10 of the 12 UK countries and regions compared with the previous week. The largest increase was in the East, which increased by 6%. Of the two UK countries and English regions which saw a decrease in the latest week, the largest decrease was for Northern Ireland, by 2%.\\nIn the month of May 2025, the annual growth rate for the average price of automotive fuel decreased by 2 percentage points, compared with the previous month, and decreased by 13 percentage points, when compared with May 2024.\\nThe annual growth rate for average automotive fuel demand per transaction increased by 1 percentage point compared with the previous month and by 8 percentage points when compared with May 2024.\\nOur accompanyingAutomotive fuel spending datasetis available.\\nDetails on the methods used to compile these estimates are available in ourmeasuring labour demand volumes across the UK using Textkernel data user guide.\\nFigure 4: The number of new online job adverts increased by 27% to approximately 834,000 in May 2025, compared with April 2025Volume of new job adverts, UK, January 2020 to May 2025, non-seasonally adjustedSource: TextkernelNotes:New adverts represent the total number of adverts that have gone online in the month, calculated by counting the number of adverts that appear for the first time across the calendar month.Counts are rounded to the nearest five.Download this chartFigure 4: The number of new online job adverts increased by 27% to approximately 834,000 in May 2025, compared with April 2025Image.csv.xls\\nThe number of new online job adverts increased by 27% in May 2025 compared with April 2025, which is the highest number of new online job adverts since June 2023. The number of new online job adverts increased by only 1% when compared with May 2024.\\nEmbed codeEmbed this interactiveCopy\\nNew adverts represent the total number of adverts that have gone online in the month, calculated by counting the number of adverts that appear for the first time across the calendar month.\\nCounts are rounded to the nearest five.\\nFor information on how adverts were assigned to geographical locations, see ourMeasuring labour demand volumes across the UK using Textkernel data user guide.\\nThe number of new online job adverts increased in 6 of the 12 UK countries and English regions in May 2025 when compared with the previous year. The largest percentage increase was in the East Midlands, increasing by 8%, while the largest percentage decrease was in the East of England, decreasing by 6%.\\nThe number of new online job adverts increased in 13 of the 26 occupation groups in May 2025 when compared with the previous year. The occupation group that saw the largest percentage increase in the volume of new adverts over this period was \\\"Science, research, engineering and technology professionals\\\", which saw an increase of 28%.\\nThe occupation group with the largest decrease was \\\"Health professionals\\\", which saw a decrease of 19%, when compared with the previous year. This is the third month in a row that this occupation category has had the largest decrease when compared with the previous year.\\nDetails on the methods used to compile these estimates are available in ourmeasuring labour demand volumes across the UK using Textkernel data user guide. For further tables using similar methodology and sources by local authority and 4-digit SOC, see ourLabour demand by Standard Occupation Classification datasets.\\nOur accompanyingTextkernel new online job adverts datasetis available.\\nTurnover diffusion indices are an aggregate measure used to track whether most firms are reporting an increase or decrease in turnover in their Value Added Tax (VAT) returns. They are calculated as the percentage of firms with increasing turnover, minus the percentage of firms with decreasing turnover.\\nThese estimates have been weighted according to each industry's contribution to the economy. As services have the greatest contribution, they have a greater contribution to the total index.\\nThe indices are constructed to lie between 1 and negative 1. An index of 0.05 means that 5% more firms reported an increase in turnover compared with the previous month than those reporting a decrease in turnover. Conversely, an index of negative 0.05 means that 5% more firms reported a decrease in turnover compared with the previous month.\\nEmbed codeEmbed this interactiveCopy\\nThese data are current price so may reflect elements of inflation.\\nThe shaded areas represent the 95% confidence limits.\\nThe confidence limits are 1.96 standard deviations of the seasonally adjusted series, centred around zero. If a data point is outside of these limits, it is a statistically significant difference.\\nThe number of firms reporting an increase in turnover in May 2025, when compared with the previous month, was broadly equal to the number of firms reporting a decrease. This is an improvement from April 2025 when a net 1% more firms reported a decrease in turnover compared with the previous month. This is after seasonal adjustment and is within normal month-on-month variation.\\nA net 1% of firms within the construction sector reported increased turnover on the previous month, increasing 5 percentage points from April 2025 and is within normal month-on-month variation.\\nThe services sector, the largest contributing sector to gross domestic product (GDP), saw a broadly equal number of firms reporting an increase in turnover in May 2025, to the number reporting a decrease, compared with the previous month. This has increased by 1 percentage point from April 2025 and is within normal month-on-month variation.\\nThe production sector saw a net 2% of firms reporting a decrease in turnover in May 2025 compared with the previous month, and this has decreased 5 percentage points from April 2025. A net of 3% of firms in the agriculture sector reported increased turnover on the previous month, increasing 1 percentage point from April 2025.\\nThe data are seasonally adjusted. More information on the compilation and methodology of these estimates can be found in ourEconomic activity and social change in the UK, real-time indicators methodology.\\nThe Business Insights and Conditions Survey (BICS) collects data from selected industries and does not have full coverage of the UK economy. For more information on the industries covered in the BICS sample, seeour\\u202fBusiness Insights and Conditions Survey (BICS) QMI.\\nWe have created a reweighted gross domestic product (GDP) estimate, termed as GDP*, to enable comparisons, which only includes the same industries as those covered within the BICS.\\nFigure 7: The Business Insights and Conditions Survey standardised turnover balance slightly increased by 0.1 percentage points between April and May 2025Business Insights and Conditions Survey (BICS) standardised turnover balance and monthly gross domestic product* (GDP*) estimates, UK, 1 January 2023 to 31 May 2025Source: BICS from the Office for National StatisticsNotes:Final weighted results are from Waves 76 to 134 of our BICS and adjusted monthly GDP (termed as GDP*) estimates.BICS turnover balances have been standardised and adjusted for magnitude and trading status.GDP* is a comparison measure derived to cover the same industries as those covered by BICS, which are then re-weighted. This differs from our published monthly GDP.The BICS asks businesses to report how their value of turnover compares with the previous month, excluding seasonal changes. GDP* excludes any inflationary impact and reflects the changes in volume terms.Data are plotted in the middle of the reference period, which is the 15th day of the month.BICS turnover balances are subject to revision because they are calculated using a rolling average of monthly GDP estimates.Download this chartFigure 7: The Business Insights and Conditions Survey standardised turnover balance slightly increased by 0.1 percentage points between April and May 2025Image.csv.xls\\nFinal weighted results are from Waves 76 to 134 of our BICS and adjusted monthly GDP (termed as GDP*) estimates.\\nBICS turnover balances have been standardised and adjusted for magnitude and trading status.\\nGDP* is a comparison measure derived to cover the same industries as those covered by BICS, which are then re-weighted. This differs from our published monthly GDP.\\nThe BICS asks businesses to report how their value of turnover compares with the previous month, excluding seasonal changes. GDP* excludes any inflationary impact and reflects the changes in volume terms.\\nData are plotted in the middle of the reference period, which is the 15th day of the month.\\nBICS turnover balances are subject to revision because they are calculated using a rolling average of monthly GDP estimates.\\nThe number of potential redundancies was 3% lower in the four weeks to 1 June 2025 than the equivalent four weeks of 2024. The number of employers proposing redundancies was 5% higher when compared over the same period.\\nComparisons with the equivalent period a year ago help account for any seasonal impacts. For more information, our accompanyingAdvanced notification of potential redundancies datasetis available.\\nFigure 8: The System Average Price of gas decreased by 3% and the System Price of electricity decreased by 8% in May 2025, compared with the previous monthSystem Average Price (SAP) of gas and System Price of electricity, monthly average and seven-day rolling average, UK, 1 January 2022 to 15 June 2025, non-seasonally adjustedSource: Elexon, National Gas TransmissionDownload this chartFigure 8: The System Average Price of gas decreased by 3% and the System Price of electricity decreased by 8% in May 2025, compared with the previous monthImage.csv.xls\\nThe System Average Price of gas decreased by 3% in May 2025, compared with the previous month. It decreased from a monthly average price of 2.917 pence per kilowatt hour (p/kWh) to 2.843p/kWh. This was 8% higher than May 2024, which had a monthly average price of 2.637p/kWh.\\nThe System price of electricity decreased by 8% in May 2025, compared with the previous month. It decreased from a monthly average price of 7.509p/kWh to 6.944p/kWh. This was 4% lower than May 2024, which had a monthly average price of 7.201p/kWh.\\nOur accompanyingSystem Average Price of gas datasetandSystem Price of electricity datasetare available.\\nIn the month of May 2025, the seasonally adjusted total number of flights increased by 1% compared with the previous month and increased by 3% when compared with the equivalent month of 2024.\\nOur accompanyingDaily UK flights datasetis available.\\nThe seasonally adjusted total number of ship visits to selected UK ports decreased by 1% in May 2025 compared with the previous month. Over the same period, the count of cargo ship and tanker visits decreased by 2%.\\nWhen compared with the equivalent month of 2024, the seasonally adjusted total number of ship visits decreased by 9% and cargo ship and tanker visits decreased by 7%.\\nFigure 9: The seasonally adjusted total number of ship visits to selected UK ports was 4,919 in May 2025, slightly down from 4,957 in April 2025All ship visits, seasonally adjusted, UK, January 2022 to May 2025Source: exactEarth and Office for National StatisticsDownload this chartFigure 9: The seasonally adjusted total number of ship visits to selected UK ports was 4,919 in May 2025, slightly down from 4,957 in April 2025Image.csv.xls\\nOur accompanyingWeekly shipping indicators datasetis available.\\nThe seasonally adjusted total number of Energy Performance Building Certificates (EPCs) for new dwellings across England and Wales increased by 4% in the month of May 2025 compared with the previous month, and increased by 12% for existing dwellings, over the same period.\\nWhen compared with May 2024, the seasonally adjusted total number of EPCs for new dwellings decreased by 3% in May 2025, but the number of EPCs for existing dwellings increased by 16% over the same period.\\nOur accompanyingEnergy Performance Building Certificates (EPC) datasetis available The Ministry of Housing, Communities and Local Government's weeklyEPCs for domestic properties datasetis available.\\nSystem Average Price (SAP) of gasDataset | Released 19 June 2025Daily data showing System Average Price (SAP) of gas, and rolling seven-day average, traded in Great Britain over the On-the-Day Commodity Market (OCM). These are official statistics in development. Source: National Gas Transmission.System Price of electricityDataset | Released 19 June 2025Daily data showing the System Price of electricity, and rolling seven-day average, in Great Britain. These are official statistics in development. Source: ElexonDaily UK flightsDataset | Released 19 June 2025Daily data showing UK flight numbers and rolling seven-day average, including flights to, from, and within the UK. These are official statistics in development. Source: EUROCONTROL.This section lists a selection of data available in this publication. Please note that because of our data sharing agreement with MRI onLocation, we are unable to provide a dataset for our footfall metric. For the full list of available datasets, please see ouraccompanying dataset page.\\nSystem Average Price (SAP) of gasDataset | Released 19 June 2025Daily data showing System Average Price (SAP) of gas, and rolling seven-day average, traded in Great Britain over the On-the-Day Commodity Market (OCM). These are official statistics in development. Source: National Gas Transmission.\\nSystem Price of electricityDataset | Released 19 June 2025Daily data showing the System Price of electricity, and rolling seven-day average, in Great Britain. These are official statistics in development. Source: Elexon\\nDaily UK flightsDataset | Released 19 June 2025Daily data showing UK flight numbers and rolling seven-day average, including flights to, from, and within the UK. These are official statistics in development. Source: EUROCONTROL.\\nThis section lists a selection of data available in this publication. Please note that because of our data sharing agreement with MRI onLocation, we are unable to provide a dataset for our footfall metric. For the full list of available datasets, please see ouraccompanying dataset page.\\nA real-time indicator provides insights into economic activity using close-to-real-time big data, administrative data sources, rapid response surveys or experimental estimates, which represent useful economic and social concepts.\\nSeasonal adjustment is the identification and removal of consistent and systematic variation in time series associated with the time of year. For more information on seasonal variation, and how we implement seasonal adjustment, see Section 2 of ourEconomic activity and social change in the UK, real-time indicators methodology article.\\nRevolut spending on debit cards dataset; updated 19 June 2025.\\nAutomotive fuel spending dataset; updated 19 June 2025.\\nCompany incorporations, voluntary dissolutions and compulsory dissolutions dataset; updated 30 January 2025.\\nAdvanced notification of potential redundancies dataset; updated 19 June 2025.\\nSystem Average price of gas dataset; updated 19 June 2025.\\nSystem Price of electricity dataset; updated 19 June 2025.\\nEnergy Performance Building Certificates (EPC) dataset; updated 19 June 2025.\\nWeekly shipping indicators dataset; updated 19 June 2025.\\nDaily UK flights dataset; updated 19 June 2025.\\nThese statistics are labelled asofficial statistics in development. Until September 2023, these were called \\\"experimental statistics\\\". Read more about the change in ourGuide to official statistics in development.\\nWe are developing how we collect and produce the data to improve the quality of these statistics. Find out more in ourEconomic activity and social change in the UK, real-time indicators methodology article.\\nOnce the developments are complete, we will review the statistics with the Statistics Head of Profession. We will decide if the statistics are of sufficient quality and value to be published as official statistics, or if further development is needed. Production may be stopped if they are not of sufficient quality or value. Users will be informed of the outcome and any changes.\\nWe value your feedback on these statistics. If you would like to get in touch, please emailrealtime.indicators@ons.gov.uk.\\nLatest release dates and intended release frequency of our associated datasets are available in this section. Please note that there may be some change to the intended release frequency for a variety of reasons, such as data availability. If you would like further information about any of these datasets, or previous release dates, please emailrealtime.indicators@ons.gov.uk.\\nRevolut spending on debit cards dataset; updated 19 June 2025.\\nAutomotive fuel spending dataset; updated 19 June 2025.\\nCompany incorporations, voluntary dissolutions and compulsory dissolutions dataset; updated 30 January 2025.\\nAdvanced notification of potential redundancies dataset; updated 19 June 2025.\\nSystem Average price of gas dataset; updated 19 June 2025.\\nSystem Price of electricity dataset; updated 19 June 2025.\\nEnergy Performance Building Certificates (EPC) dataset; updated 19 June 2025.\\nWeekly shipping indicators dataset; updated 19 June 2025.\\nDaily UK flights dataset; updated 19 June 2025.\\nMonthly Direct Debit failure rate and average transaction amount dataset; updated 12 June 2025.\\nTextkernel new online job adverts dataset; updated 19 June 2025.\\nValue Added Tax (VAT) flash estimates dataset; updated 19 June 2025.\\nRenter affordability for new tenancies dataset; updated 12 June 2025.\\nThese statistics have been produced to provide timely indicators of the effect of developing world events on the UK economy and society. We use close-to-real-time big data, administrative data sources, rapid response surveys, or official statistics in development.\\nThe data presented in this bulletin are reviewed and refreshed on a regular basis. Indicators are swapped in and out of the publication based on their suitability and availability.\\nSeasonal fluctuations are likely to be present in many of these indicators, so caution must be applied when interpreting changes in series that are not seasonally adjusted.\\nEconomic activity and social change in the UK, real-time indicators methodologyMethodology | Last revised 2 April 2024Methodology for the data collection, aggregation, analysis and presentation for the real-time indicators bulletin.GDP monthly estimate, UKBulletin | Released monthlyGross domestic product (GDP) measures the value of goods and services produced in the UK. It estimates the size of and growth in the economy.Public opinions and social trends, Great BritainBulletin | Released monthlySocial insights on daily life and events, including important issues, cost of living, and artificial intelligence from the Opinions and Lifestyle Survey (OPN).Business insights and impact on the UK economyBulletin | Released fortnightlyThe impact of challenges facing the economy and other events on UK businesses, including financial performance, workforce, trade, and business resilience.Labour demand volumes by Standard Occupation Classification (SOC 2020), UKDataset | Released quarterlyThese tables contain the number of online job adverts, split by local authority and occupation (SOC 2020).\\nEconomic activity and social change in the UK, real-time indicators methodologyMethodology | Last revised 2 April 2024Methodology for the data collection, aggregation, analysis and presentation for the real-time indicators bulletin.\\nGDP monthly estimate, UKBulletin | Released monthlyGross domestic product (GDP) measures the value of goods and services produced in the UK. It estimates the size of and growth in the economy.\\nPublic opinions and social trends, Great BritainBulletin | Released monthlySocial insights on daily life and events, including important issues, cost of living, and artificial intelligence from the Opinions and Lifestyle Survey (OPN).\\nBusiness insights and impact on the UK economyBulletin | Released fortnightlyThe impact of challenges facing the economy and other events on UK businesses, including financial performance, workforce, trade, and business resilience.\\nLabour demand volumes by Standard Occupation Classification (SOC 2020), UKDataset | Released quarterlyThese tables contain the number of online job adverts, split by local authority and occupation (SOC 2020).\\nOffice for National Statistics (ONS), published 19 June 2025, ONS website, statistical bulletin,Economic activity and social change in the UK, real-time indicators: 19 June 2025\\nOffice for National Statistics (ONS), published 19 June 2025, ONS website, statistical bulletin,Economic activity and social change in the UK, real-time indicators: 19 June 2025\",\n          \"Overall retail footfall increased by 1% in the week to 25 May 2025, compared with the previous week, and when compared with the equivalent week of 2024; increases were also seen across high streets (1%) and shopping centres (2%), while retail parks remained broadly unchanged, compared with the previous week (MRI OnLocation).\\nTotal Revolut debit card spending decreased by 1% in the week to 18 May 2025, compared with the previous week, but increased by 10% when compared with the equivalent week of 2024 (Revolut).\\nIn late May 2025, 13% of trading businesses with 10 or more employees reported that they experienced an impact from the United States tariffs in the previous month; this is less than the 17% that expected to be impacted by the tariffs when asked in late April 2025 (initial results from Wave 133 of the Business Insights and Conditions Survey).\\nThe System Price of electricity decreased by 21% in the week to 25 May 2025 compared with the previous week, and decreased by 22% when compared with the equivalent week of 2024; the System Average Price (SAP) of gas increased by 6% in the week to 25 May 2025, compared with both the previous week and with the equivalent week of 2024 (Elexon, National Gas Transmission).\\nThe seasonally adjusted number of daily UK flights was broadly unchanged in the week to 25 May 2025 compared with the previous week, but increased by 5% when compared with the equivalent week of 2024 (EUROCONTROL).\\nThe total number of ship visits to major UK ports was broadly unchanged in the week to 25 May 2025 compared with the previous week, but decreased by 5% when compared with the equivalent week of 2024; for cargo and tanker ships, it decreased by 2% in the week to 25 May 2025 and by 1% when compared with the equivalent week of 2024 (exactEarth).\\nThe total number of Energy Performance Building Certificates (EPCs) decreased by 6% for new dwellings but increased by 30% for existing dwellings, in the week to 25 May 2025 compared with the previous week; total EPCs decreased by 5% for new dwellings and increased by 47% for existing dwellings when compared with the equivalent week of 2024 (Ministry of Housing, Communities and Local Government).\\nOverall retail footfall increased by 1% in the week to 25 May 2025, compared with the previous week, and when compared with the equivalent week of 2024; increases were also seen across high streets (1%) and shopping centres (2%), while retail parks remained broadly unchanged, compared with the previous week (MRI OnLocation).\\nTotal Revolut debit card spending decreased by 1% in the week to 18 May 2025, compared with the previous week, but increased by 10% when compared with the equivalent week of 2024 (Revolut).\\nIn late May 2025, 13% of trading businesses with 10 or more employees reported that they experienced an impact from the United States tariffs in the previous month; this is less than the 17% that expected to be impacted by the tariffs when asked in late April 2025 (initial results from Wave 133 of the Business Insights and Conditions Survey).\\nThe System Price of electricity decreased by 21% in the week to 25 May 2025 compared with the previous week, and decreased by 22% when compared with the equivalent week of 2024; the System Average Price (SAP) of gas increased by 6% in the week to 25 May 2025, compared with both the previous week and with the equivalent week of 2024 (Elexon, National Gas Transmission).\\nThe seasonally adjusted number of daily UK flights was broadly unchanged in the week to 25 May 2025 compared with the previous week, but increased by 5% when compared with the equivalent week of 2024 (EUROCONTROL).\\nThe total number of ship visits to major UK ports was broadly unchanged in the week to 25 May 2025 compared with the previous week, but decreased by 5% when compared with the equivalent week of 2024; for cargo and tanker ships, it decreased by 2% in the week to 25 May 2025 and by 1% when compared with the equivalent week of 2024 (exactEarth).\\nThe total number of Energy Performance Building Certificates (EPCs) decreased by 6% for new dwellings but increased by 30% for existing dwellings, in the week to 25 May 2025 compared with the previous week; total EPCs decreased by 5% for new dwellings and increased by 47% for existing dwellings when compared with the equivalent week of 2024 (Ministry of Housing, Communities and Local Government).\\n!These are official statistics in development, and we advise caution when using the data. The data sources used to compile these indicators are regularly reviewed to ensure they are representative and relevant, which may mean indicators change at short notice. Read more inSection 5: Data sources and quality.\\nThese are official statistics in development, and we advise caution when using the data. The data sources used to compile these indicators are regularly reviewed to ensure they are representative and relevant, which may mean indicators change at short notice. Read more inSection 5: Data sources and quality.\\nEmbed codeEmbed this interactiveCopy\\nSystem Average Price (SAP) of gasDataset | Released 30 May 2025Daily data showing System Average Price (SAP) of gas, and rolling seven-day average, traded in Great Britain over the On-the-Day Commodity Market (OCM). These are official statistics in development. Source: National Gas Transmission.System Price of electricityDataset | Released 30 May 2025Daily data showing the System Price of electricity, and rolling seven-day average, in Great Britain. These are official statistics in development. Source: ElexonDaily UK flightsDataset | Released 30 May 2025Daily data showing UK flight numbers and rolling seven-day average, including flights to, from, and within the UK. These are official statistics in development. Source: EUROCONTROL.\\nSystem Average Price (SAP) of gasDataset | Released 30 May 2025Daily data showing System Average Price (SAP) of gas, and rolling seven-day average, traded in Great Britain over the On-the-Day Commodity Market (OCM). These are official statistics in development. Source: National Gas Transmission.\\nSystem Price of electricityDataset | Released 30 May 2025Daily data showing the System Price of electricity, and rolling seven-day average, in Great Britain. These are official statistics in development. Source: Elexon\\nDaily UK flightsDataset | Released 30 May 2025Daily data showing UK flight numbers and rolling seven-day average, including flights to, from, and within the UK. These are official statistics in development. Source: EUROCONTROL.\\nThis section lists a selection of data available in this publication. Please note that because of our data sharing agreement with MRI onLocation, we are unable to provide a dataset for our footfall metric. For the full list of available datasets, please see ouraccompanying dataset page.\\nA real-time indicator provides insights into economic activity using close-to-real-time big data, administrative data sources, rapid response surveys or experimental estimates, which represent useful economic and social concepts.\\nSeasonal adjustment is the identification and removal of consistent and systematic variation in time series associated with the time of year. For more information on seasonal variation, and how we implement seasonal adjustment, see Section 2 of ourEconomic activity and social change in the UK, real-time indicators methodology article.\\nRevolut spending on debit cards dataset; updated 30 May 2025.\\nAutomotive fuel spending dataset; updated 30 May 2025.\\nCompany incorporations, voluntary dissolutions and compulsory dissolutions dataset; updated 30 January 2025.\\nAdvanced notification of potential redundancies dataset; updated 30 May 2025.\\nSystem Average price of gas dataset; updated 30 May 2025.\\nSystem Price of electricity dataset; updated 30 May 2025.\\nEnergy Performance Building Certificates (EPC) dataset; updated 30 May 2025.\\nWeekly shipping indicators dataset; updated 30 May 2025.\\nDaily UK flights dataset; updated 30 May 2025.\\nThese statistics are labelled asofficial statistics in development. Until September 2023, these were called \\\"experimental statistics\\\". Read more about the change in ourGuide to official statistics in development.\\nWe are developing how we collect and produce the data to improve the quality of these statistics. Find out more in ourEconomic activity and social change in the UK, real-time indicators methodology article.\\nOnce the developments are complete, we will review the statistics with the Statistics Head of Profession. We will decide if the statistics are of sufficient quality and value to be published as official statistics, or if further development is needed. Production may be stopped if they are not of sufficient quality or value. Users will be informed of the outcome and any changes.\\nWe value your feedback on these statistics. If you would like to get in touch, please emailrealtime.indicators@ons.gov.uk.\\nLatest release dates and intended release frequency of our associated datasets are available in this section. Please note that there may be some change to the intended release frequency for a variety of reasons, such as data availability. If you would like further information about any of these datasets, or previous release dates, please emailrealtime.indicators@ons.gov.uk.\\nRevolut spending on debit cards dataset; updated 30 May 2025.\\nAutomotive fuel spending dataset; updated 30 May 2025.\\nCompany incorporations, voluntary dissolutions and compulsory dissolutions dataset; updated 30 January 2025.\\nAdvanced notification of potential redundancies dataset; updated 30 May 2025.\\nSystem Average price of gas dataset; updated 30 May 2025.\\nSystem Price of electricity dataset; updated 30 May 2025.\\nEnergy Performance Building Certificates (EPC) dataset; updated 30 May 2025.\\nWeekly shipping indicators dataset; updated 30 May 2025.\\nDaily UK flights dataset; updated 30 May 2025.\\nMonthly Direct Debit failure rate and average transaction amount dataset; updated 15 May 2025.\\nTextkernel new online job adverts dataset; updated 22 May 2025.\\nValue Added Tax (VAT) flash estimates dataset; updated 22 May 2025.\\nRenter affordability for new tenancies dataset; updated 9 May 2025.\\nThese statistics have been produced to provide timely indicators of the effect of developing world events on the UK economy and society. We use close-to-real-time big data, administrative data sources, rapid response surveys, or official statistics in development.\\nThe data presented in this bulletin are reviewed and refreshed on a regular basis. Indicators are swapped in and out of the publication based on their suitability and availability.\\nSeasonal fluctuations are likely to be present in many of these indicators, so caution must be applied when interpreting changes in series that are not seasonally adjusted.\\nEconomic activity and social change in the UK, real-time indicators methodologyMethodology | Last revised 2 April 2024Methodology for the data collection, aggregation, analysis and presentation for the real-time indicators bulletin.GDP monthly estimate, UKBulletin | Released monthlyGross domestic product (GDP) measures the value of goods and services produced in the UK. It estimates the size of and growth in the economy.Public opinions and social trends, Great BritainBulletin | Released monthlySocial insights on daily life and events, including important issues, cost of living, and artificial intelligence from the Opinions and Lifestyle Survey (OPN).Business insights and impact on the UK economyBulletin | Released fortnightlyThe impact of challenges facing the economy and other events on UK businesses, including financial performance, workforce, trade, and business resilience.Labour demand volumes by Standard Occupation Classification (SOC 2020), UKDataset | Released quarterlyThese tables contain the number of online job adverts, split by local authority and occupation (SOC 2020).\\nEconomic activity and social change in the UK, real-time indicators methodologyMethodology | Last revised 2 April 2024Methodology for the data collection, aggregation, analysis and presentation for the real-time indicators bulletin.\\nGDP monthly estimate, UKBulletin | Released monthlyGross domestic product (GDP) measures the value of goods and services produced in the UK. It estimates the size of and growth in the economy.\\nPublic opinions and social trends, Great BritainBulletin | Released monthlySocial insights on daily life and events, including important issues, cost of living, and artificial intelligence from the Opinions and Lifestyle Survey (OPN).\\nBusiness insights and impact on the UK economyBulletin | Released fortnightlyThe impact of challenges facing the economy and other events on UK businesses, including financial performance, workforce, trade, and business resilience.\\nLabour demand volumes by Standard Occupation Classification (SOC 2020), UKDataset | Released quarterlyThese tables contain the number of online job adverts, split by local authority and occupation (SOC 2020).\\nOffice for National Statistics (ONS), published 30 May 2025, ONS website, statistical bulletin,Economic activity and social change in the UK, real-time indicators: 30 May 2025\\nOffice for National Statistics (ONS), published 30 May 2025, ONS website, statistical bulletin,Economic activity and social change in the UK, real-time indicators: 30 May 2025\",\n          \"Overall retail footfall decreased in the week to 8 June 2025, by 7% when compared with the previous week and by 2% when compared with the equivalent week of 2024; shopping centres saw the largest week on week decrease of 10%, coinciding with the end of half-term (MRI OnLocation).\\nThe seasonally adjusted Direct Debit failure rate increased by 1% in May 2025 compared with April 2025 and increased by 6% when compared with May 2024; the average transaction amount in May 2025 remained broadly unchanged compared with April 2025 but increased by 2% when compared with May 2024 (Vocalink, Pay.UK).\\nIn our latest Opinions and Lifestyle Survey (OPN), around 1 in 3 households reported difficulty in affording their energy bills (33% very or somewhat difficult, 60% very or somewhat easy) and when asked what they are doing because of increases in cost of living, around 1 in 3 (36%) households reported using less fuel such as gas or electricity (initial findings for May 2025 from our OPN, publishing on 20 June 2025).\\nWhen looking ahead to July 2025, over half (52%) of businesses reported that they were not considering raising prices and for the 48% who were considering raising prices, or were unsure, labour costs (21%), prices of raw materials (15%) and energy prices (14%) were cited as the most-commonly reported reasons for doing so (initial results from Wave 134 of the Business Insights and Conditions Survey).\\nThe System Price of electricity and the System Average Price (SAP) of gas both increased in the week to 8 June 2025 compared with the previous week by 12% and 1%, respectively; they also both increased when compared with the equivalent week of 2024 by 22% and 3%, respectively (Elexon, National Gas Transmission).\\nThe total number of ship visits to major UK ports was broadly unchanged in the week to 8 June 2025 compared with the previous week, but decreased by 6% when compared with the equivalent week of 2024; this differed for cargo and tanker ship visits which increased by 5% in the latest week but was broadly unchanged when compared with the equivalent week of 2024 (exactEarth).\\nThe total number of Energy Performance Building Certificates (EPCs) for new dwellings in the week to 8 June 2025 increased by 13% compared with the previous week; when compared with the equivalent week of 2024, it fell by 14% (Ministry of Housing, Communities and Local Government).\\nOverall retail footfall decreased in the week to 8 June 2025, by 7% when compared with the previous week and by 2% when compared with the equivalent week of 2024; shopping centres saw the largest week on week decrease of 10%, coinciding with the end of half-term (MRI OnLocation).\\nThe seasonally adjusted Direct Debit failure rate increased by 1% in May 2025 compared with April 2025 and increased by 6% when compared with May 2024; the average transaction amount in May 2025 remained broadly unchanged compared with April 2025 but increased by 2% when compared with May 2024 (Vocalink, Pay.UK).\\nIn our latest Opinions and Lifestyle Survey (OPN), around 1 in 3 households reported difficulty in affording their energy bills (33% very or somewhat difficult, 60% very or somewhat easy) and when asked what they are doing because of increases in cost of living, around 1 in 3 (36%) households reported using less fuel such as gas or electricity (initial findings for May 2025 from our OPN, publishing on 20 June 2025).\\nWhen looking ahead to July 2025, over half (52%) of businesses reported that they were not considering raising prices and for the 48% who were considering raising prices, or were unsure, labour costs (21%), prices of raw materials (15%) and energy prices (14%) were cited as the most-commonly reported reasons for doing so (initial results from Wave 134 of the Business Insights and Conditions Survey).\\nThe System Price of electricity and the System Average Price (SAP) of gas both increased in the week to 8 June 2025 compared with the previous week by 12% and 1%, respectively; they also both increased when compared with the equivalent week of 2024 by 22% and 3%, respectively (Elexon, National Gas Transmission).\\nThe total number of ship visits to major UK ports was broadly unchanged in the week to 8 June 2025 compared with the previous week, but decreased by 6% when compared with the equivalent week of 2024; this differed for cargo and tanker ship visits which increased by 5% in the latest week but was broadly unchanged when compared with the equivalent week of 2024 (exactEarth).\\nThe total number of Energy Performance Building Certificates (EPCs) for new dwellings in the week to 8 June 2025 increased by 13% compared with the previous week; when compared with the equivalent week of 2024, it fell by 14% (Ministry of Housing, Communities and Local Government).\\n!These are official statistics in development, and we advise caution when using the data. The data sources used to compile these indicators are regularly reviewed to ensure they are representative and relevant, which may mean indicators change at short notice. Read more inSection 5: Data sources and quality.\\nThese are official statistics in development, and we advise caution when using the data. The data sources used to compile these indicators are regularly reviewed to ensure they are representative and relevant, which may mean indicators change at short notice. Read more inSection 5: Data sources and quality.\\nEmbed codeEmbed this interactiveCopy\\nSystem Average Price (SAP) of gasDataset | Released 12 June 2025Daily data showing System Average Price (SAP) of gas, and rolling seven-day average, traded in Great Britain over the On-the-Day Commodity Market (OCM). These are official statistics in development. Source: National Gas Transmission.System Price of electricityDataset | Released 12 June 2025Daily data showing the System Price of electricity, and rolling seven-day average, in Great Britain. These are official statistics in development. Source: ElexonDaily UK flightsDataset | Released 12 June 2025Daily data showing UK flight numbers and rolling seven-day average, including flights to, from, and within the UK. These are official statistics in development. Source: EUROCONTROL.\\nSystem Average Price (SAP) of gasDataset | Released 12 June 2025Daily data showing System Average Price (SAP) of gas, and rolling seven-day average, traded in Great Britain over the On-the-Day Commodity Market (OCM). These are official statistics in development. Source: National Gas Transmission.\\nSystem Price of electricityDataset | Released 12 June 2025Daily data showing the System Price of electricity, and rolling seven-day average, in Great Britain. These are official statistics in development. Source: Elexon\\nDaily UK flightsDataset | Released 12 June 2025Daily data showing UK flight numbers and rolling seven-day average, including flights to, from, and within the UK. These are official statistics in development. Source: EUROCONTROL.\\nThis section lists a selection of data available in this publication. Please note that because of our data sharing agreement with MRI onLocation, we are unable to provide a dataset for our footfall metric. For the full list of available datasets, please see ouraccompanying dataset page.\\nA real-time indicator provides insights into economic activity using close-to-real-time big data, administrative data sources, rapid response surveys or experimental estimates, which represent useful economic and social concepts.\\nSeasonal adjustment is the identification and removal of consistent and systematic variation in time series associated with the time of year. For more information on seasonal variation, and how we implement seasonal adjustment, see Section 2 two of ourEconomic activity and social change in the UK, real-time indicators methodology article.\\nRevolut spending on debit cards dataset; updated 5 June 2025.\\nAutomotive fuel spending dataset; updated 12 June 2025.\\nCompany incorporations, voluntary dissolutions and compulsory dissolutions dataset; updated 30 January 2025.\\nAdvanced notification of potential redundancies dataset; updated 12 June 2025.\\nSystem Average price of gas dataset; updated 12 June 2025.\\nSystem Price of electricity dataset; updated 12 June 2025.\\nEnergy Performance Building Certificates (EPC) dataset; updated 12 June 2025.\\nWeekly shipping indicators dataset; updated 12 June 2025.\\nDaily UK flights dataset; updated 12 June 2025.\\nThese statistics are labelled asofficial statistics in development. Until September 2023, these were called \\\"experimental statistics\\\". Read more about the change in ourGuide to official statistics in development.\\nWe are developing how we collect and produce the data to improve the quality of these statistics. Find out more in ourEconomic activity and social change in the UK, real-time indicators methodology article.\\nOnce the developments are complete, we will review the statistics with the Statistics Head of Profession. We will decide if the statistics are of sufficient quality and value to be published as official statistics, or if further development is needed. Production may be stopped if they are not of sufficient quality or value. Users will be informed of the outcome and any changes.\\nWe value your feedback on these statistics. If you would like to get in touch, please emailrealtime.indicators@ons.gov.uk.\\nLatest release dates and intended release frequency of our associated datasets are available in this section. Please note that there may be some change to the intended release frequency for a variety of reasons, such as data availability. If you would like further information about any of these datasets, or previous release dates, please emailrealtime.indicators@ons.gov.uk.\\nRevolut spending on debit cards dataset; updated 5 June 2025.\\nAutomotive fuel spending dataset; updated 12 June 2025.\\nCompany incorporations, voluntary dissolutions and compulsory dissolutions dataset; updated 30 January 2025.\\nAdvanced notification of potential redundancies dataset; updated 12 June 2025.\\nSystem Average price of gas dataset; updated 12 June 2025.\\nSystem Price of electricity dataset; updated 12 June 2025.\\nEnergy Performance Building Certificates (EPC) dataset; updated 12 June 2025.\\nWeekly shipping indicators dataset; updated 12 June 2025.\\nDaily UK flights dataset; updated 12 June 2025.\\nMonthly Direct Debit failure rate and average transaction amount dataset; updated 12 June 2025.\\nTextkernel new online job adverts dataset; updated 22 May 2025.\\nValue Added Tax (VAT) flash estimates dataset; updated 22 May 2025.\\nRenter affordability for new tenancies dataset; updated 12 June 2025.\\nThese statistics have been produced to provide timely indicators of the effect of developing world events on the UK economy and society. We use close-to-real-time big data, administrative data sources, rapid response surveys, or official statistics in development.\\nThe data presented in this bulletin are reviewed and refreshed on a regular basis. Indicators are swapped in and out of the publication based on their suitability and availability.\\nSeasonal fluctuations are likely to be present in many of these indicators, so caution must be applied when interpreting changes in series that are not seasonally adjusted.\\nEconomic activity and social change in the UK, real-time indicators methodologyMethodology | Last revised 2 April 2024Methodology for the data collection, aggregation, analysis and presentation for the real-time indicators bulletin.GDP monthly estimate, UKBulletin | Released monthlyGross domestic product (GDP) measures the value of goods and services produced in the UK. It estimates the size of and growth in the economy.Public opinions and social trends, Great BritainBulletin | Released monthlySocial insights on daily life and events, including important issues, cost of living, and artificial intelligence from the Opinions and Lifestyle Survey (OPN).Business insights and impact on the UK economyBulletin | Released fortnightlyThe impact of challenges facing the economy and other events on UK businesses, including financial performance, workforce, trade, and business resilience.Labour demand volumes by Standard Occupation Classification (SOC 2020), UKDataset | Released quarterlyThese tables contain the number of online job adverts, split by local authority and occupation (SOC 2020).\\nEconomic activity and social change in the UK, real-time indicators methodologyMethodology | Last revised 2 April 2024Methodology for the data collection, aggregation, analysis and presentation for the real-time indicators bulletin.\\nGDP monthly estimate, UKBulletin | Released monthlyGross domestic product (GDP) measures the value of goods and services produced in the UK. It estimates the size of and growth in the economy.\\nPublic opinions and social trends, Great BritainBulletin | Released monthlySocial insights on daily life and events, including important issues, cost of living, and artificial intelligence from the Opinions and Lifestyle Survey (OPN).\\nBusiness insights and impact on the UK economyBulletin | Released fortnightlyThe impact of challenges facing the economy and other events on UK businesses, including financial performance, workforce, trade, and business resilience.\\nLabour demand volumes by Standard Occupation Classification (SOC 2020), UKDataset | Released quarterlyThese tables contain the number of online job adverts, split by local authority and occupation (SOC 2020).\\nOffice for National Statistics (ONS), published 12 June 2025, ONS website, statistical bulletin,Economic activity and social change in the UK, real-time indicators: 12 June 2025\\nOffice for National Statistics (ONS), published 12 June 2025, ONS website, statistical bulletin,Economic activity and social change in the UK, real-time indicators: 12 June 2025\"\n        ],\n        \"semantic_type\": \"\",\n        \"description\": \"\"\n      }\n    }\n  ]\n}"
            }
          },
          "metadata": {}
        }
      ]
    },
    {
      "cell_type": "markdown",
      "source": [
        "#### Step 11: Convert Bulletins to DataFrame\n",
        "\n",
        "Converts the list of bulletin dictionaries into a pandas DataFrame for easier manipulation and preview."
      ],
      "metadata": {
        "id": "n7uJwdmCjM7y"
      }
    },
    {
      "cell_type": "code",
      "source": [
        "df = pd.read_json('/content/drive/MyDrive/ons_bulletins.jsonl', lines=True)\n",
        "df.dropna(subset=['text'], inplace=True)\n",
        "df.reset_index(drop=True, inplace=True)\n",
        "print(f\"Loaded {len(df)} bulletin entries.\")"
      ],
      "metadata": {
        "colab": {
          "base_uri": "https://localhost:8080/"
        },
        "id": "HHMNa-bB8SfX",
        "outputId": "929288f3-a8e3-42c0-e27e-53b4ea684e73"
      },
      "execution_count": null,
      "outputs": [
        {
          "output_type": "stream",
          "name": "stdout",
          "text": [
            "Loaded 209 bulletin entries.\n"
          ]
        }
      ]
    },
    {
      "cell_type": "markdown",
      "source": [
        "#### Step 13: Define Function to Split Bulletin Text into Paragraphs\n",
        "\n",
        "Splits long bulletin text into smaller, clean paragraphs based on double line breaks or section headers.\n",
        "Each paragraph must be at least 40 characters long to be retained."
      ],
      "metadata": {
        "id": "FOgUp8GsjgP4"
      }
    },
    {
      "cell_type": "code",
      "source": [
        "def split_into_paragraphs(text):\n",
        "    # Split on double newlines or \"Section 1:\", \"Section 2:\", etc. (case-insensitive)\n",
        "    pattern = r'\\n{2,}|section \\d+:'\n",
        "    paragraphs = re.split(pattern, text, flags=re.IGNORECASE)\n",
        "    return [p.strip() for p in paragraphs if len(p.strip()) > 40]\n",
        "\n",
        "# Expand into paragraph-level dataframe\n",
        "rows = []\n",
        "for _, row in df.iterrows():\n",
        "    for para in split_into_paragraphs(row['text']):\n",
        "        rows.append({\n",
        "            \"url\": row[\"url\"],\n",
        "            \"title\": row[\"title\"],\n",
        "            \"paragraph\": para\n",
        "        })\n",
        "\n",
        "df_para = pd.DataFrame(rows)\n",
        "print(f\"Total paragraph entries: {len(df_para)}\")\n",
        "df_para.head(2)"
      ],
      "metadata": {
        "colab": {
          "base_uri": "https://localhost:8080/",
          "height": 130
        },
        "id": "yd2YQtNa80EC",
        "outputId": "d05fa904-2b31-4a44-993d-4ec232f19e0b"
      },
      "execution_count": null,
      "outputs": [
        {
          "output_type": "stream",
          "name": "stdout",
          "text": [
            "Total paragraph entries: 1305\n"
          ]
        },
        {
          "output_type": "execute_result",
          "data": {
            "text/plain": [
              "                                                 url  \\\n",
              "0  https://www.ons.gov.uk/economy/economicoutputa...   \n",
              "1  https://www.ons.gov.uk/economy/economicoutputa...   \n",
              "\n",
              "                                               title  \\\n",
              "0  Economic activity and social change in the UK,...   \n",
              "1  Economic activity and social change in the UK,...   \n",
              "\n",
              "                                           paragraph  \n",
              "0  Overall retail footfall remained broadly uncha...  \n",
              "1  Data sources and quality.\\nThese are official ...  "
            ],
            "text/html": [
              "\n",
              "  <div id=\"df-f88bc441-ecf2-4e83-b1f6-f037e701a3e5\" class=\"colab-df-container\">\n",
              "    <div>\n",
              "<style scoped>\n",
              "    .dataframe tbody tr th:only-of-type {\n",
              "        vertical-align: middle;\n",
              "    }\n",
              "\n",
              "    .dataframe tbody tr th {\n",
              "        vertical-align: top;\n",
              "    }\n",
              "\n",
              "    .dataframe thead th {\n",
              "        text-align: right;\n",
              "    }\n",
              "</style>\n",
              "<table border=\"1\" class=\"dataframe\">\n",
              "  <thead>\n",
              "    <tr style=\"text-align: right;\">\n",
              "      <th></th>\n",
              "      <th>url</th>\n",
              "      <th>title</th>\n",
              "      <th>paragraph</th>\n",
              "    </tr>\n",
              "  </thead>\n",
              "  <tbody>\n",
              "    <tr>\n",
              "      <th>0</th>\n",
              "      <td>https://www.ons.gov.uk/economy/economicoutputa...</td>\n",
              "      <td>Economic activity and social change in the UK,...</td>\n",
              "      <td>Overall retail footfall remained broadly uncha...</td>\n",
              "    </tr>\n",
              "    <tr>\n",
              "      <th>1</th>\n",
              "      <td>https://www.ons.gov.uk/economy/economicoutputa...</td>\n",
              "      <td>Economic activity and social change in the UK,...</td>\n",
              "      <td>Data sources and quality.\\nThese are official ...</td>\n",
              "    </tr>\n",
              "  </tbody>\n",
              "</table>\n",
              "</div>\n",
              "    <div class=\"colab-df-buttons\">\n",
              "\n",
              "  <div class=\"colab-df-container\">\n",
              "    <button class=\"colab-df-convert\" onclick=\"convertToInteractive('df-f88bc441-ecf2-4e83-b1f6-f037e701a3e5')\"\n",
              "            title=\"Convert this dataframe to an interactive table.\"\n",
              "            style=\"display:none;\">\n",
              "\n",
              "  <svg xmlns=\"http://www.w3.org/2000/svg\" height=\"24px\" viewBox=\"0 -960 960 960\">\n",
              "    <path d=\"M120-120v-720h720v720H120Zm60-500h600v-160H180v160Zm220 220h160v-160H400v160Zm0 220h160v-160H400v160ZM180-400h160v-160H180v160Zm440 0h160v-160H620v160ZM180-180h160v-160H180v160Zm440 0h160v-160H620v160Z\"/>\n",
              "  </svg>\n",
              "    </button>\n",
              "\n",
              "  <style>\n",
              "    .colab-df-container {\n",
              "      display:flex;\n",
              "      gap: 12px;\n",
              "    }\n",
              "\n",
              "    .colab-df-convert {\n",
              "      background-color: #E8F0FE;\n",
              "      border: none;\n",
              "      border-radius: 50%;\n",
              "      cursor: pointer;\n",
              "      display: none;\n",
              "      fill: #1967D2;\n",
              "      height: 32px;\n",
              "      padding: 0 0 0 0;\n",
              "      width: 32px;\n",
              "    }\n",
              "\n",
              "    .colab-df-convert:hover {\n",
              "      background-color: #E2EBFA;\n",
              "      box-shadow: 0px 1px 2px rgba(60, 64, 67, 0.3), 0px 1px 3px 1px rgba(60, 64, 67, 0.15);\n",
              "      fill: #174EA6;\n",
              "    }\n",
              "\n",
              "    .colab-df-buttons div {\n",
              "      margin-bottom: 4px;\n",
              "    }\n",
              "\n",
              "    [theme=dark] .colab-df-convert {\n",
              "      background-color: #3B4455;\n",
              "      fill: #D2E3FC;\n",
              "    }\n",
              "\n",
              "    [theme=dark] .colab-df-convert:hover {\n",
              "      background-color: #434B5C;\n",
              "      box-shadow: 0px 1px 3px 1px rgba(0, 0, 0, 0.15);\n",
              "      filter: drop-shadow(0px 1px 2px rgba(0, 0, 0, 0.3));\n",
              "      fill: #FFFFFF;\n",
              "    }\n",
              "  </style>\n",
              "\n",
              "    <script>\n",
              "      const buttonEl =\n",
              "        document.querySelector('#df-f88bc441-ecf2-4e83-b1f6-f037e701a3e5 button.colab-df-convert');\n",
              "      buttonEl.style.display =\n",
              "        google.colab.kernel.accessAllowed ? 'block' : 'none';\n",
              "\n",
              "      async function convertToInteractive(key) {\n",
              "        const element = document.querySelector('#df-f88bc441-ecf2-4e83-b1f6-f037e701a3e5');\n",
              "        const dataTable =\n",
              "          await google.colab.kernel.invokeFunction('convertToInteractive',\n",
              "                                                    [key], {});\n",
              "        if (!dataTable) return;\n",
              "\n",
              "        const docLinkHtml = 'Like what you see? Visit the ' +\n",
              "          '<a target=\"_blank\" href=https://colab.research.google.com/notebooks/data_table.ipynb>data table notebook</a>'\n",
              "          + ' to learn more about interactive tables.';\n",
              "        element.innerHTML = '';\n",
              "        dataTable['output_type'] = 'display_data';\n",
              "        await google.colab.output.renderOutput(dataTable, element);\n",
              "        const docLink = document.createElement('div');\n",
              "        docLink.innerHTML = docLinkHtml;\n",
              "        element.appendChild(docLink);\n",
              "      }\n",
              "    </script>\n",
              "  </div>\n",
              "\n",
              "\n",
              "    <div id=\"df-04f4a0cc-36f4-4fd7-87b2-63fe9893d64f\">\n",
              "      <button class=\"colab-df-quickchart\" onclick=\"quickchart('df-04f4a0cc-36f4-4fd7-87b2-63fe9893d64f')\"\n",
              "                title=\"Suggest charts\"\n",
              "                style=\"display:none;\">\n",
              "\n",
              "<svg xmlns=\"http://www.w3.org/2000/svg\" height=\"24px\"viewBox=\"0 0 24 24\"\n",
              "     width=\"24px\">\n",
              "    <g>\n",
              "        <path d=\"M19 3H5c-1.1 0-2 .9-2 2v14c0 1.1.9 2 2 2h14c1.1 0 2-.9 2-2V5c0-1.1-.9-2-2-2zM9 17H7v-7h2v7zm4 0h-2V7h2v10zm4 0h-2v-4h2v4z\"/>\n",
              "    </g>\n",
              "</svg>\n",
              "      </button>\n",
              "\n",
              "<style>\n",
              "  .colab-df-quickchart {\n",
              "      --bg-color: #E8F0FE;\n",
              "      --fill-color: #1967D2;\n",
              "      --hover-bg-color: #E2EBFA;\n",
              "      --hover-fill-color: #174EA6;\n",
              "      --disabled-fill-color: #AAA;\n",
              "      --disabled-bg-color: #DDD;\n",
              "  }\n",
              "\n",
              "  [theme=dark] .colab-df-quickchart {\n",
              "      --bg-color: #3B4455;\n",
              "      --fill-color: #D2E3FC;\n",
              "      --hover-bg-color: #434B5C;\n",
              "      --hover-fill-color: #FFFFFF;\n",
              "      --disabled-bg-color: #3B4455;\n",
              "      --disabled-fill-color: #666;\n",
              "  }\n",
              "\n",
              "  .colab-df-quickchart {\n",
              "    background-color: var(--bg-color);\n",
              "    border: none;\n",
              "    border-radius: 50%;\n",
              "    cursor: pointer;\n",
              "    display: none;\n",
              "    fill: var(--fill-color);\n",
              "    height: 32px;\n",
              "    padding: 0;\n",
              "    width: 32px;\n",
              "  }\n",
              "\n",
              "  .colab-df-quickchart:hover {\n",
              "    background-color: var(--hover-bg-color);\n",
              "    box-shadow: 0 1px 2px rgba(60, 64, 67, 0.3), 0 1px 3px 1px rgba(60, 64, 67, 0.15);\n",
              "    fill: var(--button-hover-fill-color);\n",
              "  }\n",
              "\n",
              "  .colab-df-quickchart-complete:disabled,\n",
              "  .colab-df-quickchart-complete:disabled:hover {\n",
              "    background-color: var(--disabled-bg-color);\n",
              "    fill: var(--disabled-fill-color);\n",
              "    box-shadow: none;\n",
              "  }\n",
              "\n",
              "  .colab-df-spinner {\n",
              "    border: 2px solid var(--fill-color);\n",
              "    border-color: transparent;\n",
              "    border-bottom-color: var(--fill-color);\n",
              "    animation:\n",
              "      spin 1s steps(1) infinite;\n",
              "  }\n",
              "\n",
              "  @keyframes spin {\n",
              "    0% {\n",
              "      border-color: transparent;\n",
              "      border-bottom-color: var(--fill-color);\n",
              "      border-left-color: var(--fill-color);\n",
              "    }\n",
              "    20% {\n",
              "      border-color: transparent;\n",
              "      border-left-color: var(--fill-color);\n",
              "      border-top-color: var(--fill-color);\n",
              "    }\n",
              "    30% {\n",
              "      border-color: transparent;\n",
              "      border-left-color: var(--fill-color);\n",
              "      border-top-color: var(--fill-color);\n",
              "      border-right-color: var(--fill-color);\n",
              "    }\n",
              "    40% {\n",
              "      border-color: transparent;\n",
              "      border-right-color: var(--fill-color);\n",
              "      border-top-color: var(--fill-color);\n",
              "    }\n",
              "    60% {\n",
              "      border-color: transparent;\n",
              "      border-right-color: var(--fill-color);\n",
              "    }\n",
              "    80% {\n",
              "      border-color: transparent;\n",
              "      border-right-color: var(--fill-color);\n",
              "      border-bottom-color: var(--fill-color);\n",
              "    }\n",
              "    90% {\n",
              "      border-color: transparent;\n",
              "      border-bottom-color: var(--fill-color);\n",
              "    }\n",
              "  }\n",
              "</style>\n",
              "\n",
              "      <script>\n",
              "        async function quickchart(key) {\n",
              "          const quickchartButtonEl =\n",
              "            document.querySelector('#' + key + ' button');\n",
              "          quickchartButtonEl.disabled = true;  // To prevent multiple clicks.\n",
              "          quickchartButtonEl.classList.add('colab-df-spinner');\n",
              "          try {\n",
              "            const charts = await google.colab.kernel.invokeFunction(\n",
              "                'suggestCharts', [key], {});\n",
              "          } catch (error) {\n",
              "            console.error('Error during call to suggestCharts:', error);\n",
              "          }\n",
              "          quickchartButtonEl.classList.remove('colab-df-spinner');\n",
              "          quickchartButtonEl.classList.add('colab-df-quickchart-complete');\n",
              "        }\n",
              "        (() => {\n",
              "          let quickchartButtonEl =\n",
              "            document.querySelector('#df-04f4a0cc-36f4-4fd7-87b2-63fe9893d64f button');\n",
              "          quickchartButtonEl.style.display =\n",
              "            google.colab.kernel.accessAllowed ? 'block' : 'none';\n",
              "        })();\n",
              "      </script>\n",
              "    </div>\n",
              "\n",
              "    </div>\n",
              "  </div>\n"
            ],
            "application/vnd.google.colaboratory.intrinsic+json": {
              "type": "dataframe",
              "variable_name": "df_para",
              "summary": "{\n  \"name\": \"df_para\",\n  \"rows\": 1305,\n  \"fields\": [\n    {\n      \"column\": \"url\",\n      \"properties\": {\n        \"dtype\": \"category\",\n        \"num_unique_values\": 209,\n        \"samples\": [\n          \"https://www.ons.gov.uk/economy/economicoutputandproductivity/output/bulletins/economicactivityandsocialchangeintheukrealtimeindicators/14november2024\",\n          \"https://www.ons.gov.uk/economy/economicoutputandproductivity/output/bulletins/economicactivityandsocialchangeintheukrealtimeindicators/3february2022\",\n          \"https://www.ons.gov.uk/economy/economicoutputandproductivity/output/bulletins/economicactivityandsocialchangeintheukrealtimeindicators/19october2023\"\n        ],\n        \"semantic_type\": \"\",\n        \"description\": \"\"\n      }\n    },\n    {\n      \"column\": \"title\",\n      \"properties\": {\n        \"dtype\": \"category\",\n        \"num_unique_values\": 209,\n        \"samples\": [\n          \"Economic activity and social change in the UK, real-time indicators: 14 November 2024\",\n          \"Economic activity and social change in the UK, real-time indicators: 3 February 2022\",\n          \"Economic activity and social change in the UK, real-time indicators: 19 October 2023\"\n        ],\n        \"semantic_type\": \"\",\n        \"description\": \"\"\n      }\n    },\n    {\n      \"column\": \"paragraph\",\n      \"properties\": {\n        \"dtype\": \"string\",\n        \"num_unique_values\": 863,\n        \"samples\": [\n          \"Transport.\\n!Results presented in this bulletin are experimental and may be subject to revision. Data sources used to compile these indicators are regularly reviewed to ensure they are representative and relevant, which may mean indicators change at short notice.\\nResults presented in this bulletin are experimental and may be subject to revision. Data sources used to compile these indicators are regularly reviewed to ensure they are representative and relevant, which may mean indicators change at short notice.\\nEmbed codeEmbed this interactiveCopy\\n.xlsx\\nTurnover diffusion indices are an aggregate measure used to track whether most firms are reporting an increase or decrease in turnover in their Value Added Tax (VAT) returns. They are calculated as the percentage of firms with increasing turnover minus the percentage with decreasing turnover.\\nFor the first time, these estimates have been weighted according to each industry's contribution to the economy. As services have the greatest contribution, they likewise have a greater contribution to the total index.\\nThe indices are constructed to lie between 1 and negative 1, so an index of 0.05 means that 5% more firms reported an increase in turnover compared with the previous month than those reporting a decrease in turnover. Conversely, an index of negative 0.05 means that 5% more firms reported a decrease in turnover compared with the previous month.\\nThe data are seasonally adjusted.\\nMore information on the compilation and methodology of these estimates can be found in ourEconomic activity and social change in the UK, real-time indicators methodology.\\nEmbed codeEmbed this interactiveCopy\\n.xlsx\\nAfter seasonal adjustment, a net 3% of firms in December 2022 reported increased turnover on the previous month, compared with a net 2% who reported decreased turnover in December 2021. Production had the highest net percentage of firms reporting an increase, with 7%, followed by construction, with 4%, and services with 2%. Agriculture was the only sector where a net percentage of firms reported decreasing turnover, with negative 6%.\\nData for all available industries, including seasonally adjusted month-on-month estimates and non-seasonally adjusted month-on-month and month-on-year estimates, for turnover and expenditure, are available in ouraccompanying dataset: VAT flash estimates.\\nInitial results from Wave 74 of theBusiness Insights and Conditions Survey(BICS)\\u00a0were collected from 9 to 17 January 2023, with a response rate of 23% (9,045 responses).\\nTable 1: Less than a fifth (18%) of businesses currently trading expected turnover to decrease in February 2023 (beyond usual seasonal fluctuations), down from 29% who expected January 2023 turnover to decrease when asked in the previous monthBusiness turnover expectations, businesses currently trading, weighted by count, UK, November 2022 to February 2023Expect turnover to increaseExpect turnover to stay the sameExpect turnover to decreaseNovember 202211.9%53.4%21.2%December 202213.1%48.6%24.4%January 202310.1%48.0%29.2%February 202313.6%52.7%18.2%Source: Office for National Statistics \\u2013 Business Insights and Conditions Survey (BICS)NotesInitial weighted results Wave 74 of the Office for National Statistics' (ONS') Business Insights and Conditions Survey (BICS).Table rows may not sum to 100% because of rounding and percentages less than 1% being removed for disclosure purposes.Download this tableTable 1: Less than a fifth (18%) of businesses currently trading expected turnover to decrease in February 2023 (beyond usual seasonal fluctuations), down from 29% who expected January 2023 turnover to decrease when asked in the previous month.xls.csv\\nSource: Office for National Statistics \\u2013 Business Insights and Conditions Survey (BICS)\\nNotes\\nThese figures are experimental estimates of online job adverts provided by Adzuna, an online job search engine, by category and by UK country and English region. The number of job adverts over time is an indicator of the demand for labour. The Adzuna categories used do not correspond to Standard Industrial Classification (SIC) categories, so these values are not directly comparable with the Office for National Statistics' (ONS') Vacancy Survey.\\nEmbed codeEmbed this interactiveCopy\\n.xlsx\\nThe total number of online job adverts rose by 7% on 13 January 2022 compared with the previous week. This reflects seasonal trends seen in previous years where job advert numbers increase in the middle of January after declining over the Christmas and New Year periods.\\nThe number of online job adverts increased in 27 of the 28 job categories and decreased in just one category (\\\"scientific/QA\\\"). The largest increase was in the \\\"charity/voluntary\\\" category, which rose by 13%, followed by \\\"sales\\\" and \\\"catering and hospitality\\\" both increasing by 11%. However, the number of online job adverts in the \\\"charity/voluntary\\\" and \\\"sales\\\" categories have been below the pre-coronavirus (COVID-19) baseline since November 2022 and June 2022, respectively.\\nThe total number of online job adverts was 14% lower than the level seen in the equivalent period of 2022. Of the 28 online job advert categories, 10 were above the level seen in the equivalent period of 2022, while the remaining 18 were below this level. The \\\"part time/weekend\\\" category experienced the largest increase compared with the previous year, rising by 33%. \\\"Manufacturing\\\" decreased by 43% compared with the previous year and has been below the level of the previous year since mid-May 2022.\\nFor the first time since mid-November 2022, all 12 of the UK countries and English regions saw increases in the number of online job adverts in the latest week. However, this mirrors what happened last year and is strongly influenced by the effects of seasonality. Northern Ireland saw the largest increase of 14%, while online job adverts in the North East recorded the smallest increase, rising by 5%. Only two regions reported an increase in online job adverts compared with the equivalent period in 2022; adverts in Scotland and Northern Ireland were 11% and 6% above 2022 levels, respectively.\\nThe number of potential redundancies reported in the week to 8 January 2023 was 116% above the level in the equivalent week of 2022, while the number of employers proposing redundancies was 110% higher compared with the level in the equivalent week of 2022. Our accompanyingAdvanced notification of potential redundancies datasetis available.\\noverall footfall, which is the sum of the average footfall in each destination type weighted by their respective footfall volumes\\nshopping centre, which is a space that does not form part of the public highway, and is owned and managed by a single landlord\\nhigh street, which is the central part of the main business and commercial area of a town\\nretail parks and shopping parks, which comprise retail warehouse units, wholly owned and managed by a single landlord\\nAccording todata from OpenTable, in the week to 15 January 2023 the number of UK seated diners compared with the equivalent week in 2019 decreased by 26 percentage points from the previous week, which is in line with expected seasonal patterns, and is 109% of the level in the equivalent week of 2019. The number of seated diners in London decreased by 4 percentage points in the week to 15 January 2023 and remained below that of the equivalent week in 2019 at 86%.\\nIn the week leading up to 8 January 2023, the estimated demand for fuel per transaction decreased by 2 percentage points from the previous week; this was 94% of the level seen in the equivalent week of 2022. Average fuel prices were 112% of the level in the equivalent week of 2022, broadly unchanged from the previous week. Our accompanyingAutomotive fuel spending datasetis available.\\nNational retail footfall figures are supplied by Springboard, a provider of data on customer activity. The breakdowns in this indicator are as follows:\\noverall footfall, which is the sum of the average footfall in each destination type weighted by their respective footfall volumes\\nshopping centre, which is a space that does not form part of the public highway, and is owned and managed by a single landlord\\nhigh street, which is the central part of the main business and commercial area of a town\\nretail parks and shopping parks, which comprise retail warehouse units, wholly owned and managed by a single landlord\\nSpringboard's weekly data are defined over a seven-day period running from Monday to Sunday. Week 2 of 2023 refers to the period Monday 9 January to Sunday 15 January 2023. All quoted figures have been rounded to the nearest integer.\\nEmbed codeEmbed this interactiveCopy\\n.xlsx\\nAccording to Springboard, in the week to 15 January 2023, the volume of overall weekly retail footfall for:\\nthe overall springboard index was 99% of the previous week and 87% of the equivalent week of 2019\\nretail parks were 94% of the previous week and 98% of the level in the equivalent week of 2019\\nhigh streets were 104% of the previous week and 84% of the level in the equivalent week of 2019\\nshopping centres were 95% of the previous week and 82% of the level in the equivalent week of 2019\\nIn the week to 15 January 2023, seven of the 12 UK countries and English regions saw decreased retail footfall compared with the previous week. The largest decrease was reported in Northern Ireland, which recorded 87% of the level in the previous week. Three of the UK countries and English regions saw an increase in retail footfall from the previous week, and two remained unchanged. The largest increase was seen in the North East of England, with footfall levels being 104% of the level seen in the previous week. Footfall in all regions was below 2019 levels, however, with the lowest level seen in Northern Ireland at 82%.\\nThese data series are experimental real-time indicators for estimating UK spending on credit and debit cards. They track the daily CHAPS payments made by credit and debit card payment processors to around 100 major UK retail corporates. These payments are the proceeds of recent credit and debit card transactions made by customers at their stores, both via physical and via online platforms.\\u202fMore information on the indicator is provided in the accompanyingmethodology article.\\nCompanies are allocated to one of four categories based on their primary business:\\n\\\"staples\\\" refers to companies that sell essential goods that households need to purchase, such as food and utilities\\n\\\"work-related\\\" refers to companies providing public transport or selling petrol\\n\\\"delayable\\\" refers to companies selling goods whose purchase could be delayed, such as clothing or furnishings\\n\\\"social\\\" refers to spending on travel and eating out\\nFigure 4: In the week to 12 January 2023, the aggregate CHAPS-based indicator of credit and debit card purchases decreased by 1 percentage point and increased by 7 percentage points compared with the same week in 2022A backward-looking seven-day rolling average, 13 January 2020 to 12 January 2023, non-seasonally adjusted, nominal pricesSource: Office for National Statistics and Bank of England calculationsNotes:Data for the CHAPS-based indicator of credit and debit card purchases are provisional from 5 December 2022 onward.Users should note the daily payment data is the sum of card transactions processed up to the previous working day, so there is a slight time lag when compared with real-life events on the chart.The vertical lines indicate notable events and coronavirus (COVID-19) restriction changes.Percentage point difference is derived from current week and previous week index before rounding. Point difference is the difference between current week and previous week index before rounding.Point difference is the difference between current year and previous year (to the nearest Thursday) index before rounding.Download this chartFigure 4: In the week to 12 January 2023, the aggregate CHAPS-based indicator of credit and debit card purchases decreased by 1 percentage point and increased by 7 percentage points compared with the same week in 2022Image.csv.xls\\nFigure 4 shows changes in the value of CHAPS payments received by large UK corporates from their credit and debit card processors, \\\"merchant acquirers\\\".\\nThe spending categories recorded the following changes in the latest week:\\n\\\"work-related\\\" increased by 14 points\\n\\\"social\\\" increased by 3 points\\n\\\"staple\\\" decreased by 3 points\\n\\\"delayable\\\" decreased by 4 points\\nWhen compared with the same week in 2022, the spending categories recorded the following provisional changes:\\n\\\"work-related\\\" increased by 14 points\\n\\\"social\\\" increased by 12 points\\n\\\"staple\\\" increased by 8 points\\n\\\"delayable\\\" was broadly unchanged\\nRevolut debit card spending fell by 3 percentage points in the week to 15 January 2023 compared with the previous week, with decreased spending in five of the six sector categories. The \\\"automotive fuel\\\" category saw the largest decrease of 19 percentage points and was 59 percentage points below the peak level reported for this category in mid-August 2022, coinciding with recent falls in the price of road fuel. Spending in \\\"entertainment\\\" and \\\"pubs, restaurants and fast food\\\" also continued to fall, decreasing by 8 percentage points and 7 percentage points, respectively, in line with usual seasonal reductions in consumer demand.\\nHowever, for the sixth consecutive week, all categories saw spending above the level reported in the equivalent period of the previous year. Spending in the \\\"retail\\\" category was 38 percentage points above this level. Four of the six sector categories were also above the level of the pre-coronavirus (COVID-19) baseline. Users should note that these data are not adjusted for the potential effects of inflation on the value of transactions.\\nSpending by those in the 18 to 34 age category was broadly unchanged in the latest week, while spending in the 35 to 54 age category fell by 8 percentage points, and spending in the 55 years and over category rose by 5 percentage points. Our accompanyingRevolut spending on debit cards datasetis available.\\nThis is the average price of all gas traded through the balancing market. Market participants post bids or offers for volumes of gas a day-ahead and within-day trades. The SAP aggregates the trades conducted on the On-the-Day Commodity Market (OCM). This is the market that the National Grid use in their role as residual balancer. Other markets exist for wholesale gas trading in Great Britain.\\nThese data can be used to understand the general trend of gas prices within the UK. However, the data should be treated with caution, as these can be subject to extreme within-day trading prices and may skew actual traded prices. Additionally, while these prices reflect spot prices on the day, traders can opt for futures contracts where the buyer and the seller agree the market-determined price for gas for a future date. The daily SAP is used to determine the futures price and is therefore a useful indicator of supply constraints and demand pressures.\\nFigure 5: The preceding seven-day rolling average gas price increased by 3% in the week to 15 January 2023 but was 66% below the peak level observed in mid-August 2022System average price, pence per kilowatt hour, 1 January 2020 to 15 January 2023, GB, non-seasonally adjustedSource: National GridNotes:The price trends observed will differ from that of the monthly Producer Price Inflation (PPI) series published by the ONS because of the differences in data sources and methods.Download this chartFigure 5: The preceding seven-day rolling average gas price increased by 3% in the week to 15 January 2023 but was 66% below the peak level observed in mid-August 2022Image.csv.xls\\nThe SAP has generally trended downwards in the previous few weeks, with the latest value being 53% lower than the level observed in mid-December 2022. The price in the latest week was also 17% below the level reported in the equivalent week of 2022.\\nRoad traffic levels on 9 January 2023 were 6 percentage points above the level on the equivalent day last year (Monday 10 January 2022). Compared with the level of the equivalent day last year, car traffic and light commercial vehicles both increased by 6 percentage points, while heavy goods vehicle traffic was broadly unchanged.\\nThesestatistics are provided by the Department for Transport (DfT), whose road traffic data have moved from a weekly to a monthly release schedule. This dataset will continue to feature in this bulletin on a monthly basis, and the structure of the dataset itself will remain unchanged.\\nAdvanced notification of potential redundanciesDataset | Released 19 January 2023Number of potential redundancies from Insolvency Service HR1 forms and number of employers proposing redundancies, Great Britain.Automotive fuel spendingDataset | Released 19 January 2023Estimated quantity of automotive fuel demand per average transaction is an experimental indicator used to isolate real demand after adjusting for growth in fuel prices.Online job advert estimatesDataset | Released\\u00a019 January 2023Experimental job advert indices covering the UK job market.Revolut spending on debit cardsDataset | Released 19 January 2023Experimental indices of Revolut debit card transaction data, UK. Includes sectoral, age and online versus in-store breakdowns. Daily seven-day averages updated weekly, plus monthly averages.System Average Price (SAP) of gasDataset | Released\\u00a019 January 2023Daily and rolling average System Average Price (SAP) of gas traded in Great Britain over the On-the-Day Commodity Market (OCM).UK spending on credit and debit cardsDataset | Released 19 January 2023These data series are experimental real-time indicators for monitoring UK spending using debit and credit cards. They track the daily CHAPS payments made by credit and debit card payment processors to around 100 major UK retail corporates, based on data supplied by the Bank of England.\\nAdvanced notification of potential redundanciesDataset | Released 19 January 2023Number of potential redundancies from Insolvency Service HR1 forms and number of employers proposing redundancies, Great Britain.\\nAutomotive fuel spendingDataset | Released 19 January 2023Estimated quantity of automotive fuel demand per average transaction is an experimental indicator used to isolate real demand after adjusting for growth in fuel prices.\\nOnline job advert estimatesDataset | Released\\u00a019 January 2023Experimental job advert indices covering the UK job market.\\nRevolut spending on debit cardsDataset | Released 19 January 2023Experimental indices of Revolut debit card transaction data, UK. Includes sectoral, age and online versus in-store breakdowns. Daily seven-day averages updated weekly, plus monthly averages.\\nSystem Average Price (SAP) of gasDataset | Released\\u00a019 January 2023Daily and rolling average System Average Price (SAP) of gas traded in Great Britain over the On-the-Day Commodity Market (OCM).\\nUK spending on credit and debit cardsDataset | Released 19 January 2023These data series are experimental real-time indicators for monitoring UK spending using debit and credit cards. They track the daily CHAPS payments made by credit and debit card payment processors to around 100 major UK retail corporates, based on data supplied by the Bank of England.\\nThis section lists a selection of the data available in this publication. For the full list of available datasets, please see ouraccompanying dataset page.\\nA real-time indicator provides insights into economic activity using close-to-real-time big data, administrative data sources, rapid response surveys or Experimental Statistics, which represent useful economic and social concepts.\\nInformation on the methodology used to produce the indicators in this bulletin is available in ourEconomic activity and social change in the UK, real-time indicators methodology.\\nThese statistics have been produced to provide timely indicators of the effect of developing world events on the UK economy and society, using close-to-real-time big data, administrative data sources, rapid response surveys or Experimental Statistics.\\nThe data presented in this bulletin are reviewed and refreshed on a regular basis. Indicators are swapped in and out of the publication based on their suitability and availability.\\nCoronavirus restrictions should be considered when interpreting the data featured throughout this bulletin.\\nSeasonal fluctuations are likely to be present in many of these indicators so caution must be applied when interpreting changes in series that are not seasonally adjusted.\\nPublic opinions and social trends, Great BritainBulletin | Released fortnightlySocial insights on daily life and events, including the cost of living, working arrangements and well-being from the Opinions and Lifestyle Survey (OPN).Business insights and impact on the UK economyBulletin | Released fortnightlyThe impact of challenges facing the economy and other events on UK businesses. Based on responses from the voluntary fortnightly business survey (BICS) to deliver real-time information to help assess issues affecting UK businesses and economy, including financial performance, workforce, trade, and business resilience.\\nPublic opinions and social trends, Great BritainBulletin | Released fortnightlySocial insights on daily life and events, including the cost of living, working arrangements and well-being from the Opinions and Lifestyle Survey (OPN).\\nBusiness insights and impact on the UK economyBulletin | Released fortnightlyThe impact of challenges facing the economy and other events on UK businesses. Based on responses from the voluntary fortnightly business survey (BICS) to deliver real-time information to help assess issues affecting UK businesses and economy, including financial performance, workforce, trade, and business resilience.\\nOffice for National Statistics (ONS), published 19 January 2023, ONS website, statistical bulletin,Economic activity and social change in the UK, real-time indicators: 19 January 2023\\nOffice for National Statistics (ONS), published 19 January 2023, ONS website, statistical bulletin,Economic activity and social change in the UK, real-time indicators: 19 January 2023\",\n          \"Transport.\\n!Results presented in this bulletin are experimental and may be subject to revision. Data sources used to compile these indicators are regularly reviewed to ensure they are representative and relevant, which may mean indicators change at short notice.\\nResults presented in this bulletin are experimental and may be subject to revision. Data sources used to compile these indicators are regularly reviewed to ensure they are representative and relevant, which may mean indicators change at short notice.\\nEmbed codeEmbed this interactiveCopy\\nIn the week to 25 May 2023, the aggregate CHAPS-based indicator of credit and debit card purchases increased by 2 points from the previous week and increased by 3 points compared with the same week in 2022. Our accompanyingUK spending on credit and debit cards datasetis available.\\nIn the week to 21 May 2023, the estimated demand for fuel per transaction was unchanged from the level in the previous week and was 19 percentage points above the level seen in the equivalent week of 2022.\\nIn comparison, average fuel prices in the week to 21 May 2023 were 3 percentage points below the level in the previous week and 52 percentage points below the level in the equivalent week of 2022. Our accompanyingAutomotive fuel spending datasetis available.\\nNational retail footfall figures are supplied by Springboard, a provider of data on customer activity. Overall retail footfall increased in the week to 28 May 2023 to 104% of the level of the previous week and was 106% of the level in the equivalent week of last year. This is likely because of warmer weather conditions nationwide. Additionally, overall retail footfall remained lower than the equivalent week of 2019, at 90%.\\nRetail footfall rose in all three of the location categories when compared with the previous week. High street footfall had the largest increase at 105% of the level of the previous week, with retail parks and shopping centres at 104%. All three location categories also saw increased footfall compared with the level of the equivalent week of 2022, with high street footfall seeing the largest increase at 108%.\\nAll UK countries and English regions saw increases in overall retail footfall compared with the previous week. The largest increases occurred in the South West, the North East and Northern Ireland, all of which rose to 107% of the level of the previous week.\\nThis is the average price of all gas traded through the balancing market. Market participants post bids or offers for volumes of gas a day ahead and within-day trades. The SAP aggregates the trades conducted on the On-the-Day Commodity Market (OCM). This is the market that the National Gas Transmission use in their role as residual balancer. Other markets exist for wholesale gas trading in Great Britain.\\nThese data can be used to understand the general trend of gas prices within the UK. However, the data should be treated with caution, as these can be subject to extreme within-day trading prices and may skew actual traded prices. Additionally, while these prices reflect spot prices on the day, traders can opt for futures contracts where the buyer and the seller agree the market-determined price for gas for a future date. The daily SAP is used to determine the futures price and is therefore a useful indicator of supply constraints and demand pressures.\\nFigure 1: The preceding seven-day rolling System Average Price (SAP) of gas decreased by 10% when compared with the previous weekSystem Average Price of gas, pence per kilowatt hour, preceding seven-day rolling average, 5 January 2020 to 28 May 2023, Great Britain, non-seasonally adjustedSource: National Gas TransmissionNotes:The price trends observed will differ from that of the monthly Producer Price Inflation (PPI) series published by the Office for National Statistics (ONS) because of the differences in data sources and methods.Download this chartFigure 1: The preceding seven-day rolling System Average Price (SAP) of gas decreased by 10% when compared with the previous weekImage.csv.xls\\nThe SAP of gas fell by 10% in the week to 28 May 2023 when compared with the previous week, continuing the downward trend seen since mid-December 2022, with this being the seventh consecutive week-on-week decrease. The price is also 48% below the level seen in the equivalent week of 2022, and 87% below the weekly peak level seen in late August 2022. Our accompanyingSystem Average Price of gas datasetis available.\\nThe total number of online job adverts increased by 2% on 26 May 2023 compared with the previous week. In the latest week, there were increases in 22 of the 28 online job categories, decreases in two, and four remained unchanged. The \\\"legal\\\" category saw the largest week-on-week increase, rising by 17%, followed by \\\"travel and tourism\\\" increasing by 9%.\\nAll UK countries and English regions experienced increases in the latest week for the first time since 10 March 2023, with London, Northern Ireland and Scotland seeing the largest increase of 3%.\\nThe total number of online job adverts was 15% lower than the level seen in the equivalent period of 2022, with 24 of the 28 online job categories below their levels of a year ago. The largest decrease relative to the equivalent period of 2022 continues to be in the \\\"human resources (HR) and recruitment\\\" category, which fell by 51%.\\nOf the 12 UK countries and English regions, 11 experienced a decrease compared with the equivalent period last year, with only Scotland increasing relative to this period by 3%. The East Midlands saw the largest decrease at 27%, followed by London, which fell by 24%. Our accompanyingOnline job advert estimates datasetis available.\\nThe average number of UK daily flights in the week to 28 May 2023 increased by 4% when compared with the previous week and was 5% above the level seen in the equivalent week of 2022. Additionally, the average number of UK daily flights was 90% of the level seen in the equivalent week of 2019. Our accompanyingDaily UK flights datasetis available.\\nAutomotive fuel spendingDataset | Released 2 June 2023Estimated quantity of automotive fuel demand per average transaction is an experimental indicator used to isolate real demand after adjusting for growth in fuel prices.Company incorporations, voluntary dissolutions and compulsory dissolutionsDataset | Released 2 June 2023The number of Companies House incorporations and voluntary dissolutions accepted, and companies placed into compulsory dissolution: weekly dataset.Daily UK flightsDataset | Released\\u00a02 June 2023Experimental daily UK flight numbers and rolling seven-day average, including flights to, from, and within the UK.Online job advert estimatesDataset | Released\\u00a02 June 2023Experimental job advert indices covering the UK job market.System Average Price (SAP) of gasDataset | Released\\u00a02 June 2023Daily and rolling average System Average Price (SAP) of gas traded in Great Britain over the On-the-Day Commodity Market (OCM).UK spending on credit and debit cardsDataset | Released 2 June 2023These data series are experimental real-time indicators for monitoring UK spending using debit and credit cards. They track the daily CHAPS payments made by credit and debit card payment processors to around 100 major UK retail corporates, based on data supplied by the Bank of England.This section lists a selection of the data available in this publication. For the full list of available datasets, please see ouraccompanying dataset page.\\nAutomotive fuel spendingDataset | Released 2 June 2023Estimated quantity of automotive fuel demand per average transaction is an experimental indicator used to isolate real demand after adjusting for growth in fuel prices.\\nCompany incorporations, voluntary dissolutions and compulsory dissolutionsDataset | Released 2 June 2023The number of Companies House incorporations and voluntary dissolutions accepted, and companies placed into compulsory dissolution: weekly dataset.\\nDaily UK flightsDataset | Released\\u00a02 June 2023Experimental daily UK flight numbers and rolling seven-day average, including flights to, from, and within the UK.\\nOnline job advert estimatesDataset | Released\\u00a02 June 2023Experimental job advert indices covering the UK job market.\\nSystem Average Price (SAP) of gasDataset | Released\\u00a02 June 2023Daily and rolling average System Average Price (SAP) of gas traded in Great Britain over the On-the-Day Commodity Market (OCM).\\nUK spending on credit and debit cardsDataset | Released 2 June 2023These data series are experimental real-time indicators for monitoring UK spending using debit and credit cards. They track the daily CHAPS payments made by credit and debit card payment processors to around 100 major UK retail corporates, based on data supplied by the Bank of England.\\nThis section lists a selection of the data available in this publication. For the full list of available datasets, please see ouraccompanying dataset page.\\nA real-time indicator provides insights into economic activity using close-to-real-time big data, administrative data sources, rapid response surveys or Experimental Statistics, which represent useful economic and social concepts.\\nInformation on the methodology used to produce the indicators in this bulletin is available in ourEconomic activity and social change in the UK, real-time indicators methodology.\\nThese statistics have been produced to provide timely indicators of the effect of developing world events on the UK economy and society, using close-to-real-time big data, administrative data sources, rapid response surveys, or Experimental Statistics.\\nThe data presented in this bulletin are reviewed and refreshed on a regular basis. Indicators are swapped in and out of the publication based on their suitability and availability.\\nCoronavirus restrictions should be considered when interpreting the data featured throughout this bulletin.\\nSeasonal fluctuations are likely to be present in many of these indicators so caution must be applied when interpreting changes in series that are not seasonally adjusted.\\nPublic opinions and social trends, Great BritainBulletin | Released fortnightlySocial insights on daily life and events, including the cost of living, well-being and shortages of goods from the Opinions and Lifestyle Survey (OPN).Business insights and impact on the UK economyBulletin | Released fortnightlyThe impact of challenges facing the economy and other events on UK businesses. Based on responses from the voluntary fortnightly business survey (BICS) to deliver real-time information to help assess issues affecting UK businesses and economy, including financial performance, workforce, trade, and business resilience.Cost of living latest insightsInteractive tool | Released weeklyThe latest data and trends about the cost of living. Explore changes in the cost of everyday items and how this is affecting people.\\nPublic opinions and social trends, Great BritainBulletin | Released fortnightlySocial insights on daily life and events, including the cost of living, well-being and shortages of goods from the Opinions and Lifestyle Survey (OPN).\\nBusiness insights and impact on the UK economyBulletin | Released fortnightlyThe impact of challenges facing the economy and other events on UK businesses. Based on responses from the voluntary fortnightly business survey (BICS) to deliver real-time information to help assess issues affecting UK businesses and economy, including financial performance, workforce, trade, and business resilience.\\nCost of living latest insightsInteractive tool | Released weeklyThe latest data and trends about the cost of living. Explore changes in the cost of everyday items and how this is affecting people.\\nOffice for National Statistics (ONS), published 2 June 2023, ONS website, statistical bulletin,Economic activity and social change in the UK, real-time indicators: 2 June 2023\\nOffice for National Statistics (ONS), published 2 June 2023, ONS website, statistical bulletin,Economic activity and social change in the UK, real-time indicators: 2 June 2023\",\n          \"Overall retail footfall decreased by 8% in the week to 10 November 2024 when compared with the previous week, and was 1% lower when compared with the equivalent week of 2023 (MRI OnLocation).\"\n        ],\n        \"semantic_type\": \"\",\n        \"description\": \"\"\n      }\n    }\n  ]\n}"
            }
          },
          "metadata": {},
          "execution_count": 134
        }
      ]
    },
    {
      "cell_type": "markdown",
      "source": [
        "#### Step 15: Generate Embeddings for Paragraphs\n",
        "\n",
        "Encodes each paragraph using the `all-MiniLM-L6-v2` model from SentenceTransformers.\n",
        "These embeddings will be used for semantic search later."
      ],
      "metadata": {
        "id": "F_yidVMejrF-"
      }
    },
    {
      "cell_type": "code",
      "source": [
        "model_embed = SentenceTransformer(\"all-MiniLM-L6-v2\")\n",
        "para_embeddings = model_embed.encode(df_para[\"paragraph\"].tolist(), show_progress_bar=True)\n",
        "\n"
      ],
      "metadata": {
        "colab": {
          "base_uri": "https://localhost:8080/",
          "height": 49,
          "referenced_widgets": [
            "6ed1ed09942a40ea9b5a1ee2a25f23a0",
            "f7962f121c2144e181fd0aab669c891f",
            "cc651ff829e04812b750c9113eff0190",
            "e4652f8e30794e6e8e2f87da287345dc",
            "b149a2089e8f45c18fa83fa4d980f5c3",
            "cb2b1b5acbcc4687b612dad66ebeee5c",
            "31ab6af171a54c37a68389b93521310e",
            "709fdb8c89c64430bd337208ec4d2c2b",
            "a900c48413424de080fd744a8616a896",
            "07aaac5345c54856997add7f6fc8f1c9",
            "f7d2ed525ec8432db2325f17a2dc9bbc"
          ]
        },
        "id": "M_TU-q_t_s5o",
        "outputId": "e68ed37b-8300-41b9-c3a9-46267c466d4d"
      },
      "execution_count": null,
      "outputs": [
        {
          "output_type": "display_data",
          "data": {
            "text/plain": [
              "Batches:   0%|          | 0/41 [00:00<?, ?it/s]"
            ],
            "application/vnd.jupyter.widget-view+json": {
              "version_major": 2,
              "version_minor": 0,
              "model_id": "6ed1ed09942a40ea9b5a1ee2a25f23a0"
            }
          },
          "metadata": {}
        }
      ]
    },
    {
      "cell_type": "markdown",
      "source": [
        "#### Step 16: Build FAISS Index\n",
        "\n",
        "Creates a FAISS flat index using L2 (Euclidean) distance and adds all paragraph embeddings to enable fast similarity search."
      ],
      "metadata": {
        "id": "KlTkGRlWj0eP"
      }
    },
    {
      "cell_type": "code",
      "source": [
        "index = faiss.IndexFlatL2(para_embeddings.shape[1])\n",
        "index.add(np.array(para_embeddings))"
      ],
      "metadata": {
        "id": "kasODX_cj5TW"
      },
      "execution_count": null,
      "outputs": []
    },
    {
      "cell_type": "markdown",
      "source": [
        "#### Step 17: Perform Sentiment Analysis on Paragraphs\n",
        "\n",
        "Applies VADER sentiment analysis to each paragraph and stores the compound score in a new 'sentiment' column."
      ],
      "metadata": {
        "id": "67dxmSSrjs9Q"
      }
    },
    {
      "cell_type": "code",
      "source": [
        "analyzer = SentimentIntensityAnalyzer()\n",
        "df_para[\"sentiment\"] = df_para[\"paragraph\"].apply(lambda x: analyzer.polarity_scores(x)[\"compound\"])"
      ],
      "metadata": {
        "id": "ZNYu27DaAFMX"
      },
      "execution_count": null,
      "outputs": []
    },
    {
      "cell_type": "markdown",
      "source": [
        "#### Step 18: Load T5 Model and Tokenizer\n",
        "\n",
        "Loads the `flan-t5-base` model from Hugging Face, which will be used to rephrase paragraphs in a formal and concise style similar to ONS bulletins."
      ],
      "metadata": {
        "id": "mhFOro_kkFO5"
      }
    },
    {
      "cell_type": "code",
      "source": [
        "llm_tokenizer = AutoTokenizer.from_pretrained(\"google/flan-t5-base\")\n",
        "llm_model = AutoModelForSeq2SeqLM.from_pretrained(\"google/flan-t5-base\")"
      ],
      "metadata": {
        "id": "DFiFzRyPAIR0"
      },
      "execution_count": null,
      "outputs": []
    },
    {
      "cell_type": "markdown",
      "source": [
        "#### Step 19: Define Semantic Search Function\n",
        "\n",
        "This function takes a query, embeds it, and searches the FAISS index for the most semantically similar paragraphs.\n",
        "\n",
        "Returns the top matching paragraphs and their source URLs."
      ],
      "metadata": {
        "id": "sj38tVorkGZ5"
      }
    },
    {
      "cell_type": "code",
      "source": [
        "def search_paragraphs(query, top_k=3):\n",
        "    query_embedding = model_embed.encode([query])\n",
        "    D, I = index.search(np.array(query_embedding), top_k)\n",
        "    return df_para.iloc[I[0]][[\"paragraph\", \"url\"]].to_dict(orient=\"records\")\n"
      ],
      "metadata": {
        "id": "4UVWoHdoAKdc"
      },
      "execution_count": null,
      "outputs": []
    },
    {
      "cell_type": "markdown",
      "source": [
        "#### Step 20: Define Rewriting Function Using T5\n",
        "\n",
        "Rewrites the selected paragraph using the `flan-t5-base` model to produce a more concise and formal summary in the style of ONS bulletins."
      ],
      "metadata": {
        "id": "INvRiDd7kQth"
      }
    },
    {
      "cell_type": "code",
      "source": [
        "\n",
        "def summarize_with_llm(text):\n",
        "    short_text = text[:300]\n",
        "    prompt = f\"Rewrite this like an ONS bulletin summary: {short_text}\"\n",
        "    tokens = llm_tokenizer.encode(prompt, return_tensors=\"pt\", truncation=True, max_length=512)\n",
        "    output_ids = llm_model.generate(tokens, max_length=128)\n",
        "    return llm_tokenizer.decode(output_ids[0], skip_special_tokens=True)\n",
        "\n"
      ],
      "metadata": {
        "id": "UI6y_zilkOcg"
      },
      "execution_count": null,
      "outputs": []
    },
    {
      "cell_type": "markdown",
      "source": [
        "#### Step 21: Define Rolling Sentiment Summary\n",
        "\n",
        "Calculates a rolling average of sentiment scores and classifies recent tone as broadly positive, negative, or neutral."
      ],
      "metadata": {
        "id": "YZSbFwAykUda"
      }
    },
    {
      "cell_type": "code",
      "source": [
        "def get_sentiment_summary():\n",
        "    avg = df_para[\"sentiment\"].rolling(5).mean().iloc[-1]\n",
        "    if avg > 0.2:\n",
        "        return \"Sentiment over recent bulletins is broadly positive.\"\n",
        "    elif avg < -0.2:\n",
        "        return \"Sentiment over recent bulletins is somewhat negative.\"\n",
        "    else:\n",
        "        return \"Sentiment over recent bulletins is mixed or neutral.\""
      ],
      "metadata": {
        "id": "rpsw95_jkP5O"
      },
      "execution_count": null,
      "outputs": []
    },
    {
      "cell_type": "markdown",
      "source": [
        "#### Step 22: Define Suggested Queries\n",
        "\n",
        "Provides a list of example queries users can ask to explore trends and bulletins."
      ],
      "metadata": {
        "id": "-oa9aKO-kaDe"
      }
    },
    {
      "cell_type": "code",
      "source": [
        "SUGGESTED_QUESTIONS = [\n",
        "    \"What’s happening with job adverts?\",\n",
        "    \"How has retail footfall changed recently?\",\n",
        "    \"What are debit failure rates doing?\",\n",
        "    \"Has the economy improved this month?\",\n",
        "    \"How is the economic sentiment lately?\",\n",
        "    \"Tell me something from this week’s bulletin\",\n",
        "    \"Is consumer spending increasing?\",\n",
        "    \"Any recent decline in job postings?\"\n",
        "]"
      ],
      "metadata": {
        "id": "yfSUEKgKAalP"
      },
      "execution_count": null,
      "outputs": []
    },
    {
      "cell_type": "markdown",
      "source": [
        "#### Step 23: Define Main Assistant Function\n",
        "\n",
        "The core logic of the assistant:\n",
        "- Accepts a user query\n",
        "- Searches and retrieves relevant bulletin paragraphs\n",
        "- Rewrites the most relevant one using the T5 model\n",
        "- Returns a formatted result"
      ],
      "metadata": {
        "id": "3pqgXW3MkgED"
      }
    },
    {
      "cell_type": "markdown",
      "source": [],
      "metadata": {
        "id": "iKQBHpk8keQf"
      }
    },
    {
      "cell_type": "code",
      "source": [
        "import time\n",
        "\n",
        "def ask_econbot(user_input, verbose=True):\n",
        "    print(\"📊 ONS EconBot Assistant\")\n",
        "    print(\"💬 You asked:\", user_input)\n",
        "\n",
        "    if user_input.lower() in [\"exit\", \"quit\", \"stop\"]:\n",
        "        return \"👋 Exiting EconBot.\"\n",
        "\n",
        "    if \"sentiment\" in user_input.lower():\n",
        "        return \"🤖 Sentiment Tracker: \" + get_sentiment_summary()\n",
        "\n",
        "    t0 = time.time()\n",
        "\n",
        "    print(\"\\n🔍 Step 1: Searching bulletin summaries...\")\n",
        "    results = search_paragraphs(user_input)\n",
        "    if not results:\n",
        "        return \"❌ EconBot: Sorry, I couldn’t find anything relevant.\"\n",
        "\n",
        "    output = \"\\n✅ Found similar past summaries:\\n\"\n",
        "    for i, r in enumerate(results):\n",
        "        output += f\"\\n{i+1}. {r['paragraph']}\\n↪ Source: {r['url']}\\n\"\n",
        "\n",
        "    print(\"\\n🧠 Step 2: Running LLM to rephrase top result...\")\n",
        "    try:\n",
        "        rewritten = summarize_with_llm(results[0][\"paragraph\"])\n",
        "        output += f\"\\n📘 Rephrased Summary:\\n{rewritten}\"\n",
        "    except Exception as e:\n",
        "        output += f\"\\n⚠️ LLM failed to rephrase. Error: {e}\"\n",
        "\n",
        "    t1 = time.time()\n",
        "    output += f\"\\n\\n⏱️ Total response time: {t1 - t0:.1f} seconds\"\n",
        "\n",
        "    return output"
      ],
      "metadata": {
        "id": "CljNy2GhAtKY"
      },
      "execution_count": null,
      "outputs": []
    },
    {
      "cell_type": "markdown",
      "source": [
        "#### Step 24: Run Assistant on Example Query\n",
        "\n",
        "Runs the assistant on a test question about job adverts. Displays both raw results and the LLM-generated summary."
      ],
      "metadata": {
        "id": "lM5uIB06kvqS"
      }
    },
    {
      "cell_type": "code",
      "source": [
        "response = ask_econbot(\"How is the shipping \")\n",
        "print(response)"
      ],
      "metadata": {
        "colab": {
          "base_uri": "https://localhost:8080/"
        },
        "id": "Z2romnq5AwDS",
        "outputId": "f7b76ee6-1f1c-4fa6-e74d-9316f7a9d041"
      },
      "execution_count": null,
      "outputs": [
        {
          "output_type": "stream",
          "name": "stdout",
          "text": [
            "📊 ONS EconBot Assistant\n",
            "💬 You asked: How is the shipping \n",
            "\n",
            "🔍 Step 1: Searching bulletin summaries...\n",
            "\n",
            "🧠 Step 2: Running LLM to rephrase top result...\n",
            "\n",
            "✅ Found similar past summaries:\n",
            "\n",
            "1. Business and workforce.\n",
            "The average number of daily ship visits increased by 23% in the week to 29 January 2023 but was 14% below the level in the same period last year, while the average number of cargo and tanker ship visits increased by 6% in the latest week and was broadly unchanged from the level in the same period last year (exactEarth).\n",
            "↪ Source: https://www.ons.gov.uk/economy/economicoutputandproductivity/output/bulletins/economicactivityandsocialchangeintheukrealtimeindicators/3february2023\n",
            "\n",
            "2. Business and workforce.\n",
            "The average number of daily ship visits increased by 23% in the week to 29 January 2023 but was 14% below the level in the same period last year, while the average number of cargo and tanker ship visits increased by 6% in the latest week and was broadly unchanged from the level in the same period last year (exactEarth).\n",
            "↪ Source: https://www.ons.gov.uk/economy/economicoutputandproductivity/output/bulletins/economicactivityandsocialchangeintheukrealtimeindicators/3february2023\n",
            "\n",
            "3. Business and workforce.\n",
            "The average number of daily ship visits increased by 5% in the week to 22 January 2023 but were 35% below the level in the same period last year, while the average number of cargo and tanker ship visits increased by 13% in the latest week but remained 9% below the level in the same period last year (exactEarth).\n",
            "↪ Source: https://www.ons.gov.uk/economy/economicoutputandproductivity/output/bulletins/economicactivityandsocialchangeintheukrealtimeindicators/26january2023\n",
            "\n",
            "📘 Rephrased Summary:\n",
            "Ship visits in the UK increased by 23% in the week to 29 January 2023, but was 14% below the level in the same period last year, while cargo and tanker ship visits increased by 6% in the latest week.\n",
            "\n",
            "⏱️ Total response time: 7.1 seconds\n"
          ]
        }
      ]
    },
    {
      "cell_type": "code",
      "source": [],
      "metadata": {
        "id": "Y5aFv-a6BZIe"
      },
      "execution_count": null,
      "outputs": []
    }
  ]
}