{
 "cells": [
  {
   "cell_type": "markdown",
   "metadata": {},
   "source": [
    "# Very Simple Data Wrangling Tutorial\n",
    "\n",
    "## Overview\n",
    "We have **2 CSV files**:\n",
    "- **`country_data.csv`**: Contains population, land area, density, etc.\n",
    "- **`country_gdp.csv`**: Contains GDP (nominal, 2022), GDP growth, share of world GDP, etc.\n",
    "\n",
    "We will:\n",
    "1. **Load** the CSVs.\n",
    "2. **Clean** them.\n",
    "3. **Merge** into one dataset.\n",
    "4. **Create** 5-year population data.\n",
    "5. **Add** synthetic features (Corruption, HDI, etc.).\n",
    "6. **Check** correlations.\n",
    "7. **Handle** outliers.\n",
    "8. **Compute** a Global Development Score.\n",
    "9. **FAQ** at the end.\n",
    "\n",
    "We’ll keep each operation **simple** and **small**. Let’s start!"
   ]
  },
  {
   "cell_type": "code",
   "execution_count": 2,
   "metadata": {},
   "outputs": [
    {
     "name": "stdout",
     "output_type": "stream",
     "text": [
      "Libraries loaded!\n"
     ]
    }
   ],
   "source": [
    "import pandas as pd\n",
    "import numpy as np\n",
    "import seaborn as sns\n",
    "import matplotlib.pyplot as plt\n",
    "import random\n",
    "from faker import Faker\n",
    "\n",
    "sns.set(style=\"whitegrid\")\n",
    "fake = Faker()\n",
    "print(\"Libraries loaded!\")"
   ]
  },
  {
   "cell_type": "markdown",
   "metadata": {},
   "source": [
    "## 1. Load the CSV files"
   ]
  },
  {
   "cell_type": "code",
   "execution_count": 3,
   "metadata": {},
   "outputs": [
    {
     "name": "stdout",
     "output_type": "stream",
     "text": [
      "country_data_raw:\n"
     ]
    },
    {
     "data": {
      "text/html": [
       "<div>\n",
       "<style scoped>\n",
       "    .dataframe tbody tr th:only-of-type {\n",
       "        vertical-align: middle;\n",
       "    }\n",
       "\n",
       "    .dataframe tbody tr th {\n",
       "        vertical-align: top;\n",
       "    }\n",
       "\n",
       "    .dataframe thead th {\n",
       "        text-align: right;\n",
       "    }\n",
       "</style>\n",
       "<table border=\"1\" class=\"dataframe\">\n",
       "  <thead>\n",
       "    <tr style=\"text-align: right;\">\n",
       "      <th></th>\n",
       "      <th>Country</th>\n",
       "      <th>Population (2024)</th>\n",
       "      <th>Land Area(Km²)</th>\n",
       "      <th>Density(P/Km²)</th>\n",
       "    </tr>\n",
       "  </thead>\n",
       "  <tbody>\n",
       "    <tr>\n",
       "      <th>0</th>\n",
       "      <td>Afghanistan</td>\n",
       "      <td>42,647,492</td>\n",
       "      <td>652,860</td>\n",
       "      <td>65</td>\n",
       "    </tr>\n",
       "    <tr>\n",
       "      <th>1</th>\n",
       "      <td>Albania</td>\n",
       "      <td>2,791,765</td>\n",
       "      <td>27,400</td>\n",
       "      <td>102</td>\n",
       "    </tr>\n",
       "    <tr>\n",
       "      <th>2</th>\n",
       "      <td>Algeria</td>\n",
       "      <td>46,814,308</td>\n",
       "      <td>2,381,740</td>\n",
       "      <td>20</td>\n",
       "    </tr>\n",
       "    <tr>\n",
       "      <th>3</th>\n",
       "      <td>Andorra</td>\n",
       "      <td>81,938</td>\n",
       "      <td>470</td>\n",
       "      <td>174</td>\n",
       "    </tr>\n",
       "    <tr>\n",
       "      <th>4</th>\n",
       "      <td>Angola</td>\n",
       "      <td>37,885,849</td>\n",
       "      <td>1,246,700</td>\n",
       "      <td>30</td>\n",
       "    </tr>\n",
       "  </tbody>\n",
       "</table>\n",
       "</div>"
      ],
      "text/plain": [
       "       Country Population (2024) Land Area(Km²) Density(P/Km²)\n",
       "0  Afghanistan        42,647,492        652,860             65\n",
       "1      Albania         2,791,765         27,400            102\n",
       "2      Algeria        46,814,308      2,381,740             20\n",
       "3      Andorra            81,938            470            174\n",
       "4       Angola        37,885,849      1,246,700             30"
      ]
     },
     "metadata": {},
     "output_type": "display_data"
    },
    {
     "name": "stdout",
     "output_type": "stream",
     "text": [
      "\n",
      "country_gdp_raw:\n"
     ]
    },
    {
     "data": {
      "text/html": [
       "<div>\n",
       "<style scoped>\n",
       "    .dataframe tbody tr th:only-of-type {\n",
       "        vertical-align: middle;\n",
       "    }\n",
       "\n",
       "    .dataframe tbody tr th {\n",
       "        vertical-align: top;\n",
       "    }\n",
       "\n",
       "    .dataframe thead th {\n",
       "        text-align: right;\n",
       "    }\n",
       "</style>\n",
       "<table border=\"1\" class=\"dataframe\">\n",
       "  <thead>\n",
       "    <tr style=\"text-align: right;\">\n",
       "      <th></th>\n",
       "      <th>Country</th>\n",
       "      <th>GDP (nominal, 2022)</th>\n",
       "      <th>GDP (abbrev.)</th>\n",
       "      <th>GDP growth</th>\n",
       "      <th>Population -2022</th>\n",
       "      <th>GDP per capita</th>\n",
       "      <th>Share of World GDP</th>\n",
       "    </tr>\n",
       "  </thead>\n",
       "  <tbody>\n",
       "    <tr>\n",
       "      <th>0</th>\n",
       "      <td>United States</td>\n",
       "      <td>$25,462,700,000,000</td>\n",
       "      <td>$25.463 trillion</td>\n",
       "      <td>2.06%</td>\n",
       "      <td>341,534,046</td>\n",
       "      <td>$74,554</td>\n",
       "      <td>25.32%</td>\n",
       "    </tr>\n",
       "    <tr>\n",
       "      <th>1</th>\n",
       "      <td>China</td>\n",
       "      <td>$17,963,200,000,000</td>\n",
       "      <td>$17.963 trillion</td>\n",
       "      <td>2.99%</td>\n",
       "      <td>1,425,179,569</td>\n",
       "      <td>$12,604</td>\n",
       "      <td>17.86%</td>\n",
       "    </tr>\n",
       "    <tr>\n",
       "      <th>2</th>\n",
       "      <td>Japan</td>\n",
       "      <td>$4,231,140,000,000</td>\n",
       "      <td>$4.231 trillion</td>\n",
       "      <td>1.03%</td>\n",
       "      <td>124,997,578</td>\n",
       "      <td>$33,850</td>\n",
       "      <td>4.21%</td>\n",
       "    </tr>\n",
       "    <tr>\n",
       "      <th>3</th>\n",
       "      <td>Germany</td>\n",
       "      <td>$4,072,190,000,000</td>\n",
       "      <td>$4.072 trillion</td>\n",
       "      <td>1.79%</td>\n",
       "      <td>84,086,227</td>\n",
       "      <td>$48,429</td>\n",
       "      <td>4.05%</td>\n",
       "    </tr>\n",
       "    <tr>\n",
       "      <th>4</th>\n",
       "      <td>India</td>\n",
       "      <td>$3,385,090,000,000</td>\n",
       "      <td>$3.385 trillion</td>\n",
       "      <td>7.00%</td>\n",
       "      <td>1,425,423,212</td>\n",
       "      <td>$2,375</td>\n",
       "      <td>3.37%</td>\n",
       "    </tr>\n",
       "  </tbody>\n",
       "</table>\n",
       "</div>"
      ],
      "text/plain": [
       "         Country   GDP (nominal, 2022)     GDP (abbrev.) GDP growth  \\\n",
       "0  United States  $25,462,700,000,000   $25.463 trillion      2.06%   \n",
       "1          China  $17,963,200,000,000   $17.963 trillion      2.99%   \n",
       "2          Japan   $4,231,140,000,000    $4.231 trillion      1.03%   \n",
       "3        Germany   $4,072,190,000,000    $4.072 trillion      1.79%   \n",
       "4          India   $3,385,090,000,000    $3.385 trillion      7.00%   \n",
       "\n",
       "  Population -2022 GDP per capita Share of World GDP  \n",
       "0      341,534,046       $74,554              25.32%  \n",
       "1    1,425,179,569       $12,604              17.86%  \n",
       "2      124,997,578       $33,850               4.21%  \n",
       "3       84,086,227       $48,429               4.05%  \n",
       "4    1,425,423,212        $2,375               3.37%  "
      ]
     },
     "metadata": {},
     "output_type": "display_data"
    }
   ],
   "source": [
    "# Make sure 'country_data.csv' and 'country_gdp.csv' are in the same folder.\n",
    "country_data_raw = pd.read_csv(\"country_data.csv\")\n",
    "country_gdp_raw = pd.read_csv(\"country_gdp.csv\")\n",
    "print(\"country_data_raw:\")\n",
    "display(country_data_raw.head(5))\n",
    "\n",
    "print(\"\\ncountry_gdp_raw:\")\n",
    "display(country_gdp_raw.head(5))"
   ]
  },
  {
   "cell_type": "markdown",
   "metadata": {},
   "source": [
    "## 2. Clean `country_data.csv` (Removing Commas, Convert to Numeric)\n",
    "We see columns like **`Population (2024)`**, **`Land Area`**, etc. might have commas.\n",
    "We remove commas and convert to numbers."
   ]
  },
  {
   "cell_type": "code",
   "execution_count": 4,
   "metadata": {},
   "outputs": [
    {
     "name": "stdout",
     "output_type": "stream",
     "text": [
      "After cleaning country_data:\n"
     ]
    },
    {
     "data": {
      "text/html": [
       "<div>\n",
       "<style scoped>\n",
       "    .dataframe tbody tr th:only-of-type {\n",
       "        vertical-align: middle;\n",
       "    }\n",
       "\n",
       "    .dataframe tbody tr th {\n",
       "        vertical-align: top;\n",
       "    }\n",
       "\n",
       "    .dataframe thead th {\n",
       "        text-align: right;\n",
       "    }\n",
       "</style>\n",
       "<table border=\"1\" class=\"dataframe\">\n",
       "  <thead>\n",
       "    <tr style=\"text-align: right;\">\n",
       "      <th></th>\n",
       "      <th>Country</th>\n",
       "      <th>Population (2024)</th>\n",
       "      <th>Land Area(Km²)</th>\n",
       "      <th>Density(P/Km²)</th>\n",
       "    </tr>\n",
       "  </thead>\n",
       "  <tbody>\n",
       "    <tr>\n",
       "      <th>0</th>\n",
       "      <td>Afghanistan</td>\n",
       "      <td>42647492</td>\n",
       "      <td>652860</td>\n",
       "      <td>65</td>\n",
       "    </tr>\n",
       "    <tr>\n",
       "      <th>1</th>\n",
       "      <td>Albania</td>\n",
       "      <td>2791765</td>\n",
       "      <td>27400</td>\n",
       "      <td>102</td>\n",
       "    </tr>\n",
       "    <tr>\n",
       "      <th>2</th>\n",
       "      <td>Algeria</td>\n",
       "      <td>46814308</td>\n",
       "      <td>2381740</td>\n",
       "      <td>20</td>\n",
       "    </tr>\n",
       "    <tr>\n",
       "      <th>3</th>\n",
       "      <td>Andorra</td>\n",
       "      <td>81938</td>\n",
       "      <td>470</td>\n",
       "      <td>174</td>\n",
       "    </tr>\n",
       "    <tr>\n",
       "      <th>4</th>\n",
       "      <td>Angola</td>\n",
       "      <td>37885849</td>\n",
       "      <td>1246700</td>\n",
       "      <td>30</td>\n",
       "    </tr>\n",
       "  </tbody>\n",
       "</table>\n",
       "</div>"
      ],
      "text/plain": [
       "       Country  Population (2024)  Land Area(Km²)  Density(P/Km²)\n",
       "0  Afghanistan           42647492          652860              65\n",
       "1      Albania            2791765           27400             102\n",
       "2      Algeria           46814308         2381740              20\n",
       "3      Andorra              81938             470             174\n",
       "4       Angola           37885849         1246700              30"
      ]
     },
     "metadata": {},
     "output_type": "display_data"
    }
   ],
   "source": [
    "country_data = country_data_raw.copy()\n",
    "\n",
    "# Find columns that likely need cleaning\n",
    "cols_to_clean = [c for c in country_data.columns if \"Population\" in c or \"Land Area\" in c or \"Density\" in c]\n",
    "\n",
    "for col in cols_to_clean:\n",
    "    country_data[col] = country_data[col].astype(str).str.replace(\",\", \"\")\n",
    "    country_data[col] = pd.to_numeric(country_data[col], errors='coerce')\n",
    "\n",
    "print(\"After cleaning country_data:\")\n",
    "display(country_data.head(5))"
   ]
  },
  {
   "cell_type": "markdown",
   "metadata": {},
   "source": [
    "### Top 5 by Population (2024) just to check"
   ]
  },
  {
   "cell_type": "code",
   "execution_count": 5,
   "metadata": {},
   "outputs": [
    {
     "data": {
      "text/html": [
       "<div>\n",
       "<style scoped>\n",
       "    .dataframe tbody tr th:only-of-type {\n",
       "        vertical-align: middle;\n",
       "    }\n",
       "\n",
       "    .dataframe tbody tr th {\n",
       "        vertical-align: top;\n",
       "    }\n",
       "\n",
       "    .dataframe thead th {\n",
       "        text-align: right;\n",
       "    }\n",
       "</style>\n",
       "<table border=\"1\" class=\"dataframe\">\n",
       "  <thead>\n",
       "    <tr style=\"text-align: right;\">\n",
       "      <th></th>\n",
       "      <th>Country</th>\n",
       "      <th>Population (2024)</th>\n",
       "      <th>Land Area(Km²)</th>\n",
       "      <th>Density(P/Km²)</th>\n",
       "    </tr>\n",
       "  </thead>\n",
       "  <tbody>\n",
       "    <tr>\n",
       "      <th>77</th>\n",
       "      <td>India</td>\n",
       "      <td>1450935791</td>\n",
       "      <td>2973190</td>\n",
       "      <td>488</td>\n",
       "    </tr>\n",
       "    <tr>\n",
       "      <th>36</th>\n",
       "      <td>China</td>\n",
       "      <td>1419321278</td>\n",
       "      <td>9388211</td>\n",
       "      <td>151</td>\n",
       "    </tr>\n",
       "    <tr>\n",
       "      <th>186</th>\n",
       "      <td>United States of America</td>\n",
       "      <td>345426571</td>\n",
       "      <td>9147420</td>\n",
       "      <td>38</td>\n",
       "    </tr>\n",
       "    <tr>\n",
       "      <th>78</th>\n",
       "      <td>Indonesia</td>\n",
       "      <td>283487931</td>\n",
       "      <td>1811570</td>\n",
       "      <td>156</td>\n",
       "    </tr>\n",
       "    <tr>\n",
       "      <th>131</th>\n",
       "      <td>Pakistan</td>\n",
       "      <td>251269164</td>\n",
       "      <td>770880</td>\n",
       "      <td>326</td>\n",
       "    </tr>\n",
       "  </tbody>\n",
       "</table>\n",
       "</div>"
      ],
      "text/plain": [
       "                      Country  Population (2024)  Land Area(Km²)  \\\n",
       "77                      India         1450935791         2973190   \n",
       "36                      China         1419321278         9388211   \n",
       "186  United States of America          345426571         9147420   \n",
       "78                  Indonesia          283487931         1811570   \n",
       "131                  Pakistan          251269164          770880   \n",
       "\n",
       "     Density(P/Km²)  \n",
       "77              488  \n",
       "36              151  \n",
       "186              38  \n",
       "78              156  \n",
       "131             326  "
      ]
     },
     "execution_count": 5,
     "metadata": {},
     "output_type": "execute_result"
    }
   ],
   "source": [
    "top5_pop = country_data.sort_values(by=\"Population (2024)\", ascending=False).head(5)\n",
    "top5_pop"
   ]
  },
  {
   "cell_type": "markdown",
   "metadata": {},
   "source": [
    "## 3. Clean `country_gdp.csv` (Handle `$`, `%`, etc.)"
   ]
  },
  {
   "cell_type": "code",
   "execution_count": 6,
   "metadata": {},
   "outputs": [],
   "source": [
    "country_gdp = country_gdp_raw.copy()\n",
    "\n",
    "def clean_currency(value):\n",
    "    if isinstance(value, str):\n",
    "        # remove $, commas, and handle 'trillion', 'billion'\n",
    "        value = (\n",
    "            value.replace(\"$\", \"\")\n",
    "                 .replace(\",\", \"\")\n",
    "                 .replace(\" trillion\", \"e12\")\n",
    "                 .replace(\" billion\", \"e9\")\n",
    "        )\n",
    "    try:\n",
    "        return float(value)\n",
    "    except:\n",
    "        return np.nan"
   ]
  },
  {
   "cell_type": "markdown",
   "metadata": {},
   "source": [
    "### Apply `clean_currency` to GDP columns"
   ]
  },
  {
   "cell_type": "code",
   "execution_count": 7,
   "metadata": {},
   "outputs": [],
   "source": [
    "if \"GDP (nominal, 2022)\" in country_gdp.columns:\n",
    "    country_gdp[\"GDP (nominal, 2022)\"] = country_gdp[\"GDP (nominal, 2022)\"].apply(clean_currency)\n",
    "\n",
    "if \"GDP per capita\" in country_gdp.columns:\n",
    "    country_gdp[\"GDP per capita\"] = country_gdp[\"GDP per capita\"].apply(clean_currency)\n"
   ]
  },
  {
   "cell_type": "markdown",
   "metadata": {},
   "source": [
    "### Convert `Share of World GDP` and `GDP growth` from % to decimal"
   ]
  },
  {
   "cell_type": "code",
   "execution_count": 8,
   "metadata": {},
   "outputs": [],
   "source": [
    "if \"Share of World GDP\" in country_gdp.columns:\n",
    "    country_gdp[\"Share of World GDP\"] = (\n",
    "        country_gdp[\"Share of World GDP\"].str.replace(\"%\", \"\", regex=False)\n",
    "    )\n",
    "    country_gdp[\"Share of World GDP\"] = pd.to_numeric(country_gdp[\"Share of World GDP\"], errors='coerce')\n",
    "    country_gdp[\"Share of World GDP\"] /= 100.0\n",
    "\n",
    "if \"GDP growth\" in country_gdp.columns:\n",
    "    country_gdp[\"GDP growth\"] = country_gdp[\"GDP growth\"].str.replace(\"%\", \"\", regex=False)\n",
    "    country_gdp[\"GDP growth\"] = pd.to_numeric(country_gdp[\"GDP growth\"], errors='coerce')\n",
    "    country_gdp[\"GDP growth\"] /= 100.0\n"
   ]
  },
  {
   "cell_type": "markdown",
   "metadata": {},
   "source": [
    "### Convert `Population -2022` if present"
   ]
  },
  {
   "cell_type": "code",
   "execution_count": 9,
   "metadata": {},
   "outputs": [
    {
     "name": "stdout",
     "output_type": "stream",
     "text": [
      "After cleaning country_gdp:\n"
     ]
    },
    {
     "data": {
      "text/html": [
       "<div>\n",
       "<style scoped>\n",
       "    .dataframe tbody tr th:only-of-type {\n",
       "        vertical-align: middle;\n",
       "    }\n",
       "\n",
       "    .dataframe tbody tr th {\n",
       "        vertical-align: top;\n",
       "    }\n",
       "\n",
       "    .dataframe thead th {\n",
       "        text-align: right;\n",
       "    }\n",
       "</style>\n",
       "<table border=\"1\" class=\"dataframe\">\n",
       "  <thead>\n",
       "    <tr style=\"text-align: right;\">\n",
       "      <th></th>\n",
       "      <th>Country</th>\n",
       "      <th>GDP (nominal, 2022)</th>\n",
       "      <th>GDP (abbrev.)</th>\n",
       "      <th>GDP growth</th>\n",
       "      <th>Population -2022</th>\n",
       "      <th>GDP per capita</th>\n",
       "      <th>Share of World GDP</th>\n",
       "    </tr>\n",
       "  </thead>\n",
       "  <tbody>\n",
       "    <tr>\n",
       "      <th>0</th>\n",
       "      <td>United States</td>\n",
       "      <td>2.546270e+13</td>\n",
       "      <td>$25.463 trillion</td>\n",
       "      <td>0.0206</td>\n",
       "      <td>341534046</td>\n",
       "      <td>74554.0</td>\n",
       "      <td>0.2532</td>\n",
       "    </tr>\n",
       "    <tr>\n",
       "      <th>1</th>\n",
       "      <td>China</td>\n",
       "      <td>1.796320e+13</td>\n",
       "      <td>$17.963 trillion</td>\n",
       "      <td>0.0299</td>\n",
       "      <td>1425179569</td>\n",
       "      <td>12604.0</td>\n",
       "      <td>0.1786</td>\n",
       "    </tr>\n",
       "    <tr>\n",
       "      <th>2</th>\n",
       "      <td>Japan</td>\n",
       "      <td>4.231140e+12</td>\n",
       "      <td>$4.231 trillion</td>\n",
       "      <td>0.0103</td>\n",
       "      <td>124997578</td>\n",
       "      <td>33850.0</td>\n",
       "      <td>0.0421</td>\n",
       "    </tr>\n",
       "    <tr>\n",
       "      <th>3</th>\n",
       "      <td>Germany</td>\n",
       "      <td>4.072190e+12</td>\n",
       "      <td>$4.072 trillion</td>\n",
       "      <td>0.0179</td>\n",
       "      <td>84086227</td>\n",
       "      <td>48429.0</td>\n",
       "      <td>0.0405</td>\n",
       "    </tr>\n",
       "    <tr>\n",
       "      <th>4</th>\n",
       "      <td>India</td>\n",
       "      <td>3.385090e+12</td>\n",
       "      <td>$3.385 trillion</td>\n",
       "      <td>0.0700</td>\n",
       "      <td>1425423212</td>\n",
       "      <td>2375.0</td>\n",
       "      <td>0.0337</td>\n",
       "    </tr>\n",
       "  </tbody>\n",
       "</table>\n",
       "</div>"
      ],
      "text/plain": [
       "         Country  GDP (nominal, 2022)     GDP (abbrev.)  GDP growth  \\\n",
       "0  United States         2.546270e+13  $25.463 trillion      0.0206   \n",
       "1          China         1.796320e+13  $17.963 trillion      0.0299   \n",
       "2          Japan         4.231140e+12   $4.231 trillion      0.0103   \n",
       "3        Germany         4.072190e+12   $4.072 trillion      0.0179   \n",
       "4          India         3.385090e+12   $3.385 trillion      0.0700   \n",
       "\n",
       "   Population -2022  GDP per capita  Share of World GDP  \n",
       "0         341534046         74554.0              0.2532  \n",
       "1        1425179569         12604.0              0.1786  \n",
       "2         124997578         33850.0              0.0421  \n",
       "3          84086227         48429.0              0.0405  \n",
       "4        1425423212          2375.0              0.0337  "
      ]
     },
     "metadata": {},
     "output_type": "display_data"
    }
   ],
   "source": [
    "if \"Population -2022\" in country_gdp.columns:\n",
    "    country_gdp[\"Population -2022\"] = (\n",
    "        country_gdp[\"Population -2022\"].astype(str).str.replace(\",\", \"\")\n",
    "    )\n",
    "    country_gdp[\"Population -2022\"] = pd.to_numeric(country_gdp[\"Population -2022\"], errors='coerce')\n",
    "\n",
    "print(\"After cleaning country_gdp:\")\n",
    "display(country_gdp.head(5))"
   ]
  },
  {
   "cell_type": "markdown",
   "metadata": {},
   "source": [
    "## 4. Handle Missing Values\n",
    "- Fill numeric columns in `country_data` with median.\n",
    "- Drop rows in `country_gdp` missing **`GDP (nominal, 2022)`**.\n",
    "- Drop columns if more than 50% missing."
   ]
  },
  {
   "cell_type": "code",
   "execution_count": 10,
   "metadata": {},
   "outputs": [
    {
     "name": "stdout",
     "output_type": "stream",
     "text": [
      "Missing in country_data:\n"
     ]
    },
    {
     "data": {
      "text/plain": [
       "Country              0\n",
       "Population (2024)    0\n",
       "Land Area(Km²)       0\n",
       "Density(P/Km²)       0\n",
       "dtype: int64"
      ]
     },
     "metadata": {},
     "output_type": "display_data"
    },
    {
     "name": "stdout",
     "output_type": "stream",
     "text": [
      "\n",
      "Missing in country_gdp:\n"
     ]
    },
    {
     "data": {
      "text/plain": [
       "Country                0\n",
       "GDP (nominal, 2022)    0\n",
       "GDP (abbrev.)          0\n",
       "GDP growth             0\n",
       "Population -2022       0\n",
       "GDP per capita         0\n",
       "Share of World GDP     0\n",
       "dtype: int64"
      ]
     },
     "metadata": {},
     "output_type": "display_data"
    }
   ],
   "source": [
    "print(\"Missing in country_data:\")\n",
    "display(country_data.isnull().sum())\n",
    "\n",
    "print(\"\\nMissing in country_gdp:\")\n",
    "display(country_gdp.isnull().sum())"
   ]
  },
  {
   "cell_type": "markdown",
   "metadata": {},
   "source": [
    "### Fill numeric columns in `country_data` with median"
   ]
  },
  {
   "cell_type": "code",
   "execution_count": 11,
   "metadata": {},
   "outputs": [],
   "source": [
    "num_cols_cd = country_data.select_dtypes(include=[np.number]).columns\n",
    "for col in num_cols_cd:\n",
    "    if country_data[col].isnull().sum()>0:\n",
    "        country_data[col].fillna(country_data[col].median(), inplace=True)\n"
   ]
  },
  {
   "cell_type": "markdown",
   "metadata": {},
   "source": [
    "### Drop rows in `country_gdp` missing `GDP (nominal, 2022)`"
   ]
  },
  {
   "cell_type": "code",
   "execution_count": 12,
   "metadata": {},
   "outputs": [
    {
     "name": "stdout",
     "output_type": "stream",
     "text": [
      "Dropped 0 rows missing GDP (nominal, 2022)\n"
     ]
    }
   ],
   "source": [
    "if \"GDP (nominal, 2022)\" in country_gdp.columns:\n",
    "    before = len(country_gdp)\n",
    "    country_gdp.dropna(subset=[\"GDP (nominal, 2022)\",], inplace=True)\n",
    "    after = len(country_gdp)\n",
    "    print(f\"Dropped {before - after} rows missing GDP (nominal, 2022)\")"
   ]
  },
  {
   "cell_type": "markdown",
   "metadata": {},
   "source": [
    "### Drop columns in `country_gdp` if >50% missing"
   ]
  },
  {
   "cell_type": "code",
   "execution_count": 13,
   "metadata": {},
   "outputs": [],
   "source": [
    "for col in country_gdp.columns:\n",
    "    if country_gdp[col].isnull().mean()>0.5:\n",
    "        country_gdp.drop(columns=[col], inplace=True)\n",
    "        print(\"Dropped column\", col)"
   ]
  },
  {
   "cell_type": "markdown",
   "metadata": {},
   "source": [
    "## 5. Merge the Two Datasets (Outer Join on `Country`)"
   ]
  },
  {
   "cell_type": "code",
   "execution_count": 14,
   "metadata": {},
   "outputs": [
    {
     "name": "stdout",
     "output_type": "stream",
     "text": [
      "Merged dataset info:\n",
      "<class 'pandas.core.frame.DataFrame'>\n",
      "RangeIndex: 207 entries, 0 to 206\n",
      "Data columns (total 10 columns):\n",
      " #   Column               Non-Null Count  Dtype  \n",
      "---  ------               --------------  -----  \n",
      " 0   Country              207 non-null    object \n",
      " 1   Population (2024)    195 non-null    float64\n",
      " 2   Land Area(Km²)       195 non-null    float64\n",
      " 3   Density(P/Km²)       195 non-null    float64\n",
      " 4   GDP (nominal, 2022)  177 non-null    float64\n",
      " 5   GDP (abbrev.)        177 non-null    object \n",
      " 6   GDP growth           177 non-null    float64\n",
      " 7   Population -2022     177 non-null    float64\n",
      " 8   GDP per capita       177 non-null    float64\n",
      " 9   Share of World GDP   177 non-null    float64\n",
      "dtypes: float64(8), object(2)\n",
      "memory usage: 16.3+ KB\n"
     ]
    },
    {
     "data": {
      "text/plain": [
       "None"
      ]
     },
     "metadata": {},
     "output_type": "display_data"
    }
   ],
   "source": [
    "merged_df = pd.merge(country_data, country_gdp, on=\"Country\", how=\"outer\")\n",
    "print(\"Merged dataset info:\")\n",
    "display(merged_df.info())"
   ]
  },
  {
   "cell_type": "markdown",
   "metadata": {},
   "source": [
    "## 6. Generate 5-year Population Data\n",
    "We’ll create **`Pop_2020`..`Pop_2024`**. If **`Population (2024)`** or **`Population -2022`** is available, use it as a baseline; otherwise random."
   ]
  },
  {
   "cell_type": "code",
   "execution_count": 15,
   "metadata": {},
   "outputs": [],
   "source": [
    "def generate_5yr_population(df, start=2020, end=2024):\n",
    "    for idx, row in df.iterrows():\n",
    "        pop_2024 = row.get(\"Population (2024)\", np.nan)\n",
    "        pop_2022 = row.get(\"Population -2022\", np.nan)\n",
    "\n",
    "        if not pd.isnull(pop_2024):\n",
    "            base_2024 = pop_2024\n",
    "        elif not pd.isnull(pop_2022):\n",
    "            growth_factor = 1 + random.uniform(0.01, 0.03)*(2024-2022)\n",
    "            base_2024 = pop_2022*growth_factor\n",
    "        else:\n",
    "            base_2024 = random.randint(1_000_000,300_000_000)\n",
    "\n",
    "        # go backwards\n",
    "        pop_vals = {}\n",
    "        pop_vals[end] = base_2024\n",
    "        for year in range(end-1,start-1,-1):\n",
    "            rev_growth = 1 - random.uniform(0.00,0.03)\n",
    "            pop_vals[year] = int(pop_vals[year+1]*rev_growth)\n",
    "\n",
    "        # set columns\n",
    "        for year in range(start,end+1):\n",
    "            coln = f'Pop_{year}'\n",
    "            df.at[idx, coln] = pop_vals[year]\n",
    "    return df"
   ]
  },
  {
   "cell_type": "markdown",
   "metadata": {},
   "source": [
    "### Apply it to our merged DataFrame"
   ]
  },
  {
   "cell_type": "code",
   "execution_count": 16,
   "metadata": {},
   "outputs": [
    {
     "data": {
      "text/html": [
       "<div>\n",
       "<style scoped>\n",
       "    .dataframe tbody tr th:only-of-type {\n",
       "        vertical-align: middle;\n",
       "    }\n",
       "\n",
       "    .dataframe tbody tr th {\n",
       "        vertical-align: top;\n",
       "    }\n",
       "\n",
       "    .dataframe thead th {\n",
       "        text-align: right;\n",
       "    }\n",
       "</style>\n",
       "<table border=\"1\" class=\"dataframe\">\n",
       "  <thead>\n",
       "    <tr style=\"text-align: right;\">\n",
       "      <th></th>\n",
       "      <th>Pop_2020</th>\n",
       "      <th>Pop_2021</th>\n",
       "      <th>Pop_2022</th>\n",
       "      <th>Pop_2023</th>\n",
       "      <th>Pop_2024</th>\n",
       "    </tr>\n",
       "  </thead>\n",
       "  <tbody>\n",
       "    <tr>\n",
       "      <th>0</th>\n",
       "      <td>40802683.0</td>\n",
       "      <td>41365347.0</td>\n",
       "      <td>41392435.0</td>\n",
       "      <td>41674642.0</td>\n",
       "      <td>42647492.0</td>\n",
       "    </tr>\n",
       "    <tr>\n",
       "      <th>1</th>\n",
       "      <td>2617413.0</td>\n",
       "      <td>2645161.0</td>\n",
       "      <td>2654674.0</td>\n",
       "      <td>2729266.0</td>\n",
       "      <td>2791765.0</td>\n",
       "    </tr>\n",
       "    <tr>\n",
       "      <th>2</th>\n",
       "      <td>45303961.0</td>\n",
       "      <td>45617580.0</td>\n",
       "      <td>46670810.0</td>\n",
       "      <td>46739691.0</td>\n",
       "      <td>46814308.0</td>\n",
       "    </tr>\n",
       "    <tr>\n",
       "      <th>3</th>\n",
       "      <td>79653.0</td>\n",
       "      <td>79852.0</td>\n",
       "      <td>81410.0</td>\n",
       "      <td>81633.0</td>\n",
       "      <td>81938.0</td>\n",
       "    </tr>\n",
       "    <tr>\n",
       "      <th>4</th>\n",
       "      <td>34881414.0</td>\n",
       "      <td>35728083.0</td>\n",
       "      <td>36392588.0</td>\n",
       "      <td>37135733.0</td>\n",
       "      <td>37885849.0</td>\n",
       "    </tr>\n",
       "  </tbody>\n",
       "</table>\n",
       "</div>"
      ],
      "text/plain": [
       "     Pop_2020    Pop_2021    Pop_2022    Pop_2023    Pop_2024\n",
       "0  40802683.0  41365347.0  41392435.0  41674642.0  42647492.0\n",
       "1   2617413.0   2645161.0   2654674.0   2729266.0   2791765.0\n",
       "2  45303961.0  45617580.0  46670810.0  46739691.0  46814308.0\n",
       "3     79653.0     79852.0     81410.0     81633.0     81938.0\n",
       "4  34881414.0  35728083.0  36392588.0  37135733.0  37885849.0"
      ]
     },
     "execution_count": 16,
     "metadata": {},
     "output_type": "execute_result"
    }
   ],
   "source": [
    "merged_df = generate_5yr_population(merged_df)\n",
    "pcols = [f'Pop_{y}' for y in range(2020,2025)]\n",
    "merged_df[pcols].head(5)"
   ]
  },
  {
   "cell_type": "markdown",
   "metadata": {},
   "source": [
    "## 7. Add Synthetic Features (Corruption, HDI, etc.)\n",
    "Based on **GDP** and **Population** to look more realistic."
   ]
  },
  {
   "cell_type": "code",
   "execution_count": 17,
   "metadata": {},
   "outputs": [],
   "source": [
    "def add_synthetic_features(df):\n",
    "    for idx, row in df.iterrows():\n",
    "        gdp = row.get(\"GDP (nominal, 2022)\",0)\n",
    "        p24 = row.get(\"Pop_2024\",1)\n",
    "\n",
    "        # tax\n",
    "        lg = np.log10(gdp+1) if gdp>0 else 0\n",
    "        tax_est = 5 + (lg-9)*(45/(14-9)) + random.uniform(-2,2)\n",
    "        tax_est = max(5, min(50,tax_est))\n",
    "\n",
    "        # corruption => bigger pop => lower index\n",
    "        pc = min(1_000_000_000,max(1_000_000,p24))\n",
    "        pop_ratio = (pc-1_000_000)/999_000_000\n",
    "        base_corr = 100*(1-pop_ratio)\n",
    "        c_idx = base_corr + random.uniform(-10,10)\n",
    "        c_idx = max(1, min(100,c_idx))\n",
    "\n",
    "        # life exp => bigger gdp => bigger\n",
    "        le_b = 50 + (lg-9)*(35/(14-9)) + random.uniform(-3,3)\n",
    "        le_b = max(50, min(85, le_b))\n",
    "\n",
    "        # hdi => 0.3..0.95\n",
    "        h_b = 0.3+(0.65*((lg-9)/(14-9)))+random.uniform(-0.05,0.05)\n",
    "        h_b = max(0.3, min(0.95,h_b))\n",
    "\n",
    "        df.at[idx,\"Tax Revenue (%GDP)\"] = round(tax_est,2)\n",
    "        df.at[idx,\"Corruption Index\"] = round(c_idx,2)\n",
    "        df.at[idx,\"Life Expectancy\"] = round(le_b,2)\n",
    "        df.at[idx,\"HDI\"] = round(h_b,3)\n",
    "    return df"
   ]
  },
  {
   "cell_type": "markdown",
   "metadata": {},
   "source": [
    "### Apply it"
   ]
  },
  {
   "cell_type": "code",
   "execution_count": 18,
   "metadata": {},
   "outputs": [
    {
     "data": {
      "text/html": [
       "<div>\n",
       "<style scoped>\n",
       "    .dataframe tbody tr th:only-of-type {\n",
       "        vertical-align: middle;\n",
       "    }\n",
       "\n",
       "    .dataframe tbody tr th {\n",
       "        vertical-align: top;\n",
       "    }\n",
       "\n",
       "    .dataframe thead th {\n",
       "        text-align: right;\n",
       "    }\n",
       "</style>\n",
       "<table border=\"1\" class=\"dataframe\">\n",
       "  <thead>\n",
       "    <tr style=\"text-align: right;\">\n",
       "      <th></th>\n",
       "      <th>Country</th>\n",
       "      <th>GDP (nominal, 2022)</th>\n",
       "      <th>Pop_2024</th>\n",
       "      <th>Tax Revenue (%GDP)</th>\n",
       "      <th>Corruption Index</th>\n",
       "      <th>HDI</th>\n",
       "      <th>Life Expectancy</th>\n",
       "    </tr>\n",
       "  </thead>\n",
       "  <tbody>\n",
       "    <tr>\n",
       "      <th>0</th>\n",
       "      <td>Afghanistan</td>\n",
       "      <td>NaN</td>\n",
       "      <td>42647492.0</td>\n",
       "      <td>5.00</td>\n",
       "      <td>100.00</td>\n",
       "      <td>0.300</td>\n",
       "      <td>50.00</td>\n",
       "    </tr>\n",
       "    <tr>\n",
       "      <th>1</th>\n",
       "      <td>Albania</td>\n",
       "      <td>1.888210e+10</td>\n",
       "      <td>2791765.0</td>\n",
       "      <td>16.62</td>\n",
       "      <td>100.00</td>\n",
       "      <td>0.440</td>\n",
       "      <td>57.25</td>\n",
       "    </tr>\n",
       "    <tr>\n",
       "      <th>2</th>\n",
       "      <td>Algeria</td>\n",
       "      <td>1.919130e+11</td>\n",
       "      <td>46814308.0</td>\n",
       "      <td>25.75</td>\n",
       "      <td>88.73</td>\n",
       "      <td>0.587</td>\n",
       "      <td>68.71</td>\n",
       "    </tr>\n",
       "    <tr>\n",
       "      <th>3</th>\n",
       "      <td>Andorra</td>\n",
       "      <td>3.352033e+09</td>\n",
       "      <td>81938.0</td>\n",
       "      <td>9.67</td>\n",
       "      <td>100.00</td>\n",
       "      <td>0.405</td>\n",
       "      <td>50.75</td>\n",
       "    </tr>\n",
       "    <tr>\n",
       "      <th>4</th>\n",
       "      <td>Angola</td>\n",
       "      <td>1.067140e+11</td>\n",
       "      <td>37885849.0</td>\n",
       "      <td>21.99</td>\n",
       "      <td>100.00</td>\n",
       "      <td>0.562</td>\n",
       "      <td>62.73</td>\n",
       "    </tr>\n",
       "  </tbody>\n",
       "</table>\n",
       "</div>"
      ],
      "text/plain": [
       "       Country  GDP (nominal, 2022)    Pop_2024  Tax Revenue (%GDP)  \\\n",
       "0  Afghanistan                  NaN  42647492.0                5.00   \n",
       "1      Albania         1.888210e+10   2791765.0               16.62   \n",
       "2      Algeria         1.919130e+11  46814308.0               25.75   \n",
       "3      Andorra         3.352033e+09     81938.0                9.67   \n",
       "4       Angola         1.067140e+11  37885849.0               21.99   \n",
       "\n",
       "   Corruption Index    HDI  Life Expectancy  \n",
       "0            100.00  0.300            50.00  \n",
       "1            100.00  0.440            57.25  \n",
       "2             88.73  0.587            68.71  \n",
       "3            100.00  0.405            50.75  \n",
       "4            100.00  0.562            62.73  "
      ]
     },
     "execution_count": 18,
     "metadata": {},
     "output_type": "execute_result"
    }
   ],
   "source": [
    "merged_df = add_synthetic_features(merged_df)\n",
    "cols_show = [\"Country\",\"GDP (nominal, 2022)\",\"Pop_2024\",\"Tax Revenue (%GDP)\",\"Corruption Index\",\"HDI\",\"Life Expectancy\"]\n",
    "merged_df[cols_show].head(5)"
   ]
  },
  {
   "cell_type": "markdown",
   "metadata": {},
   "source": [
    "## 8. Plot Correlation Heatmap"
   ]
  },
  {
   "cell_type": "code",
   "execution_count": 19,
   "metadata": {},
   "outputs": [
    {
     "data": {
      "image/png": "[encoded data removed]",
      "text/plain": [
       "<Figure size 800x600 with 2 Axes>"
      ]
     },
     "metadata": {},
     "output_type": "display_data"
    }
   ],
   "source": [
    "num_cols = [\"GDP (nominal, 2022)\", \"Pop_2024\", \"Tax Revenue (%GDP)\", \"Corruption Index\", \"HDI\", \"Life Expectancy\"]\n",
    "num_cols = [c for c in num_cols if c in merged_df.columns]\n",
    "corr_df = merged_df[num_cols].corr()\n",
    "plt.figure(figsize=(8,6))\n",
    "sns.heatmap(corr_df, annot=True, cmap=\"RdBu\", center=0)\n",
    "plt.title(\"Correlation Heatmap\")\n",
    "plt.show()"
   ]
  },
  {
   "cell_type": "markdown",
   "metadata": {},
   "source": [
    "## 9. Wide → Long Conversion (Population) & Plot a Line Chart\n",
    "### Why?\n",
    "Some visualizations (like line plots over time) work better when data is in **long format** (one row per `(country, year, population)`)."
   ]
  },
  {
   "cell_type": "code",
   "execution_count": 20,
   "metadata": {},
   "outputs": [
    {
     "data": {
      "text/html": [
       "<div>\n",
       "<style scoped>\n",
       "    .dataframe tbody tr th:only-of-type {\n",
       "        vertical-align: middle;\n",
       "    }\n",
       "\n",
       "    .dataframe tbody tr th {\n",
       "        vertical-align: top;\n",
       "    }\n",
       "\n",
       "    .dataframe thead th {\n",
       "        text-align: right;\n",
       "    }\n",
       "</style>\n",
       "<table border=\"1\" class=\"dataframe\">\n",
       "  <thead>\n",
       "    <tr style=\"text-align: right;\">\n",
       "      <th></th>\n",
       "      <th>Country</th>\n",
       "      <th>Year</th>\n",
       "      <th>Population</th>\n",
       "    </tr>\n",
       "  </thead>\n",
       "  <tbody>\n",
       "    <tr>\n",
       "      <th>0</th>\n",
       "      <td>Afghanistan</td>\n",
       "      <td>2020</td>\n",
       "      <td>40802683.0</td>\n",
       "    </tr>\n",
       "    <tr>\n",
       "      <th>1</th>\n",
       "      <td>Albania</td>\n",
       "      <td>2020</td>\n",
       "      <td>2617413.0</td>\n",
       "    </tr>\n",
       "    <tr>\n",
       "      <th>2</th>\n",
       "      <td>Algeria</td>\n",
       "      <td>2020</td>\n",
       "      <td>45303961.0</td>\n",
       "    </tr>\n",
       "    <tr>\n",
       "      <th>3</th>\n",
       "      <td>Andorra</td>\n",
       "      <td>2020</td>\n",
       "      <td>79653.0</td>\n",
       "    </tr>\n",
       "    <tr>\n",
       "      <th>4</th>\n",
       "      <td>Angola</td>\n",
       "      <td>2020</td>\n",
       "      <td>34881414.0</td>\n",
       "    </tr>\n",
       "  </tbody>\n",
       "</table>\n",
       "</div>"
      ],
      "text/plain": [
       "       Country  Year  Population\n",
       "0  Afghanistan  2020  40802683.0\n",
       "1      Albania  2020   2617413.0\n",
       "2      Algeria  2020  45303961.0\n",
       "3      Andorra  2020     79653.0\n",
       "4       Angola  2020  34881414.0"
      ]
     },
     "execution_count": 20,
     "metadata": {},
     "output_type": "execute_result"
    }
   ],
   "source": [
    "pcols = [f'Pop_{y}' for y in range(2020,2025)]\n",
    "idv = [c for c in merged_df.columns if c not in pcols]\n",
    "pop_long = merged_df.melt(\n",
    "    id_vars=idv,\n",
    "    value_vars=pcols,\n",
    "    var_name=\"Year\",\n",
    "    value_name=\"Population\"\n",
    ")\n",
    "pop_long[\"Year\"] = pop_long[\"Year\"].str.replace(\"Pop_\",\"\").astype(int)\n",
    "pop_long[['Country','Year','Population']].head(5)"
   ]
  },
  {
   "cell_type": "markdown",
   "metadata": {},
   "source": [
    "### Plot line chart of top 10 populous countries in 2024"
   ]
  },
  {
   "cell_type": "code",
   "execution_count": 21,
   "metadata": {},
   "outputs": [
    {
     "data": {
      "image/png": "[encoded data removed]",
      "text/plain": [
       "<Figure size 900x600 with 1 Axes>"
      ]
     },
     "metadata": {},
     "output_type": "display_data"
    }
   ],
   "source": [
    "wide_temp = pop_long.pivot(index=\"Country\", columns=\"Year\", values=\"Population\").reset_index()\n",
    "top_2024 = wide_temp.sort_values(by=2024, ascending=False).head(10)\n",
    "top_countries = top_2024['Country'].values\n",
    "\n",
    "pop_plot_df = pop_long[pop_long['Country'].isin(top_countries)]\n",
    "\n",
    "plt.figure(figsize=(9,6))\n",
    "sns.lineplot(\n",
    "    data=pop_plot_df,\n",
    "    x=\"Year\",\n",
    "    y=\"Population\",\n",
    "    hue=\"Country\",\n",
    "    marker=\"o\"\n",
    ")\n",
    "plt.title(\"Population Trend (Top 10 by 2024)\")\n",
    "plt.legend(bbox_to_anchor=(1.05,1), loc=\"upper left\")\n",
    "plt.tight_layout()\n",
    "plt.show()"
   ]
  },
  {
   "cell_type": "markdown",
   "metadata": {},
   "source": [
    "## 10. Handle Outliers (GDP)\n",
    "We remove extreme outliers in `GDP (nominal, 2022)` using IQR."
   ]
  },
  {
   "cell_type": "code",
   "execution_count": 22,
   "metadata": {},
   "outputs": [
    {
     "name": "stdout",
     "output_type": "stream",
     "text": [
      "Outlier filter on GDP done.\n",
      "Remaining rows: 157\n"
     ]
    }
   ],
   "source": [
    "filtered_df = merged_df.copy()\n",
    "if \"GDP (nominal, 2022)\" in filtered_df.columns:\n",
    "    Q1 = filtered_df[\"GDP (nominal, 2022)\"].quantile(0.25)\n",
    "    Q3 = filtered_df[\"GDP (nominal, 2022)\"].quantile(0.75)\n",
    "    IQR = Q3 - Q1\n",
    "    cond = (filtered_df[\"GDP (nominal, 2022)\"] >= (Q1-1.5*IQR)) & (filtered_df[\"GDP (nominal, 2022)\"] <= (Q3+1.5*IQR))\n",
    "    filtered_df = filtered_df[cond]\n",
    "    print(\"Outlier filter on GDP done.\")\n",
    "print(\"Remaining rows:\", len(filtered_df))"
   ]
  },
  {
   "cell_type": "markdown",
   "metadata": {},
   "source": [
    "## 11. Create a Global Development Score\n",
    "### We combine:\n",
    "- **HDI** (0.3–0.95)\n",
    "- **Corruption Index** (1–100)\n",
    "- **Tax Revenue** (5–50)\n",
    "- **GDP** (log scale)\n",
    "\n",
    "Weights: 40% HDI, 25% Corruption, 15% log(GDP), 20% Tax.\n",
    "We do a simple normalization to [0..1]."
   ]
  },
  {
   "cell_type": "code",
   "execution_count": 23,
   "metadata": {},
   "outputs": [
    {
     "data": {
      "text/html": [
       "<div>\n",
       "<style scoped>\n",
       "    .dataframe tbody tr th:only-of-type {\n",
       "        vertical-align: middle;\n",
       "    }\n",
       "\n",
       "    .dataframe tbody tr th {\n",
       "        vertical-align: top;\n",
       "    }\n",
       "\n",
       "    .dataframe thead th {\n",
       "        text-align: right;\n",
       "    }\n",
       "</style>\n",
       "<table border=\"1\" class=\"dataframe\">\n",
       "  <thead>\n",
       "    <tr style=\"text-align: right;\">\n",
       "      <th></th>\n",
       "      <th>Country</th>\n",
       "      <th>GDP (nominal, 2022)</th>\n",
       "      <th>Corruption Index</th>\n",
       "      <th>HDI</th>\n",
       "      <th>Tax Revenue (%GDP)</th>\n",
       "      <th>Global Dev Score</th>\n",
       "    </tr>\n",
       "  </thead>\n",
       "  <tbody>\n",
       "    <tr>\n",
       "      <th>1</th>\n",
       "      <td>Albania</td>\n",
       "      <td>1.888210e+10</td>\n",
       "      <td>100.00</td>\n",
       "      <td>0.440</td>\n",
       "      <td>16.62</td>\n",
       "      <td>0.426080</td>\n",
       "    </tr>\n",
       "    <tr>\n",
       "      <th>2</th>\n",
       "      <td>Algeria</td>\n",
       "      <td>1.919130e+11</td>\n",
       "      <td>88.73</td>\n",
       "      <td>0.587</td>\n",
       "      <td>25.75</td>\n",
       "      <td>0.558871</td>\n",
       "    </tr>\n",
       "    <tr>\n",
       "      <th>3</th>\n",
       "      <td>Andorra</td>\n",
       "      <td>3.352033e+09</td>\n",
       "      <td>100.00</td>\n",
       "      <td>0.405</td>\n",
       "      <td>9.67</td>\n",
       "      <td>0.351130</td>\n",
       "    </tr>\n",
       "    <tr>\n",
       "      <th>4</th>\n",
       "      <td>Angola</td>\n",
       "      <td>1.067140e+11</td>\n",
       "      <td>100.00</td>\n",
       "      <td>0.562</td>\n",
       "      <td>21.99</td>\n",
       "      <td>0.547589</td>\n",
       "    </tr>\n",
       "    <tr>\n",
       "      <th>5</th>\n",
       "      <td>Antigua and Barbuda</td>\n",
       "      <td>1.757604e+09</td>\n",
       "      <td>100.00</td>\n",
       "      <td>0.312</td>\n",
       "      <td>7.74</td>\n",
       "      <td>0.276910</td>\n",
       "    </tr>\n",
       "  </tbody>\n",
       "</table>\n",
       "</div>"
      ],
      "text/plain": [
       "               Country  GDP (nominal, 2022)  Corruption Index    HDI  \\\n",
       "1              Albania         1.888210e+10            100.00  0.440   \n",
       "2              Algeria         1.919130e+11             88.73  0.587   \n",
       "3              Andorra         3.352033e+09            100.00  0.405   \n",
       "4               Angola         1.067140e+11            100.00  0.562   \n",
       "5  Antigua and Barbuda         1.757604e+09            100.00  0.312   \n",
       "\n",
       "   Tax Revenue (%GDP)  Global Dev Score  \n",
       "1               16.62          0.426080  \n",
       "2               25.75          0.558871  \n",
       "3                9.67          0.351130  \n",
       "4               21.99          0.547589  \n",
       "5                7.74          0.276910  "
      ]
     },
     "execution_count": 23,
     "metadata": {},
     "output_type": "execute_result"
    }
   ],
   "source": [
    "final_df = filtered_df.copy()\n",
    "\n",
    "def compute_score(row):\n",
    "    hdi = row.get(\"HDI\",0)\n",
    "    corr = row.get(\"Corruption Index\",0)\n",
    "    gdp = row.get(\"GDP (nominal, 2022)\",0)\n",
    "    tax = row.get(\"Tax Revenue (%GDP)\",0)\n",
    "\n",
    "    # HDI => 0.3..0.95 => scale\n",
    "    nh = (hdi-0.3)/(0.95-0.3)\n",
    "    nh = min(max(nh,0),1)\n",
    "\n",
    "    # Corr => 1..100 => scale\n",
    "    nc = (corr-1)/(99)\n",
    "    nc = min(max(nc,0),1)\n",
    "\n",
    "    # GDP => log scale => 9..14 => 0..1\n",
    "    if gdp>0:\n",
    "        lg = np.log10(gdp)\n",
    "        ng = (lg-9)/(14-9)\n",
    "        ng = min(max(ng,0),1)\n",
    "    else:\n",
    "        ng=0\n",
    "\n",
    "    # tax => 5..50 => 0..1\n",
    "    nt = (tax-5)/45\n",
    "    nt = min(max(nt,0),1)\n",
    "\n",
    "    score = 0.40*nh + 0.25*nc + 0.15*ng + 0.20*nt\n",
    "    return score\n",
    "\n",
    "final_df[\"Global Dev Score\"] = final_df.apply(compute_score, axis=1)\n",
    "final_df[[\"Country\",\"GDP (nominal, 2022)\",\"Corruption Index\",\"HDI\",\"Tax Revenue (%GDP)\",\"Global Dev Score\"]].head(5)"
   ]
  },
  {
   "cell_type": "markdown",
   "metadata": {},
   "source": [
    "### Sort Countries by the Score"
   ]
  },
  {
   "cell_type": "code",
   "execution_count": 24,
   "metadata": {},
   "outputs": [
    {
     "data": {
      "text/html": [
       "<div>\n",
       "<style scoped>\n",
       "    .dataframe tbody tr th:only-of-type {\n",
       "        vertical-align: middle;\n",
       "    }\n",
       "\n",
       "    .dataframe tbody tr th {\n",
       "        vertical-align: top;\n",
       "    }\n",
       "\n",
       "    .dataframe thead th {\n",
       "        text-align: right;\n",
       "    }\n",
       "</style>\n",
       "<table border=\"1\" class=\"dataframe\">\n",
       "  <thead>\n",
       "    <tr style=\"text-align: right;\">\n",
       "      <th></th>\n",
       "      <th>Country</th>\n",
       "      <th>Population (2024)</th>\n",
       "      <th>Land Area(Km²)</th>\n",
       "      <th>Density(P/Km²)</th>\n",
       "      <th>GDP (nominal, 2022)</th>\n",
       "      <th>GDP (abbrev.)</th>\n",
       "      <th>GDP growth</th>\n",
       "      <th>Population -2022</th>\n",
       "      <th>GDP per capita</th>\n",
       "      <th>Share of World GDP</th>\n",
       "      <th>Pop_2020</th>\n",
       "      <th>Pop_2021</th>\n",
       "      <th>Pop_2022</th>\n",
       "      <th>Pop_2023</th>\n",
       "      <th>Pop_2024</th>\n",
       "      <th>Tax Revenue (%GDP)</th>\n",
       "      <th>Corruption Index</th>\n",
       "      <th>Life Expectancy</th>\n",
       "      <th>HDI</th>\n",
       "      <th>Global Dev Score</th>\n",
       "    </tr>\n",
       "  </thead>\n",
       "  <tbody>\n",
       "    <tr>\n",
       "      <th>16</th>\n",
       "      <td>Belgium</td>\n",
       "      <td>11738763.0</td>\n",
       "      <td>30280.0</td>\n",
       "      <td>388.0</td>\n",
       "      <td>5.786040e+11</td>\n",
       "      <td>$579 billion</td>\n",
       "      <td>0.0325</td>\n",
       "      <td>11641820.0</td>\n",
       "      <td>49700.0</td>\n",
       "      <td>0.0058</td>\n",
       "      <td>11353783.0</td>\n",
       "      <td>11509267.0</td>\n",
       "      <td>11527683.0</td>\n",
       "      <td>11662121.0</td>\n",
       "      <td>11738763.0</td>\n",
       "      <td>31.15</td>\n",
       "      <td>100.00</td>\n",
       "      <td>68.89</td>\n",
       "      <td>0.700</td>\n",
       "      <td>0.695248</td>\n",
       "    </tr>\n",
       "    <tr>\n",
       "      <th>136</th>\n",
       "      <td>Norway</td>\n",
       "      <td>5576660.0</td>\n",
       "      <td>365268.0</td>\n",
       "      <td>15.0</td>\n",
       "      <td>5.792670e+11</td>\n",
       "      <td>$579 billion</td>\n",
       "      <td>0.0328</td>\n",
       "      <td>5456801.0</td>\n",
       "      <td>106155.0</td>\n",
       "      <td>0.0058</td>\n",
       "      <td>5138287.0</td>\n",
       "      <td>5291486.0</td>\n",
       "      <td>5391971.0</td>\n",
       "      <td>5464264.0</td>\n",
       "      <td>5576660.0</td>\n",
       "      <td>29.61</td>\n",
       "      <td>100.00</td>\n",
       "      <td>66.59</td>\n",
       "      <td>0.695</td>\n",
       "      <td>0.685341</td>\n",
       "    </tr>\n",
       "    <tr>\n",
       "      <th>179</th>\n",
       "      <td>Sweden</td>\n",
       "      <td>10606999.0</td>\n",
       "      <td>410340.0</td>\n",
       "      <td>26.0</td>\n",
       "      <td>5.859390e+11</td>\n",
       "      <td>$586 billion</td>\n",
       "      <td>0.0264</td>\n",
       "      <td>10487338.0</td>\n",
       "      <td>55871.0</td>\n",
       "      <td>0.0058</td>\n",
       "      <td>10001498.0</td>\n",
       "      <td>10180709.0</td>\n",
       "      <td>10218086.0</td>\n",
       "      <td>10297731.0</td>\n",
       "      <td>10606999.0</td>\n",
       "      <td>31.59</td>\n",
       "      <td>95.60</td>\n",
       "      <td>70.64</td>\n",
       "      <td>0.675</td>\n",
       "      <td>0.670871</td>\n",
       "    </tr>\n",
       "    <tr>\n",
       "      <th>195</th>\n",
       "      <td>United Arab Emirates</td>\n",
       "      <td>11027129.0</td>\n",
       "      <td>83600.0</td>\n",
       "      <td>132.0</td>\n",
       "      <td>5.075350e+11</td>\n",
       "      <td>$508 billion</td>\n",
       "      <td>0.0741</td>\n",
       "      <td>10242086.0</td>\n",
       "      <td>49554.0</td>\n",
       "      <td>0.0050</td>\n",
       "      <td>10486418.0</td>\n",
       "      <td>10603458.0</td>\n",
       "      <td>10767268.0</td>\n",
       "      <td>10920650.0</td>\n",
       "      <td>11027129.0</td>\n",
       "      <td>29.20</td>\n",
       "      <td>98.51</td>\n",
       "      <td>70.95</td>\n",
       "      <td>0.675</td>\n",
       "      <td>0.665726</td>\n",
       "    </tr>\n",
       "    <tr>\n",
       "      <th>54</th>\n",
       "      <td>Egypt</td>\n",
       "      <td>116538258.0</td>\n",
       "      <td>995450.0</td>\n",
       "      <td>117.0</td>\n",
       "      <td>4.767480e+11</td>\n",
       "      <td>$477 billion</td>\n",
       "      <td>0.0659</td>\n",
       "      <td>112618250.0</td>\n",
       "      <td>4233.0</td>\n",
       "      <td>0.0047</td>\n",
       "      <td>106757669.0</td>\n",
       "      <td>108240946.0</td>\n",
       "      <td>111153374.0</td>\n",
       "      <td>113403472.0</td>\n",
       "      <td>116538258.0</td>\n",
       "      <td>28.89</td>\n",
       "      <td>94.87</td>\n",
       "      <td>70.69</td>\n",
       "      <td>0.689</td>\n",
       "      <td>0.662957</td>\n",
       "    </tr>\n",
       "    <tr>\n",
       "      <th>165</th>\n",
       "      <td>Singapore</td>\n",
       "      <td>5832387.0</td>\n",
       "      <td>700.0</td>\n",
       "      <td>8332.0</td>\n",
       "      <td>4.667890e+11</td>\n",
       "      <td>$467 billion</td>\n",
       "      <td>0.0365</td>\n",
       "      <td>5649885.0</td>\n",
       "      <td>82619.0</td>\n",
       "      <td>0.0046</td>\n",
       "      <td>5496642.0</td>\n",
       "      <td>5545007.0</td>\n",
       "      <td>5697389.0</td>\n",
       "      <td>5741407.0</td>\n",
       "      <td>5832387.0</td>\n",
       "      <td>28.07</td>\n",
       "      <td>100.00</td>\n",
       "      <td>70.29</td>\n",
       "      <td>0.649</td>\n",
       "      <td>0.647376</td>\n",
       "    </tr>\n",
       "    <tr>\n",
       "      <th>63</th>\n",
       "      <td>Finland</td>\n",
       "      <td>5617310.0</td>\n",
       "      <td>303890.0</td>\n",
       "      <td>18.0</td>\n",
       "      <td>2.808260e+11</td>\n",
       "      <td>$281 billion</td>\n",
       "      <td>0.0208</td>\n",
       "      <td>5569299.0</td>\n",
       "      <td>50424.0</td>\n",
       "      <td>0.0028</td>\n",
       "      <td>5341977.0</td>\n",
       "      <td>5376382.0</td>\n",
       "      <td>5497553.0</td>\n",
       "      <td>5559478.0</td>\n",
       "      <td>5617310.0</td>\n",
       "      <td>27.14</td>\n",
       "      <td>100.00</td>\n",
       "      <td>65.37</td>\n",
       "      <td>0.664</td>\n",
       "      <td>0.645853</td>\n",
       "    </tr>\n",
       "    <tr>\n",
       "      <th>86</th>\n",
       "      <td>Ireland</td>\n",
       "      <td>5255017.0</td>\n",
       "      <td>68890.0</td>\n",
       "      <td>76.0</td>\n",
       "      <td>5.292450e+11</td>\n",
       "      <td>$529 billion</td>\n",
       "      <td>0.1197</td>\n",
       "      <td>5110016.0</td>\n",
       "      <td>103570.0</td>\n",
       "      <td>0.0053</td>\n",
       "      <td>4949856.0</td>\n",
       "      <td>5020464.0</td>\n",
       "      <td>5143740.0</td>\n",
       "      <td>5235986.0</td>\n",
       "      <td>5255017.0</td>\n",
       "      <td>29.99</td>\n",
       "      <td>99.99</td>\n",
       "      <td>67.98</td>\n",
       "      <td>0.622</td>\n",
       "      <td>0.640905</td>\n",
       "    </tr>\n",
       "    <tr>\n",
       "      <th>184</th>\n",
       "      <td>Thailand</td>\n",
       "      <td>71668011.0</td>\n",
       "      <td>510890.0</td>\n",
       "      <td>140.0</td>\n",
       "      <td>4.953410e+11</td>\n",
       "      <td>$495 billion</td>\n",
       "      <td>0.0259</td>\n",
       "      <td>71735329.0</td>\n",
       "      <td>6905.0</td>\n",
       "      <td>0.0049</td>\n",
       "      <td>67312067.0</td>\n",
       "      <td>67778214.0</td>\n",
       "      <td>67822854.0</td>\n",
       "      <td>69619003.0</td>\n",
       "      <td>71668011.0</td>\n",
       "      <td>28.10</td>\n",
       "      <td>96.84</td>\n",
       "      <td>66.51</td>\n",
       "      <td>0.644</td>\n",
       "      <td>0.637226</td>\n",
       "    </tr>\n",
       "    <tr>\n",
       "      <th>144</th>\n",
       "      <td>Peru</td>\n",
       "      <td>34217848.0</td>\n",
       "      <td>1280000.0</td>\n",
       "      <td>27.0</td>\n",
       "      <td>2.426320e+11</td>\n",
       "      <td>$243 billion</td>\n",
       "      <td>0.0268</td>\n",
       "      <td>33475438.0</td>\n",
       "      <td>7248.0</td>\n",
       "      <td>0.0024</td>\n",
       "      <td>33129489.0</td>\n",
       "      <td>33133155.0</td>\n",
       "      <td>33408826.0</td>\n",
       "      <td>33927855.0</td>\n",
       "      <td>34217848.0</td>\n",
       "      <td>28.23</td>\n",
       "      <td>97.63</td>\n",
       "      <td>67.76</td>\n",
       "      <td>0.652</td>\n",
       "      <td>0.635423</td>\n",
       "    </tr>\n",
       "  </tbody>\n",
       "</table>\n",
       "</div>"
      ],
      "text/plain": [
       "                  Country  Population (2024)  Land Area(Km²)  Density(P/Km²)  \\\n",
       "16                Belgium         11738763.0         30280.0           388.0   \n",
       "136                Norway          5576660.0        365268.0            15.0   \n",
       "179                Sweden         10606999.0        410340.0            26.0   \n",
       "195  United Arab Emirates         11027129.0         83600.0           132.0   \n",
       "54                  Egypt        116538258.0        995450.0           117.0   \n",
       "165             Singapore          5832387.0           700.0          8332.0   \n",
       "63                Finland          5617310.0        303890.0            18.0   \n",
       "86                Ireland          5255017.0         68890.0            76.0   \n",
       "184              Thailand         71668011.0        510890.0           140.0   \n",
       "144                  Peru         34217848.0       1280000.0            27.0   \n",
       "\n",
       "     GDP (nominal, 2022) GDP (abbrev.)  GDP growth  Population -2022  \\\n",
       "16          5.786040e+11  $579 billion      0.0325        11641820.0   \n",
       "136         5.792670e+11  $579 billion      0.0328         5456801.0   \n",
       "179         5.859390e+11  $586 billion      0.0264        10487338.0   \n",
       "195         5.075350e+11  $508 billion      0.0741        10242086.0   \n",
       "54          4.767480e+11  $477 billion      0.0659       112618250.0   \n",
       "165         4.667890e+11  $467 billion      0.0365         5649885.0   \n",
       "63          2.808260e+11  $281 billion      0.0208         5569299.0   \n",
       "86          5.292450e+11  $529 billion      0.1197         5110016.0   \n",
       "184         4.953410e+11  $495 billion      0.0259        71735329.0   \n",
       "144         2.426320e+11  $243 billion      0.0268        33475438.0   \n",
       "\n",
       "     GDP per capita  Share of World GDP     Pop_2020     Pop_2021  \\\n",
       "16          49700.0              0.0058   11353783.0   11509267.0   \n",
       "136        106155.0              0.0058    5138287.0    5291486.0   \n",
       "179         55871.0              0.0058   10001498.0   10180709.0   \n",
       "195         49554.0              0.0050   10486418.0   10603458.0   \n",
       "54           4233.0              0.0047  106757669.0  108240946.0   \n",
       "165         82619.0              0.0046    5496642.0    5545007.0   \n",
       "63          50424.0              0.0028    5341977.0    5376382.0   \n",
       "86         103570.0              0.0053    4949856.0    5020464.0   \n",
       "184          6905.0              0.0049   67312067.0   67778214.0   \n",
       "144          7248.0              0.0024   33129489.0   33133155.0   \n",
       "\n",
       "        Pop_2022     Pop_2023     Pop_2024  Tax Revenue (%GDP)  \\\n",
       "16    11527683.0   11662121.0   11738763.0               31.15   \n",
       "136    5391971.0    5464264.0    5576660.0               29.61   \n",
       "179   10218086.0   10297731.0   10606999.0               31.59   \n",
       "195   10767268.0   10920650.0   11027129.0               29.20   \n",
       "54   111153374.0  113403472.0  116538258.0               28.89   \n",
       "165    5697389.0    5741407.0    5832387.0               28.07   \n",
       "63     5497553.0    5559478.0    5617310.0               27.14   \n",
       "86     5143740.0    5235986.0    5255017.0               29.99   \n",
       "184   67822854.0   69619003.0   71668011.0               28.10   \n",
       "144   33408826.0   33927855.0   34217848.0               28.23   \n",
       "\n",
       "     Corruption Index  Life Expectancy    HDI  Global Dev Score  \n",
       "16             100.00            68.89  0.700          0.695248  \n",
       "136            100.00            66.59  0.695          0.685341  \n",
       "179             95.60            70.64  0.675          0.670871  \n",
       "195             98.51            70.95  0.675          0.665726  \n",
       "54              94.87            70.69  0.689          0.662957  \n",
       "165            100.00            70.29  0.649          0.647376  \n",
       "63             100.00            65.37  0.664          0.645853  \n",
       "86              99.99            67.98  0.622          0.640905  \n",
       "184             96.84            66.51  0.644          0.637226  \n",
       "144             97.63            67.76  0.652          0.635423  "
      ]
     },
     "execution_count": 24,
     "metadata": {},
     "output_type": "execute_result"
    }
   ],
   "source": [
    "top10 = final_df.sort_values(by=\"Global Dev Score\", ascending=False).head(10)\n",
    "top10"
   ]
  },
  {
   "cell_type": "markdown",
   "metadata": {},
   "source": [
    "### Bar Plot of Top 10"
   ]
  },
  {
   "cell_type": "code",
   "execution_count": 25,
   "metadata": {},
   "outputs": [
    {
     "data": {
      "image/png": "[encoded data removed]",
      "text/plain": [
       "<Figure size 800x500 with 1 Axes>"
      ]
     },
     "metadata": {},
     "output_type": "display_data"
    }
   ],
   "source": [
    "plt.figure(figsize=(8,5))\n",
    "sns.barplot(x=top10[\"Global Dev Score\"], y=top10[\"Country\"], color=\"purple\")\n",
    "plt.title(\"Top 10 by Global Development Score\")\n",
    "plt.xlabel(\"Global Dev Score\")\n",
    "plt.ylabel(\"Country\")\n",
    "plt.tight_layout()\n",
    "plt.show()"
   ]
  },
  {
   "cell_type": "markdown",
   "metadata": {},
   "source": [
    "## (Optional) Save the Final Data with Synthetic Features & Score"
   ]
  },
  {
   "cell_type": "code",
   "execution_count": 26,
   "metadata": {},
   "outputs": [
    {
     "name": "stdout",
     "output_type": "stream",
     "text": [
      "Saved to enhanced_country_economic_data.csv\n"
     ]
    }
   ],
   "source": [
    "final_df.to_csv(\"enhanced_country_economic_data.csv\", index=False)\n",
    "print(\"Saved to enhanced_country_economic_data.csv\")"
   ]
  },
  {
   "cell_type": "markdown",
   "metadata": {},
   "source": [
    "# Frequently Asked Questions (FAQ)\n",
    "\n",
    "## Conceptual / Data-Wrangling FAQs\n",
    "1. **Why do we need to clean the data if it’s only for learning?**  \n",
    "   Realistic data typically has **inconsistencies** (commas, dollar signs, missing values). Cleaning simulates **real-world** workflows.\n",
    "\n",
    "2. **Why do we use an outer merge instead of an inner merge?**  \n",
    "   - **Outer merge** keeps **all countries** from both datasets.  \n",
    "   - **Inner merge** would only keep **matching** countries.  \n",
    "\n",
    "3. **What if we want a better method of handling missing values?**  \n",
    "   - We can use **imputation** (mean, median, or advanced modeling) or simply **drop** if it’s small.\n",
    "\n",
    "4. **Why do we transform data (wide ↔ long)?**  \n",
    "   - **Long** format is easier for time-series plotting (like line charts).\n",
    "   - **Wide** format is better for quick side-by-side comparison.\n",
    "\n",
    "5. **Why generate synthetic data (Corruption Index, HDI, etc.)?**  \n",
    "   - If real data is unavailable or confidential, we create **fake** but realistic data.\n",
    "\n",
    "6. **How did we choose these relationships (GDP => higher tax)?**  \n",
    "   - They are **simplified** assumptions to make the dataset feel more coherent.\n",
    "\n",
    "7. **Why use log scale for GDP in the Global Dev Score?**  \n",
    "   - GDP can vary hugely (millions to trillions). **Log** reduces that range.\n",
    "\n",
    "8. **Can we change the weights in the Global Dev Score?**  \n",
    "   - Yes. It’s purely **demonstrative**.\n",
    "\n",
    "9. **Why use IQR for outlier detection?**  \n",
    "   - It’s a **simple, robust** method. Others include Z-score, domain rules, etc.\n",
    "\n",
    "10. **What next after creating a Global Dev Score?**  \n",
    "   - Further analysis (clustering, correlation, comparing with official indexes, etc.).\n",
    "\n",
    "## Running / Technical FAQs\n",
    "1. **FileNotFoundError**: Make sure the CSVs are in the same folder.\n",
    "2. **ModuleNotFoundError**: Install missing libraries (`pip install faker seaborn`).\n",
    "3. **Warnings**: Seaborn might have usage changes; typically not breaking.\n",
    "4. **ValueError** converting strings to numeric: ensure you remove commas before conversion.\n",
    "5. **Empty plots**: run all previous cells in order.\n",
    "6. **Wrong Python version**: use Python 3.7+ or 3.9.\n",
    "7. **KeyError** for `Pop_2024`: maybe the CSV doesn’t have that column spelled the same.\n",
    "8. **TypeError/ValueError** merging: confirm columns match.\n",
    "9. **UnicodeDecodeError**: specify correct encoding in `pd.read_csv`.\n",
    "10. **Save/share**: the final CSV is **`enhanced_country_economic_data.csv`**. Share the `.ipynb` with the CSV files."
   ]
  },
  {
   "cell_type": "code",
   "execution_count": null,
   "metadata": {},
   "outputs": [],
   "source": []
  },
  {
   "cell_type": "code",
   "execution_count": null,
   "metadata": {},
   "outputs": [],
   "source": []
  },
  {
   "cell_type": "code",
   "execution_count": null,
   "metadata": {},
   "outputs": [],
   "source": []
  },
  {
   "cell_type": "code",
   "execution_count": null,
   "metadata": {},
   "outputs": [],
   "source": []
  }
 ],
 "metadata": {
  "kernelspec": {
   "display_name": "Python 3 (ipykernel)",
   "language": "python",
   "name": "python3"
  },
  "language_info": {
   "codemirror_mode": {
    "name": "ipython",
    "version": 3
   },
   "file_extension": ".py",
   "mimetype": "text/x-python",
   "name": "python",
   "nbconvert_exporter": "python",
   "pygments_lexer": "ipython3",
   "version": "3.10.15"
  },
  "name": "very_simple_data_tutorial"
 },
 "nbformat": 4,
 "nbformat_minor": 4
}
