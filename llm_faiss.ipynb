{
 "cells": [
  {
   "cell_type": "markdown",
   "metadata": {},
   "source": [
    "# ✅ LLM Job Classification System - FAISS Version (Offline)"
   ]
  },
  {
   "cell_type": "code",
   "execution_count": null,
   "metadata": {},
   "outputs": [],
   "source": [
    "import pandas as pd\n",
    "import numpy as np\n",
    "import os\n",
    "import faiss\n",
    "from sentence_transformers import SentenceTransformer\n",
    "from ctransformers import AutoModelForCausalLM"
   ]
  },
  {
   "cell_type": "markdown",
   "metadata": {},
   "source": [
    "## Step 1: Load Models from Local Disk"
   ]
  },
  {
   "cell_type": "code",
   "execution_count": null,
   "metadata": {},
   "outputs": [],
   "source": [
    "# Load pre-downloaded Sentence Transformer model\n",
    "embedder = SentenceTransformer('D:/NLP/all-MiniLM-L6-v2/')\n",
    "\n",
    "# Load pre-downloaded Mistral-7B-Instruct LLM\n",
    "llm = AutoModelForCausalLM.from_pretrained(\n",
    "    model_path=\"./\", \n",
    "    model_file=\"D:/NLP/LLM/mistral-7b-instruct-v0.2.Q4_K_M.gguf\",\n",
    "    model_type=\"mistral\",\n",
    "    gpu_layers=0  # Use CPU fully\n",
    ")\n",
    "\n",
    "print(\"✅ Models loaded successfully.\")"
   ]
  },
  {
   "cell_type": "markdown",
   "metadata": {},
   "source": [
    "## Step 2: Prepare SOC Codes and Data Labels"
   ]
  },
  {
   "cell_type": "code",
   "execution_count": null,
   "metadata": {},
   "outputs": [],
   "source": [
    "# Define synthetic SOC data\n",
    "soc_data = [\n",
    "    {\"soc_code\": \"2111\", \"title\": \"Biological Scientists\", \"description\": \"Research and analysis of biological data and processes.\"},\n",
    "    {\"soc_code\": \"2122\", \"title\": \"Mechanical Engineers\", \"description\": \"Design and development of mechanical systems.\"},\n",
    "    {\"soc_code\": \"2425\", \"title\": \"Data Analysts\", \"description\": \"Data analysis, pattern recognition, and reporting.\"},\n",
    "    {\"soc_code\": \"4112\", \"title\": \"Data Entry Clerks\", \"description\": \"Inputting, updating and managing data records.\"},\n",
    "    {\"soc_code\": \"3421\", \"title\": \"Data Scientists\", \"description\": \"Advanced data modeling, machine learning, and AI research.\"},\n",
    "]\n",
    "\n",
    "# Define synthetic Data Labels\n",
    "data_labels = [\n",
    "    {\"label\": \"Data Entry\", \"description\": \"Typing, inputting, and administrative handling of data.\"},\n",
    "    {\"label\": \"Database Management\", \"description\": \"Managing SQL servers, database optimization, data warehousing.\"},\n",
    "    {\"label\": \"Data Analytics\", \"description\": \"Analyzing datasets, pattern finding, report generation.\"},\n",
    "    {\"label\": \"Data Science\", \"description\": \"Predictive modeling, machine learning, and AI development.\"}\n",
    "]\n",
    "\n",
    "print(\"✅ SOC and Label metadata prepared.\")"
   ]
  },
  {
   "cell_type": "markdown",
   "metadata": {},
   "source": [
    "## Step 3: Build FAISS Indexes"
   ]
  },
  {
   "cell_type": "code",
   "execution_count": null,
   "metadata": {},
   "outputs": [],
   "source": [
    "# Embed SOC Codes\n",
    "documents_soc = [entry[\"description\"] for entry in soc_data]\n",
    "embeddings_soc = embedder.encode(documents_soc, show_progress_bar=True)\n",
    "\n",
    "# Embed Data Labels\n",
    "documents_labels = [entry[\"description\"] for entry in data_labels]\n",
    "embeddings_labels = embedder.encode(documents_labels, show_progress_bar=True)\n",
    "\n",
    "# Create FAISS indexes\n",
    "soc_index = faiss.IndexFlatL2(embeddings_soc.shape[1])\n",
    "soc_index.add(np.array(embeddings_soc))\n",
    "\n",
    "label_index = faiss.IndexFlatL2(embeddings_labels.shape[1])\n",
    "label_index.add(np.array(embeddings_labels))\n",
    "\n",
    "# Save metadata separately\n",
    "soc_metadata = soc_data\n",
    "label_metadata = data_labels\n",
    "\n",
    "print(\"✅ FAISS indexes created.\")"
   ]
  },
  {
   "cell_type": "markdown",
   "metadata": {},
   "source": [
    "## Step 4: Job Classification Function"
   ]
  },
  {
   "cell_type": "code",
   "execution_count": null,
   "metadata": {},
   "outputs": [],
   "source": [
    "import time\n",
    "\n",
    "def classify_job(job_description, threshold=0.5, use_llm=False):\n",
    "    start_time = time.time()\n",
    "\n",
    "    # Embed the incoming job description\n",
    "    embedding = embedder.encode([job_description])\n",
    "\n",
    "    # Find closest SOC code\n",
    "    distances_soc, soc_indices = soc_index.search(np.array(embedding), k=1)\n",
    "    soc_distance = distances_soc[0][0]\n",
    "    soc_result = soc_metadata[soc_indices[0][0]]\n",
    "\n",
    "    # Find closest Data Label\n",
    "    distances_label, label_indices = label_index.search(np.array(embedding), k=1)\n",
    "    label_distance = distances_label[0][0]\n",
    "    label_result = label_metadata[label_indices[0][0]]\n",
    "\n",
    "    # Apply thresholds\n",
    "    predicted_soc_code = soc_result[\"soc_code\"] if soc_distance <= threshold else \"Unknown\"\n",
    "    predicted_soc_title = soc_result[\"title\"] if soc_distance <= threshold else \"Unknown\"\n",
    "    predicted_data_label = label_result[\"label\"] if label_distance <= threshold else \"Unknown\"\n",
    "\n",
    "    # Optional LLM explanation\n",
    "    if use_llm:\n",
    "        prompt = f\"\"\"\n",
    "You are a job classification assistant.\n",
    "Given the following job description, explain why it belongs to the category '{predicted_data_label}' and SOC code '{predicted_soc_code}'.\n",
    "\n",
    "Job Description:\n",
    "{job_description}\n",
    "\n",
    "Explanation:\"\"\"\n",
    "        llm_generated_summary = llm(prompt, stream=False)\n",
    "    else:\n",
    "        llm_generated_summary = \"LLM explanation disabled.\"\n",
    "\n",
    "    elapsed_time = time.time() - start_time\n",
    "\n",
    "    return {\n",
    "        \"predicted_soc_code\": predicted_soc_code,\n",
    "        \"predicted_soc_title\": predicted_soc_title,\n",
    "        \"predicted_data_label\": predicted_data_label,\n",
    "        \"soc_distance\": soc_distance,\n",
    "        \"label_distance\": label_distance,\n",
    "        \"llm_generated_summary\": llm_generated_summary,\n",
    "        \"prediction_time_seconds\": elapsed_time\n",
    "    }"
   ]
  },
  {
   "cell_type": "code",
   "execution_count": null,
   "id": "a7d65dd7",
   "metadata": {},
   "outputs": [],
   "source": []
  },
  {
   "cell_type": "markdown",
   "metadata": {},
   "source": [
    "## Step 5: Example Usage"
   ]
  },
  {
   "cell_type": "code",
   "execution_count": null,
   "metadata": {},
   "outputs": [],
   "source": [
    "test_cases = [\n",
    "    \"Looking for a data entry clerk to input customer orders and update internal systems.\",\n",
    "    \"We need an analyst to generate business intelligence dashboards and perform statistical modelling.\",\n",
    "    \"Develop and optimize PostgreSQL databases for enterprise clients.\",\n",
    "    \"Researcher required to work on advanced AI models for speech and language processing.\",\n",
    "    \"Warehouse staff needed to manage inventory and shipping.\",\n",
    "    \"asdasdqwe123@# gibberish text not related to anything\"\n",
    "]\n",
    "\n"
   ]
  },
  {
   "cell_type": "code",
   "execution_count": null,
   "id": "881a4127",
   "metadata": {},
   "outputs": [],
   "source": [
    "for desc in test_cases:\n",
    "    print(\"📝 Job Description:\")\n",
    "    print(desc)\n",
    "    print(\"🔍 Prediction:\")\n",
    "    result = classify_job(desc, use_llm=True)  # set False to disable LLM\n",
    "    for k, v in result.items():\n",
    "        print(f\"{k}: {v}\")\n",
    "    print(\"-\" * 80)"
   ]
  },
  {
   "cell_type": "code",
   "execution_count": null,
   "id": "67c877f4",
   "metadata": {},
   "outputs": [],
   "source": [
    "import pandas as pd\n",
    "\n",
    "# Run predictions for all test cases\n",
    "test_cases = [\n",
    "    \"Looking for a data entry clerk to input customer orders and update internal systems.\",\n",
    "    \"We need an analyst to generate business intelligence dashboards and perform statistical modelling.\",\n",
    "    \"Develop and optimize PostgreSQL databases for enterprise clients.\",\n",
    "    \"Researcher required to work on advanced AI models for speech and language processing.\",\n",
    "    \"Warehouse staff needed to manage inventory and shipping.\",\n",
    "    \"asdasdqwe123@# gibberish text not related to anything\"\n",
    "]\n",
    "\n",
    "results = []\n",
    "for i, desc in enumerate(test_cases):\n",
    "    res = classify_job(desc, threshold=0.6, use_llm=False)\n",
    "    res[\"index\"] = f\"Job {i+1}\"\n",
    "    results.append(res)\n",
    "\n",
    "df_confidence = pd.DataFrame(results)"
   ]
  },
  {
   "cell_type": "code",
   "execution_count": null,
   "id": "695921f7",
   "metadata": {},
   "outputs": [],
   "source": [
    "import matplotlib.pyplot as plt\n",
    "\n",
    "plt.figure(figsize=(12, 6))\n",
    "bar_width = 0.35\n",
    "index = range(len(df_confidence))\n",
    "\n",
    "# Plot both distances\n",
    "plt.bar(index, df_confidence['soc_distance'], bar_width, label='SOC Distance', color='steelblue')\n",
    "plt.bar([i + bar_width for i in index], df_confidence['label_distance'], bar_width, label='Label Distance', color='darkorange')\n",
    "\n",
    "plt.axhline(0.6, color='red', linestyle='--', label='Threshold (0.6)')\n",
    "\n",
    "plt.xlabel('Job Description')\n",
    "plt.ylabel('Distance (lower = better match)')\n",
    "plt.title('Prediction Confidence by Distance to Nearest Match')\n",
    "plt.xticks([i + bar_width / 2 for i in index], df_confidence['index'])\n",
    "plt.legend()\n",
    "plt.tight_layout()\n",
    "plt.show()"
   ]
  }
 ],
 "metadata": {
  "kernelspec": {
   "display_name": "Python 3",
   "language": "python",
   "name": "python3"
  },
  "language_info": {
   "name": "python",
   "version": "3.10"
  }
 },
 "nbformat": 4,
 "nbformat_minor": 5
}
